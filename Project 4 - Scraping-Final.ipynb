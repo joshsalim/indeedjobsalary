{
 "cells": [
  {
   "cell_type": "markdown",
   "metadata": {},
   "source": [
    "# Project 4\n",
    "\n",
    "Executive summary\n",
    "https://docs.google.com/presentation/d/15EcRlAdKEno6WIs6bNX0qjR-nBhtpI0NSPC6uFfdkz0/edit?usp=sharing\n",
    "\n",
    "\n",
    "Some key points:\n",
    "* In summary the job searches greatly impacted my findings. The job search resulted in many data engineering, data consulting jobs that were not directly data science related. This would have had an impact on the first question where i attempted to predict what words would result in above median salary. The median salary of my data was $108k, which was impacted by soloutions architects and data consulting jobs."
   ]
  },
  {
   "cell_type": "markdown",
   "metadata": {},
   "source": [
    "## Scraping\n",
    "* Built functions for scraping\n",
    "* Used beautiful soup to scrape summaries, location, salaries, titles, and detailed job advertisement\n",
    "* Job searches included: data scientist, data analyst, data engineer, data consultant, neural network, machine learning, big data, artificial intelligence, business intelligence"
   ]
  },
  {
   "cell_type": "code",
   "execution_count": 2,
   "metadata": {
    "ExecuteTime": {
     "end_time": "2018-05-29T03:16:52.761521Z",
     "start_time": "2018-05-29T03:16:51.091986Z"
    }
   },
   "outputs": [],
   "source": [
    "from scrapy.selector import Selector\n",
    "from scrapy.http import HtmlResponse\n",
    "\n",
    "import requests\n",
    "from bs4 import BeautifulSoup\n",
    "import pandas as pd\n",
    "import re\n",
    "import numpy as np\n",
    "\n",
    "import seaborn as sns\n",
    "import matplotlib.pyplot as plt\n",
    "plt.style.use(\"fivethirtyeight\")\n",
    "sns.set_style(\"whitegrid\")\n",
    "%matplotlib inline  "
   ]
  },
  {
   "cell_type": "code",
   "execution_count": 3,
   "metadata": {
    "ExecuteTime": {
     "end_time": "2018-05-29T03:16:52.770501Z",
     "start_time": "2018-05-29T03:16:52.762520Z"
    }
   },
   "outputs": [],
   "source": [
    "# Function to create hyperlinks for each search\n",
    "def jobsearch(search_terms):\n",
    "    search_links = []\n",
    "    for terms in search_terms:\n",
    "        search_links.append(indeed_link+terms)\n",
    "    return search_links\n",
    "# jobsearch(search_terms)"
   ]
  },
  {
   "cell_type": "code",
   "execution_count": 4,
   "metadata": {
    "ExecuteTime": {
     "end_time": "2018-05-29T03:16:52.781467Z",
     "start_time": "2018-05-29T03:16:52.774485Z"
    }
   },
   "outputs": [],
   "source": [
    "# Finding number of jobs\n",
    "def max_pagenum(search):\n",
    "    r = requests.get(search)\n",
    "    soup = BeautifulSoup(r.text, 'lxml')\n",
    "    jobs = int(soup.find(\"div\",{\"id\":\"searchCount\"}).text.split()[-1].replace(\",\",\"\"))\n",
    "    max_pages = jobs - jobs%10\n",
    "    return max_pages"
   ]
  },
  {
   "cell_type": "code",
   "execution_count": 5,
   "metadata": {
    "ExecuteTime": {
     "end_time": "2018-05-29T03:16:53.221531Z",
     "start_time": "2018-05-29T03:16:53.216544Z"
    }
   },
   "outputs": [],
   "source": [
    "# def links(search):\n",
    "def searchlist(search):\n",
    "    searchlist = []\n",
    "    for num in range(10,max_pagenum(search),10):\n",
    "        searchlist.append(search + str(num))\n",
    "    return searchlist"
   ]
  },
  {
   "cell_type": "code",
   "execution_count": 6,
   "metadata": {
    "ExecuteTime": {
     "end_time": "2018-05-29T03:16:53.964189Z",
     "start_time": "2018-05-29T03:16:53.950166Z"
    }
   },
   "outputs": [],
   "source": [
    "## Function that gets job texts\n",
    "\n",
    "def get_text(url):\n",
    "    r = requests.get(url)\n",
    "#     # turn into a BeautifulSoup object\n",
    "    soup = BeautifulSoup(r.text, 'lxml')\n",
    "#     soup = BeautifulSoup(site, 'html.parser')\n",
    "    for i in soup.find_all(\"script\"):\n",
    "        i.decompose()\n",
    "    for i in soup.find_all(\"style\"):\n",
    "        i.decompose()\n",
    "    for i in soup.find_all(\"noscript\"):\n",
    "        i.decompose()\n",
    "#     for i in soup.find_all(\"div\"):\n",
    "#         i.decompose()\n",
    "    for i in soup.find_all(\"meta\"):\n",
    "        i.decompose()\n",
    "    text = soup.get_text()\n",
    "    lines = (line.strip() for line in text.splitlines()) \n",
    "    lines = [l for l in lines if l != '']\n",
    "    cleaned = ' '.join(lines)\n",
    "    return cleaned"
   ]
  },
  {
   "cell_type": "markdown",
   "metadata": {},
   "source": [
    "Scraping"
   ]
  },
  {
   "cell_type": "code",
   "execution_count": null,
   "metadata": {
    "ExecuteTime": {
     "end_time": "2018-05-02T02:42:45.734678Z",
     "start_time": "2018-05-02T02:42:45.730668Z"
    }
   },
   "outputs": [],
   "source": [
    "# Job search keyword\n",
    "indeed_link = \"https://au.indeed.com/jobs?q=\"\n",
    "# search_terms = [\"Data+Scientist&start=\",\"Neural+Network&start=\"]\n",
    "\n",
    "search_terms = [\"Data+Scientist&start=\",\"Data+analyst&start=\",\"Data+Engineer&start=\",\"Data+Consultant&start=\", \"Neural+Network&start=\",\n",
    "                \"Machine+Learning&start=\",\"Big+Data&start=\",\"Artificial+Intelligence&start=\",\"Business+Intelligence&start=\"]"
   ]
  },
  {
   "cell_type": "code",
   "execution_count": null,
   "metadata": {
    "ExecuteTime": {
     "end_time": "2018-05-02T03:34:56.577624Z",
     "start_time": "2018-05-02T02:42:50.393356Z"
    },
    "scrolled": true
   },
   "outputs": [],
   "source": [
    "# make request for that page\n",
    "json = []\n",
    "\n",
    "for search in jobsearch(search_terms):\n",
    "    print(\"now scraping search\",search)\n",
    "    for x in searchlist(search):\n",
    "        print(\"page num\",x,\"out of\",max_pagenum(x))\n",
    "        r = requests.get(x)\n",
    "        soup = BeautifulSoup(r.text, 'lxml')\n",
    "\n",
    "        for job_card in soup.find_all(\"div\",{\"class\":\"row\"}):\n",
    "            #Title\n",
    "            try:\n",
    "                title = job_card.find(\"a\").text\n",
    "            except:\n",
    "                title = \"NA\"\n",
    "            #Company\n",
    "            try:\n",
    "                company = job_card.find(\"span\").text.strip()\n",
    "            except:\n",
    "                company = \"NA\"\n",
    "            #Location\n",
    "            try:\n",
    "                location = job_card.find(\"span\", {\"class\": \"location\"}).text\n",
    "            except:\n",
    "                location = \"NA\"\n",
    "            #Summary\n",
    "            try:\n",
    "                summary = job_card.find(\"span\", {\"class\": \"summary\"}).text.strip()\n",
    "            except:\n",
    "                summary = \"NA\"\n",
    "            # Salary\n",
    "            try:\n",
    "                salary = job_card.find(\"span\",{\"class\":\"no-wrap\"}).text.strip()\n",
    "            except:\n",
    "                salary = \"NA\"\n",
    "            try:\n",
    "                keywordsearch = search\n",
    "            except:\n",
    "                keywordsearch = \"NA\"\n",
    "            # Description\n",
    "            job_links = []\n",
    "            job_links.append( \"https://au.indeed.com/viewjob?jk={}\".format(job_card.get(\"data-jk\")))\n",
    "            for text in job_links:\n",
    "                try:\n",
    "                    description = get_text(text)      \n",
    "                except:\n",
    "                    description = \"NA\"\n",
    "            job = {\"title\": title,\n",
    "                 \"company\":company,\n",
    "                 \"location\":location,\n",
    "                 \"summary\":summary,\"description\":description,\"salary\": salary, \"search\": keywordsearch}\n",
    "#             job = {\"title\": title,\n",
    "#                          \"company\":company,\n",
    "#                          \"location\":location,\n",
    "#                          \"summary\":summary,\"salary\": salary, \"search\": keywordsearch}\n",
    "            json.append(job)\n",
    "\n",
    "df = pd.DataFrame(json)"
   ]
  },
  {
   "cell_type": "code",
   "execution_count": null,
   "metadata": {
    "ExecuteTime": {
     "end_time": "2018-05-02T03:36:17.692724Z",
     "start_time": "2018-05-02T03:36:17.648576Z"
    }
   },
   "outputs": [],
   "source": [
    "df.tail()"
   ]
  },
  {
   "cell_type": "code",
   "execution_count": null,
   "metadata": {
    "ExecuteTime": {
     "end_time": "2018-05-02T04:08:14.426671Z",
     "start_time": "2018-05-02T04:08:14.419666Z"
    }
   },
   "outputs": [],
   "source": [
    "# df.to_csv(\"./indeedscrape020518.csv\")"
   ]
  },
  {
   "cell_type": "markdown",
   "metadata": {},
   "source": [
    "## Question 1\n",
    "Approach is to predict whether salary will be above or below median salary depending on data in the job description. The median salary is approximately $108k"
   ]
  },
  {
   "cell_type": "markdown",
   "metadata": {},
   "source": [
    "### EDA\n",
    "* 17,000 jobs scraped from 9 job searches using Beautiful soup\n",
    "* Description, salary, title, location, job page, summary\n",
    "* Only 5,600 unique values, only (20%) with salary 1,100\n",
    "* Cleaned  salary, converting to annual salary\n",
    "* Cleaned cities\n",
    "* Cleaned job titles using function, 40% jobs categoriesed into distinct categories\n",
    "* Dropped salary outliers, those that are more than 4 standard deviations from mean (6 removed >$300k)"
   ]
  },
  {
   "cell_type": "markdown",
   "metadata": {},
   "source": [
    "#### Initial EDA"
   ]
  },
  {
   "cell_type": "code",
   "execution_count": 8,
   "metadata": {
    "ExecuteTime": {
     "end_time": "2018-05-29T03:17:08.155778Z",
     "start_time": "2018-05-29T03:17:07.461600Z"
    },
    "scrolled": true
   },
   "outputs": [],
   "source": [
    "df = pd.read_csv(\"./indeedscrape020518.csv\", index_col= 0)\n",
    "# df.drop(columns = \" \",axis =1, inplace = True)"
   ]
  },
  {
   "cell_type": "code",
   "execution_count": 9,
   "metadata": {
    "ExecuteTime": {
     "end_time": "2018-05-29T03:17:08.181674Z",
     "start_time": "2018-05-29T03:17:08.156742Z"
    }
   },
   "outputs": [
    {
     "name": "stdout",
     "output_type": "stream",
     "text": [
      "<class 'pandas.core.frame.DataFrame'>\n",
      "Int64Index: 17101 entries, 0 to 17100\n",
      "Data columns (total 7 columns):\n",
      "company        17101 non-null object\n",
      "description    17101 non-null object\n",
      "location       17101 non-null object\n",
      "salary         4208 non-null object\n",
      "search         17101 non-null object\n",
      "summary        17101 non-null object\n",
      "title          17101 non-null object\n",
      "dtypes: object(7)\n",
      "memory usage: 1.0+ MB\n"
     ]
    }
   ],
   "source": [
    "df.info()"
   ]
  },
  {
   "cell_type": "code",
   "execution_count": 10,
   "metadata": {
    "ExecuteTime": {
     "end_time": "2018-05-29T03:17:08.200624Z",
     "start_time": "2018-05-29T03:17:08.183669Z"
    },
    "scrolled": true
   },
   "outputs": [
    {
     "data": {
      "text/html": [
       "<div>\n",
       "<style scoped>\n",
       "    .dataframe tbody tr th:only-of-type {\n",
       "        vertical-align: middle;\n",
       "    }\n",
       "\n",
       "    .dataframe tbody tr th {\n",
       "        vertical-align: top;\n",
       "    }\n",
       "\n",
       "    .dataframe thead th {\n",
       "        text-align: right;\n",
       "    }\n",
       "</style>\n",
       "<table border=\"1\" class=\"dataframe\">\n",
       "  <thead>\n",
       "    <tr style=\"text-align: right;\">\n",
       "      <th></th>\n",
       "      <th>company</th>\n",
       "      <th>description</th>\n",
       "      <th>location</th>\n",
       "      <th>salary</th>\n",
       "      <th>search</th>\n",
       "      <th>summary</th>\n",
       "      <th>title</th>\n",
       "    </tr>\n",
       "  </thead>\n",
       "  <tbody>\n",
       "    <tr>\n",
       "      <th>0</th>\n",
       "      <td>ANZ Banking Group</td>\n",
       "      <td>Lead Data Scientist/Data Architect - Chengdu j...</td>\n",
       "      <td>Sydney NSW</td>\n",
       "      <td>NaN</td>\n",
       "      <td>https://au.indeed.com/jobs?q=Data+Scientist&amp;st...</td>\n",
       "      <td>An exciting opportunity has just come for you ...</td>\n",
       "      <td>Lead Data Scientist/Data Architect - Chengdu</td>\n",
       "    </tr>\n",
       "    <tr>\n",
       "      <th>1</th>\n",
       "      <td>Sunraysia Environmental</td>\n",
       "      <td>Soil Scientist/Soil Surveyor job - Sunraysia E...</td>\n",
       "      <td>Mildura VIC</td>\n",
       "      <td>$70,000 - $90,000 a year</td>\n",
       "      <td>https://au.indeed.com/jobs?q=Data+Scientist&amp;st...</td>\n",
       "      <td>Willing to use our digital data recording syst...</td>\n",
       "      <td>Soil Scientist/Soil Surveyor</td>\n",
       "    </tr>\n",
       "    <tr>\n",
       "      <th>2</th>\n",
       "      <td>AVT Resources Pty Ltd</td>\n",
       "      <td>Chemistry Laboratory Technician/Analyst job - ...</td>\n",
       "      <td>Darwin NT</td>\n",
       "      <td>$41 - $45 an hour</td>\n",
       "      <td>https://au.indeed.com/jobs?q=Data+Scientist&amp;st...</td>\n",
       "      <td>Entering data and exporting results to the sys...</td>\n",
       "      <td>Chemistry Laboratory Technician/Analyst</td>\n",
       "    </tr>\n",
       "    <tr>\n",
       "      <th>3</th>\n",
       "      <td>CSIRO</td>\n",
       "      <td>Data Engineer - Machine Learning job - CSIRO -...</td>\n",
       "      <td>Australia</td>\n",
       "      <td>$128,000 a year</td>\n",
       "      <td>https://au.indeed.com/jobs?q=Data+Scientist&amp;st...</td>\n",
       "      <td>Designing and developing data streaming pipeli...</td>\n",
       "      <td>Data Engineer - Machine Learning</td>\n",
       "    </tr>\n",
       "    <tr>\n",
       "      <th>4</th>\n",
       "      <td>Deloitte</td>\n",
       "      <td>Data Analyst job - Deloitte - Melbourne VIC | ...</td>\n",
       "      <td>Melbourne VIC</td>\n",
       "      <td>$80,000 a year</td>\n",
       "      <td>https://au.indeed.com/jobs?q=Data+Scientist&amp;st...</td>\n",
       "      <td>Be the bridge between Business SME, data scien...</td>\n",
       "      <td>Data Analyst</td>\n",
       "    </tr>\n",
       "    <tr>\n",
       "      <th>5</th>\n",
       "      <td>BuildingIQ</td>\n",
       "      <td>Data Scientist job - BuildingIQ - Sydney NSW |...</td>\n",
       "      <td>Sydney NSW</td>\n",
       "      <td>NaN</td>\n",
       "      <td>https://au.indeed.com/jobs?q=Data+Scientist&amp;st...</td>\n",
       "      <td>We are looking for a Data Scientist to be a pa...</td>\n",
       "      <td>Data Scientist</td>\n",
       "    </tr>\n",
       "    <tr>\n",
       "      <th>6</th>\n",
       "      <td>Fortune Select</td>\n",
       "      <td>Data Scientist job - Fortune Select - Sydney N...</td>\n",
       "      <td>Sydney NSW</td>\n",
       "      <td>NaN</td>\n",
       "      <td>https://au.indeed.com/jobs?q=Data+Scientist&amp;st...</td>\n",
       "      <td>Experience using and maintaining AWS environme...</td>\n",
       "      <td>Data Scientist</td>\n",
       "    </tr>\n",
       "    <tr>\n",
       "      <th>7</th>\n",
       "      <td>BCG Digital Ventures</td>\n",
       "      <td>Data Scientist - Machine Learning Data Platfor...</td>\n",
       "      <td>Sydney NSW</td>\n",
       "      <td>NaN</td>\n",
       "      <td>https://au.indeed.com/jobs?q=Data+Scientist&amp;st...</td>\n",
       "      <td>We are looking for an exceptional Data Scienti...</td>\n",
       "      <td>Data Scientist - Machine Learning Data Platform</td>\n",
       "    </tr>\n",
       "    <tr>\n",
       "      <th>8</th>\n",
       "      <td>Arup</td>\n",
       "      <td>Data Scientist job - Arup - Sydney NSW | Indee...</td>\n",
       "      <td>Sydney NSW</td>\n",
       "      <td>NaN</td>\n",
       "      <td>https://au.indeed.com/jobs?q=Data+Scientist&amp;st...</td>\n",
       "      <td>Data Scientist (SYD0000DO). We are looking for...</td>\n",
       "      <td>Data Scientist</td>\n",
       "    </tr>\n",
       "    <tr>\n",
       "      <th>9</th>\n",
       "      <td>Macquarie University</td>\n",
       "      <td>Data Science Research Engineer job - Macquarie...</td>\n",
       "      <td>Macquarie University NSW</td>\n",
       "      <td>$100,706 - $112,058 a year</td>\n",
       "      <td>https://au.indeed.com/jobs?q=Data+Scientist&amp;st...</td>\n",
       "      <td>We are seeking a Data Science Research Enginee...</td>\n",
       "      <td>Data Science Research Engineer</td>\n",
       "    </tr>\n",
       "  </tbody>\n",
       "</table>\n",
       "</div>"
      ],
      "text/plain": [
       "                   company                                        description  \\\n",
       "0        ANZ Banking Group  Lead Data Scientist/Data Architect - Chengdu j...   \n",
       "1  Sunraysia Environmental  Soil Scientist/Soil Surveyor job - Sunraysia E...   \n",
       "2    AVT Resources Pty Ltd  Chemistry Laboratory Technician/Analyst job - ...   \n",
       "3                    CSIRO  Data Engineer - Machine Learning job - CSIRO -...   \n",
       "4                 Deloitte  Data Analyst job - Deloitte - Melbourne VIC | ...   \n",
       "5               BuildingIQ  Data Scientist job - BuildingIQ - Sydney NSW |...   \n",
       "6           Fortune Select  Data Scientist job - Fortune Select - Sydney N...   \n",
       "7     BCG Digital Ventures  Data Scientist - Machine Learning Data Platfor...   \n",
       "8                     Arup  Data Scientist job - Arup - Sydney NSW | Indee...   \n",
       "9     Macquarie University  Data Science Research Engineer job - Macquarie...   \n",
       "\n",
       "                   location                      salary  \\\n",
       "0                Sydney NSW                         NaN   \n",
       "1               Mildura VIC    $70,000 - $90,000 a year   \n",
       "2                 Darwin NT           $41 - $45 an hour   \n",
       "3                 Australia             $128,000 a year   \n",
       "4             Melbourne VIC              $80,000 a year   \n",
       "5                Sydney NSW                         NaN   \n",
       "6                Sydney NSW                         NaN   \n",
       "7                Sydney NSW                         NaN   \n",
       "8                Sydney NSW                         NaN   \n",
       "9  Macquarie University NSW  $100,706 - $112,058 a year   \n",
       "\n",
       "                                              search  \\\n",
       "0  https://au.indeed.com/jobs?q=Data+Scientist&st...   \n",
       "1  https://au.indeed.com/jobs?q=Data+Scientist&st...   \n",
       "2  https://au.indeed.com/jobs?q=Data+Scientist&st...   \n",
       "3  https://au.indeed.com/jobs?q=Data+Scientist&st...   \n",
       "4  https://au.indeed.com/jobs?q=Data+Scientist&st...   \n",
       "5  https://au.indeed.com/jobs?q=Data+Scientist&st...   \n",
       "6  https://au.indeed.com/jobs?q=Data+Scientist&st...   \n",
       "7  https://au.indeed.com/jobs?q=Data+Scientist&st...   \n",
       "8  https://au.indeed.com/jobs?q=Data+Scientist&st...   \n",
       "9  https://au.indeed.com/jobs?q=Data+Scientist&st...   \n",
       "\n",
       "                                             summary  \\\n",
       "0  An exciting opportunity has just come for you ...   \n",
       "1  Willing to use our digital data recording syst...   \n",
       "2  Entering data and exporting results to the sys...   \n",
       "3  Designing and developing data streaming pipeli...   \n",
       "4  Be the bridge between Business SME, data scien...   \n",
       "5  We are looking for a Data Scientist to be a pa...   \n",
       "6  Experience using and maintaining AWS environme...   \n",
       "7  We are looking for an exceptional Data Scienti...   \n",
       "8  Data Scientist (SYD0000DO). We are looking for...   \n",
       "9  We are seeking a Data Science Research Enginee...   \n",
       "\n",
       "                                             title  \n",
       "0     Lead Data Scientist/Data Architect - Chengdu  \n",
       "1                     Soil Scientist/Soil Surveyor  \n",
       "2          Chemistry Laboratory Technician/Analyst  \n",
       "3                 Data Engineer - Machine Learning  \n",
       "4                                     Data Analyst  \n",
       "5                                   Data Scientist  \n",
       "6                                   Data Scientist  \n",
       "7  Data Scientist - Machine Learning Data Platform  \n",
       "8                                   Data Scientist  \n",
       "9                   Data Science Research Engineer  "
      ]
     },
     "execution_count": 10,
     "metadata": {},
     "output_type": "execute_result"
    }
   ],
   "source": [
    "df.head(10)"
   ]
  },
  {
   "cell_type": "code",
   "execution_count": 11,
   "metadata": {
    "ExecuteTime": {
     "end_time": "2018-05-29T03:17:08.982883Z",
     "start_time": "2018-05-29T03:17:08.202623Z"
    }
   },
   "outputs": [],
   "source": [
    "# Regex to remove digits from the description\n",
    "df[\"description\"].replace(\"\\d\", \"\",regex = True, inplace = True)"
   ]
  },
  {
   "cell_type": "code",
   "execution_count": 12,
   "metadata": {
    "ExecuteTime": {
     "end_time": "2018-05-29T03:17:08.988517Z",
     "start_time": "2018-05-29T03:17:08.984531Z"
    }
   },
   "outputs": [
    {
     "data": {
      "text/plain": [
       "(17101, 7)"
      ]
     },
     "execution_count": 12,
     "metadata": {},
     "output_type": "execute_result"
    }
   ],
   "source": [
    "df.shape"
   ]
  },
  {
   "cell_type": "code",
   "execution_count": 13,
   "metadata": {
    "ExecuteTime": {
     "end_time": "2018-05-29T03:17:09.515448Z",
     "start_time": "2018-05-29T03:17:08.990512Z"
    }
   },
   "outputs": [],
   "source": [
    "# make sure everything is in the same format to perform Regex on description column later. Keep location as we will do other cleaning\n",
    "df['company'] = df['company'].str.lower()\n",
    "df['description'] = df['description'].str.lower()\n",
    "df['search'] = df['search'].str.lower()\n",
    "df['summary'] = df['summary'].str.lower()\n",
    "df['title'] = df['title'].str.lower()"
   ]
  },
  {
   "cell_type": "code",
   "execution_count": 14,
   "metadata": {
    "ExecuteTime": {
     "end_time": "2018-05-29T03:17:09.528075Z",
     "start_time": "2018-05-29T03:17:09.517104Z"
    }
   },
   "outputs": [
    {
     "data": {
      "text/html": [
       "<div>\n",
       "<style scoped>\n",
       "    .dataframe tbody tr th:only-of-type {\n",
       "        vertical-align: middle;\n",
       "    }\n",
       "\n",
       "    .dataframe tbody tr th {\n",
       "        vertical-align: top;\n",
       "    }\n",
       "\n",
       "    .dataframe thead th {\n",
       "        text-align: right;\n",
       "    }\n",
       "</style>\n",
       "<table border=\"1\" class=\"dataframe\">\n",
       "  <thead>\n",
       "    <tr style=\"text-align: right;\">\n",
       "      <th></th>\n",
       "      <th>company</th>\n",
       "      <th>description</th>\n",
       "      <th>location</th>\n",
       "      <th>salary</th>\n",
       "      <th>search</th>\n",
       "      <th>summary</th>\n",
       "      <th>title</th>\n",
       "    </tr>\n",
       "  </thead>\n",
       "  <tbody>\n",
       "    <tr>\n",
       "      <th>0</th>\n",
       "      <td>anz banking group</td>\n",
       "      <td>lead data scientist/data architect - chengdu j...</td>\n",
       "      <td>Sydney NSW</td>\n",
       "      <td>NaN</td>\n",
       "      <td>https://au.indeed.com/jobs?q=data+scientist&amp;st...</td>\n",
       "      <td>an exciting opportunity has just come for you ...</td>\n",
       "      <td>lead data scientist/data architect - chengdu</td>\n",
       "    </tr>\n",
       "    <tr>\n",
       "      <th>1</th>\n",
       "      <td>sunraysia environmental</td>\n",
       "      <td>soil scientist/soil surveyor job - sunraysia e...</td>\n",
       "      <td>Mildura VIC</td>\n",
       "      <td>$70,000 - $90,000 a year</td>\n",
       "      <td>https://au.indeed.com/jobs?q=data+scientist&amp;st...</td>\n",
       "      <td>willing to use our digital data recording syst...</td>\n",
       "      <td>soil scientist/soil surveyor</td>\n",
       "    </tr>\n",
       "    <tr>\n",
       "      <th>2</th>\n",
       "      <td>avt resources pty ltd</td>\n",
       "      <td>chemistry laboratory technician/analyst job - ...</td>\n",
       "      <td>Darwin NT</td>\n",
       "      <td>$41 - $45 an hour</td>\n",
       "      <td>https://au.indeed.com/jobs?q=data+scientist&amp;st...</td>\n",
       "      <td>entering data and exporting results to the sys...</td>\n",
       "      <td>chemistry laboratory technician/analyst</td>\n",
       "    </tr>\n",
       "    <tr>\n",
       "      <th>3</th>\n",
       "      <td>csiro</td>\n",
       "      <td>data engineer - machine learning job - csiro -...</td>\n",
       "      <td>Australia</td>\n",
       "      <td>$128,000 a year</td>\n",
       "      <td>https://au.indeed.com/jobs?q=data+scientist&amp;st...</td>\n",
       "      <td>designing and developing data streaming pipeli...</td>\n",
       "      <td>data engineer - machine learning</td>\n",
       "    </tr>\n",
       "    <tr>\n",
       "      <th>4</th>\n",
       "      <td>deloitte</td>\n",
       "      <td>data analyst job - deloitte - melbourne vic | ...</td>\n",
       "      <td>Melbourne VIC</td>\n",
       "      <td>$80,000 a year</td>\n",
       "      <td>https://au.indeed.com/jobs?q=data+scientist&amp;st...</td>\n",
       "      <td>be the bridge between business sme, data scien...</td>\n",
       "      <td>data analyst</td>\n",
       "    </tr>\n",
       "  </tbody>\n",
       "</table>\n",
       "</div>"
      ],
      "text/plain": [
       "                   company                                        description  \\\n",
       "0        anz banking group  lead data scientist/data architect - chengdu j...   \n",
       "1  sunraysia environmental  soil scientist/soil surveyor job - sunraysia e...   \n",
       "2    avt resources pty ltd  chemistry laboratory technician/analyst job - ...   \n",
       "3                    csiro  data engineer - machine learning job - csiro -...   \n",
       "4                 deloitte  data analyst job - deloitte - melbourne vic | ...   \n",
       "\n",
       "        location                    salary  \\\n",
       "0     Sydney NSW                       NaN   \n",
       "1    Mildura VIC  $70,000 - $90,000 a year   \n",
       "2      Darwin NT         $41 - $45 an hour   \n",
       "3      Australia           $128,000 a year   \n",
       "4  Melbourne VIC            $80,000 a year   \n",
       "\n",
       "                                              search  \\\n",
       "0  https://au.indeed.com/jobs?q=data+scientist&st...   \n",
       "1  https://au.indeed.com/jobs?q=data+scientist&st...   \n",
       "2  https://au.indeed.com/jobs?q=data+scientist&st...   \n",
       "3  https://au.indeed.com/jobs?q=data+scientist&st...   \n",
       "4  https://au.indeed.com/jobs?q=data+scientist&st...   \n",
       "\n",
       "                                             summary  \\\n",
       "0  an exciting opportunity has just come for you ...   \n",
       "1  willing to use our digital data recording syst...   \n",
       "2  entering data and exporting results to the sys...   \n",
       "3  designing and developing data streaming pipeli...   \n",
       "4  be the bridge between business sme, data scien...   \n",
       "\n",
       "                                          title  \n",
       "0  lead data scientist/data architect - chengdu  \n",
       "1                  soil scientist/soil surveyor  \n",
       "2       chemistry laboratory technician/analyst  \n",
       "3              data engineer - machine learning  \n",
       "4                                  data analyst  "
      ]
     },
     "execution_count": 14,
     "metadata": {},
     "output_type": "execute_result"
    }
   ],
   "source": [
    "df.head()"
   ]
  },
  {
   "cell_type": "code",
   "execution_count": 15,
   "metadata": {
    "ExecuteTime": {
     "end_time": "2018-05-29T03:17:09.819307Z",
     "start_time": "2018-05-29T03:17:09.530069Z"
    }
   },
   "outputs": [
    {
     "name": "stdout",
     "output_type": "stream",
     "text": [
      "(17101, 7)\n",
      "(5655, 7)\n"
     ]
    }
   ],
   "source": [
    "# Drop search from columns to ensure that duplicates can be dropped correctly\n",
    "df_test = df.drop(columns = \"search\", axis = 1)\n",
    "\n",
    "# Dropping duplicates (approx 20% no dups)\n",
    "df_nodup = df.drop_duplicates()\n",
    "print(df.shape)\n",
    "print(df_nodup.shape)"
   ]
  },
  {
   "cell_type": "markdown",
   "metadata": {
    "heading_collapsed": true
   },
   "source": [
    "#### Cleaning job titles"
   ]
  },
  {
   "cell_type": "code",
   "execution_count": 16,
   "metadata": {
    "ExecuteTime": {
     "end_time": "2018-05-29T03:17:09.886117Z",
     "start_time": "2018-05-29T03:17:09.822287Z"
    },
    "code_folding": [],
    "hidden": true
   },
   "outputs": [
    {
     "name": "stderr",
     "output_type": "stream",
     "text": [
      "C:\\Users\\Josh Lim\\Anaconda3\\lib\\site-packages\\ipykernel_launcher.py:2: SettingWithCopyWarning: \n",
      "A value is trying to be set on a copy of a slice from a DataFrame.\n",
      "Try using .loc[row_indexer,col_indexer] = value instead\n",
      "\n",
      "See the caveats in the documentation: http://pandas.pydata.org/pandas-docs/stable/indexing.html#indexing-view-versus-copy\n",
      "  \n"
     ]
    }
   ],
   "source": [
    "# Create new column\n",
    "df_nodup[\"title_clean\"] = df_nodup[\"title\"]"
   ]
  },
  {
   "cell_type": "code",
   "execution_count": 17,
   "metadata": {
    "ExecuteTime": {
     "end_time": "2018-05-29T03:17:09.892101Z",
     "start_time": "2018-05-29T03:17:09.887115Z"
    },
    "hidden": true
   },
   "outputs": [],
   "source": [
    "# Function to do matching\n",
    "def search(df, *words):\n",
    "    \"\"\"\n",
    "    Return a sub-DataFrame of those rows whose Name column match all the words.\n",
    "    \"\"\"\n",
    "    return df[np.logical_and.reduce([df.str.contains(word) for word in words])]"
   ]
  },
  {
   "cell_type": "code",
   "execution_count": 18,
   "metadata": {
    "ExecuteTime": {
     "end_time": "2018-05-29T03:17:12.855185Z",
     "start_time": "2018-05-29T03:17:09.894096Z"
    },
    "hidden": true,
    "scrolled": true
   },
   "outputs": [
    {
     "name": "stderr",
     "output_type": "stream",
     "text": [
      "C:\\Users\\Josh Lim\\Anaconda3\\lib\\site-packages\\pandas\\core\\indexing.py:194: SettingWithCopyWarning: \n",
      "A value is trying to be set on a copy of a slice from a DataFrame\n",
      "\n",
      "See the caveats in the documentation: http://pandas.pydata.org/pandas-docs/stable/indexing.html#indexing-view-versus-copy\n",
      "  self._setitem_with_indexer(indexer, value)\n",
      "C:\\Users\\Josh Lim\\Anaconda3\\lib\\site-packages\\ipykernel_launcher.py:2: SettingWithCopyWarning: \n",
      "A value is trying to be set on a copy of a slice from a DataFrame\n",
      "\n",
      "See the caveats in the documentation: http://pandas.pydata.org/pandas-docs/stable/indexing.html#indexing-view-versus-copy\n",
      "  \n",
      "C:\\Users\\Josh Lim\\Anaconda3\\lib\\site-packages\\ipykernel_launcher.py:3: SettingWithCopyWarning: \n",
      "A value is trying to be set on a copy of a slice from a DataFrame\n",
      "\n",
      "See the caveats in the documentation: http://pandas.pydata.org/pandas-docs/stable/indexing.html#indexing-view-versus-copy\n",
      "  This is separate from the ipykernel package so we can avoid doing imports until\n",
      "C:\\Users\\Josh Lim\\Anaconda3\\lib\\site-packages\\ipykernel_launcher.py:4: SettingWithCopyWarning: \n",
      "A value is trying to be set on a copy of a slice from a DataFrame\n",
      "\n",
      "See the caveats in the documentation: http://pandas.pydata.org/pandas-docs/stable/indexing.html#indexing-view-versus-copy\n",
      "  after removing the cwd from sys.path.\n",
      "C:\\Users\\Josh Lim\\Anaconda3\\lib\\site-packages\\ipykernel_launcher.py:5: SettingWithCopyWarning: \n",
      "A value is trying to be set on a copy of a slice from a DataFrame\n",
      "\n",
      "See the caveats in the documentation: http://pandas.pydata.org/pandas-docs/stable/indexing.html#indexing-view-versus-copy\n",
      "  \"\"\"\n",
      "C:\\Users\\Josh Lim\\Anaconda3\\lib\\site-packages\\ipykernel_launcher.py:6: SettingWithCopyWarning: \n",
      "A value is trying to be set on a copy of a slice from a DataFrame\n",
      "\n",
      "See the caveats in the documentation: http://pandas.pydata.org/pandas-docs/stable/indexing.html#indexing-view-versus-copy\n",
      "  \n",
      "C:\\Users\\Josh Lim\\Anaconda3\\lib\\site-packages\\ipykernel_launcher.py:7: SettingWithCopyWarning: \n",
      "A value is trying to be set on a copy of a slice from a DataFrame\n",
      "\n",
      "See the caveats in the documentation: http://pandas.pydata.org/pandas-docs/stable/indexing.html#indexing-view-versus-copy\n",
      "  import sys\n",
      "C:\\Users\\Josh Lim\\Anaconda3\\lib\\site-packages\\ipykernel_launcher.py:8: SettingWithCopyWarning: \n",
      "A value is trying to be set on a copy of a slice from a DataFrame\n",
      "\n",
      "See the caveats in the documentation: http://pandas.pydata.org/pandas-docs/stable/indexing.html#indexing-view-versus-copy\n",
      "  \n",
      "C:\\Users\\Josh Lim\\Anaconda3\\lib\\site-packages\\ipykernel_launcher.py:9: SettingWithCopyWarning: \n",
      "A value is trying to be set on a copy of a slice from a DataFrame\n",
      "\n",
      "See the caveats in the documentation: http://pandas.pydata.org/pandas-docs/stable/indexing.html#indexing-view-versus-copy\n",
      "  if __name__ == '__main__':\n",
      "C:\\Users\\Josh Lim\\Anaconda3\\lib\\site-packages\\ipykernel_launcher.py:10: SettingWithCopyWarning: \n",
      "A value is trying to be set on a copy of a slice from a DataFrame\n",
      "\n",
      "See the caveats in the documentation: http://pandas.pydata.org/pandas-docs/stable/indexing.html#indexing-view-versus-copy\n",
      "  # Remove the CWD from sys.path while we load stuff.\n",
      "C:\\Users\\Josh Lim\\Anaconda3\\lib\\site-packages\\ipykernel_launcher.py:11: SettingWithCopyWarning: \n",
      "A value is trying to be set on a copy of a slice from a DataFrame\n",
      "\n",
      "See the caveats in the documentation: http://pandas.pydata.org/pandas-docs/stable/indexing.html#indexing-view-versus-copy\n",
      "  # This is added back by InteractiveShellApp.init_path()\n",
      "C:\\Users\\Josh Lim\\Anaconda3\\lib\\site-packages\\ipykernel_launcher.py:12: SettingWithCopyWarning: \n",
      "A value is trying to be set on a copy of a slice from a DataFrame\n",
      "\n",
      "See the caveats in the documentation: http://pandas.pydata.org/pandas-docs/stable/indexing.html#indexing-view-versus-copy\n",
      "  if sys.path[0] == '':\n",
      "C:\\Users\\Josh Lim\\Anaconda3\\lib\\site-packages\\ipykernel_launcher.py:13: SettingWithCopyWarning: \n",
      "A value is trying to be set on a copy of a slice from a DataFrame\n",
      "\n",
      "See the caveats in the documentation: http://pandas.pydata.org/pandas-docs/stable/indexing.html#indexing-view-versus-copy\n",
      "  del sys.path[0]\n",
      "C:\\Users\\Josh Lim\\Anaconda3\\lib\\site-packages\\ipykernel_launcher.py:14: SettingWithCopyWarning: \n",
      "A value is trying to be set on a copy of a slice from a DataFrame\n",
      "\n",
      "See the caveats in the documentation: http://pandas.pydata.org/pandas-docs/stable/indexing.html#indexing-view-versus-copy\n",
      "  \n",
      "C:\\Users\\Josh Lim\\Anaconda3\\lib\\site-packages\\ipykernel_launcher.py:15: SettingWithCopyWarning: \n",
      "A value is trying to be set on a copy of a slice from a DataFrame\n",
      "\n",
      "See the caveats in the documentation: http://pandas.pydata.org/pandas-docs/stable/indexing.html#indexing-view-versus-copy\n",
      "  from ipykernel import kernelapp as app\n",
      "C:\\Users\\Josh Lim\\Anaconda3\\lib\\site-packages\\ipykernel_launcher.py:16: SettingWithCopyWarning: \n",
      "A value is trying to be set on a copy of a slice from a DataFrame\n",
      "\n",
      "See the caveats in the documentation: http://pandas.pydata.org/pandas-docs/stable/indexing.html#indexing-view-versus-copy\n",
      "  app.launch_new_instance()\n",
      "C:\\Users\\Josh Lim\\Anaconda3\\lib\\site-packages\\ipykernel_launcher.py:17: SettingWithCopyWarning: \n",
      "A value is trying to be set on a copy of a slice from a DataFrame\n",
      "\n",
      "See the caveats in the documentation: http://pandas.pydata.org/pandas-docs/stable/indexing.html#indexing-view-versus-copy\n",
      "C:\\Users\\Josh Lim\\Anaconda3\\lib\\site-packages\\ipykernel_launcher.py:18: SettingWithCopyWarning: \n",
      "A value is trying to be set on a copy of a slice from a DataFrame\n",
      "\n",
      "See the caveats in the documentation: http://pandas.pydata.org/pandas-docs/stable/indexing.html#indexing-view-versus-copy\n",
      "C:\\Users\\Josh Lim\\Anaconda3\\lib\\site-packages\\ipykernel_launcher.py:19: SettingWithCopyWarning: \n",
      "A value is trying to be set on a copy of a slice from a DataFrame\n",
      "\n",
      "See the caveats in the documentation: http://pandas.pydata.org/pandas-docs/stable/indexing.html#indexing-view-versus-copy\n",
      "C:\\Users\\Josh Lim\\Anaconda3\\lib\\site-packages\\ipykernel_launcher.py:20: SettingWithCopyWarning: \n",
      "A value is trying to be set on a copy of a slice from a DataFrame\n",
      "\n",
      "See the caveats in the documentation: http://pandas.pydata.org/pandas-docs/stable/indexing.html#indexing-view-versus-copy\n",
      "C:\\Users\\Josh Lim\\Anaconda3\\lib\\site-packages\\ipykernel_launcher.py:21: SettingWithCopyWarning: \n",
      "A value is trying to be set on a copy of a slice from a DataFrame\n",
      "\n",
      "See the caveats in the documentation: http://pandas.pydata.org/pandas-docs/stable/indexing.html#indexing-view-versus-copy\n",
      "C:\\Users\\Josh Lim\\Anaconda3\\lib\\site-packages\\ipykernel_launcher.py:22: SettingWithCopyWarning: \n",
      "A value is trying to be set on a copy of a slice from a DataFrame\n",
      "\n",
      "See the caveats in the documentation: http://pandas.pydata.org/pandas-docs/stable/indexing.html#indexing-view-versus-copy\n",
      "C:\\Users\\Josh Lim\\Anaconda3\\lib\\site-packages\\ipykernel_launcher.py:23: SettingWithCopyWarning: \n",
      "A value is trying to be set on a copy of a slice from a DataFrame\n",
      "\n",
      "See the caveats in the documentation: http://pandas.pydata.org/pandas-docs/stable/indexing.html#indexing-view-versus-copy\n",
      "C:\\Users\\Josh Lim\\Anaconda3\\lib\\site-packages\\ipykernel_launcher.py:24: SettingWithCopyWarning: \n",
      "A value is trying to be set on a copy of a slice from a DataFrame\n",
      "\n",
      "See the caveats in the documentation: http://pandas.pydata.org/pandas-docs/stable/indexing.html#indexing-view-versus-copy\n",
      "C:\\Users\\Josh Lim\\Anaconda3\\lib\\site-packages\\ipykernel_launcher.py:25: SettingWithCopyWarning: \n",
      "A value is trying to be set on a copy of a slice from a DataFrame\n",
      "\n",
      "See the caveats in the documentation: http://pandas.pydata.org/pandas-docs/stable/indexing.html#indexing-view-versus-copy\n",
      "C:\\Users\\Josh Lim\\Anaconda3\\lib\\site-packages\\ipykernel_launcher.py:26: SettingWithCopyWarning: \n",
      "A value is trying to be set on a copy of a slice from a DataFrame\n",
      "\n",
      "See the caveats in the documentation: http://pandas.pydata.org/pandas-docs/stable/indexing.html#indexing-view-versus-copy\n",
      "C:\\Users\\Josh Lim\\Anaconda3\\lib\\site-packages\\ipykernel_launcher.py:27: SettingWithCopyWarning: \n",
      "A value is trying to be set on a copy of a slice from a DataFrame\n",
      "\n",
      "See the caveats in the documentation: http://pandas.pydata.org/pandas-docs/stable/indexing.html#indexing-view-versus-copy\n"
     ]
    }
   ],
   "source": [
    "# Searching titles with and clause, replacing with standard titles. Did major\n",
    "df_nodup.loc[search(df_nodup[\"title_clean\"],\"data\",\"sci\", \"ead\").index,\"title_clean\"] = \"1.lead_datascience\"\n",
    "df_nodup.loc[search(df_nodup[\"title_clean\"],\"data\",\"sci\", \"seni\").index,\"title_clean\"] = \"2.senior_datascience\"\n",
    "df_nodup.loc[search(df_nodup[\"title_clean\"],\"machine\").index,\"title_clean\"] = \"2.senior_datascience\"\n",
    "df_nodup.loc[search(df_nodup[\"title_clean\"],\"arti\").index,\"title_clean\"] = \"2.senior_datascience\" # artificial intel high level\n",
    "df_nodup.loc[search(df_nodup[\"title_clean\"],\"data sci\").index,\"title_clean\"] = \"3.data_scientist\" #includes junior\n",
    "df_nodup.loc[search(df_nodup[\"title_clean\"],\"data \", \"sci\").index,\"title_clean\"] = \"3.data_scientist\"\n",
    "df_nodup.loc[search(df_nodup[\"title_clean\"],\"business analyst\").index,\"title_clean\"] = \"4.business analyst\"\n",
    "df_nodup.loc[search(df_nodup[\"title_clean\"],\"big data\", \"eng\").index,\"title_clean\"] = \"5.bigdata_engineer\"\n",
    "df_nodup.loc[search(df_nodup[\"title_clean\"],\"data eng\").index,\"title_clean\"] = \"6.data_engineer\"\n",
    "df_nodup.loc[search(df_nodup[\"title_clean\"],\"senior \", \"data\", \"analy\").index,\"title_clean\"] = \"7.senior_dataalyst\"\n",
    "df_nodup.loc[search(df_nodup[\"title_clean\"],\"data\", \"analy\").index,\"title_clean\"] = \"8.dataalyst\"\n",
    "df_nodup.loc[search(df_nodup[\"title_clean\"],\"big data\").index,\"title_clean\"] = \"9.bigdata_consult/archtt\"\n",
    "df_nodup.loc[search(df_nodup[\"title_clean\"],\"int\",\"bus\",\"man\").index,\"title_clean\"] = \"10.manager_BI/Report\"\n",
    "df_nodup.loc[search(df_nodup[\"title_clean\"],\"int\",\"bus\",\"sen\").index,\"title_clean\"] = \"7.senior_dataalyst\"\n",
    "df_nodup.loc[search(df_nodup[\"title_clean\"],\"int\",\"bus\",\"ana\").index,\"title_clean\"] = \"8.dataalyst\"\n",
    "df_nodup.loc[search(df_nodup[\"title_clean\"],\" engineer\", \"software\").index,\"title_clean\"] = \"11.sftware_engineer\"\n",
    "df_nodup.loc[search(df_nodup[\"title_clean\"],\"arch\", \"sol\").index,\"title_clean\"] = \"12.solutions_architect\"\n",
    "df_nodup.loc[search(df_nodup[\"title_clean\"],\"report\", \"sen\").index,\"title_clean\"] = \"7.senior_dataalyst\"\n",
    "df_nodup.loc[search(df_nodup[\"title_clean\"],\"report\",\"man\").index,\"title_clean\"] = \"10.manager_BI/Report\"\n",
    "df_nodup.loc[search(df_nodup[\"title_clean\"],\"report\",\"ana\").index,\"title_clean\"] = \"8.dataalyst\"\n",
    "df_nodup.loc[search(df_nodup[\"title_clean\"],\"comm\", \"sen\").index,\"title_clean\"] = \"7.senior_dataalyst\"\n",
    "df_nodup.loc[search(df_nodup[\"title_clean\"],\"comm\",\"ana\").index,\"title_clean\"] = \"8.dataalyst\"\n",
    "df_nodup.loc[search(df_nodup[\"title_clean\"],\"analytic\").index,\"title_clean\"] = \"13.analytics\"\n",
    "df_nodup.loc[search(df_nodup[\"title_clean\"],\"tabl\").index,\"title_clean\"] = \"13.analytics\"\n",
    "df_nodup.loc[search(df_nodup[\"title_clean\"],\"sale\").index,\"title_clean\"] = \"14.sales_acctexec\"\n",
    "df_nodup.loc[search(df_nodup[\"title_clean\"],\"acc\").index,\"title_clean\"] = \"14.sales_acctmgr\""
   ]
  },
  {
   "cell_type": "code",
   "execution_count": 19,
   "metadata": {
    "ExecuteTime": {
     "end_time": "2018-05-29T03:17:12.868141Z",
     "start_time": "2018-05-29T03:17:12.857206Z"
    },
    "hidden": true,
    "scrolled": true
   },
   "outputs": [
    {
     "data": {
      "text/plain": [
       "8.dataalyst                                                        564\n",
       "4.business analyst                                                 289\n",
       "14.sales_acctmgr                                                   249\n",
       "3.data_scientist                                                   237\n",
       "2.senior_datascience                                               169\n",
       "11.sftware_engineer                                                156\n",
       "6.data_engineer                                                    133\n",
       "7.senior_dataalyst                                                 110\n",
       "13.analytics                                                        89\n",
       "12.solutions_architect                                              73\n",
       "5.bigdata_engineer                                                  71\n",
       "1.lead_datascience                                                  62\n",
       "9.bigdata_consult/archtt                                            44\n",
       "10.manager_BI/Report                                                27\n",
       "senior network engineer                                             16\n",
       "devops engineer                                                     15\n",
       "analyst                                                             15\n",
       "senior consultant                                                   14\n",
       "consultant                                                          11\n",
       "geotechnical engineer                                               11\n",
       "systems analyst                                                     10\n",
       "solutions engineer                                                  10\n",
       "test analyst                                                         9\n",
       "pricing analyst                                                      8\n",
       "senior systems engineer                                              8\n",
       "cloud engineer                                                       7\n",
       "research officer/ economic analyst, competition economics            7\n",
       "microsoft bi senior to managing consultant                           7\n",
       "systems engineer                                                     7\n",
       "interior drafts person for retail projects                           7\n",
       "                                                                  ... \n",
       "environmental scientist position (erm sydney)site investigat...      1\n",
       "senior research project officer                                      1\n",
       "project officer lead - public sector                                 1\n",
       "banking administrator                                                1\n",
       "edp program manager                                                  1\n",
       "remediation consultant                                               1\n",
       "senior consultant, it internal audit                                 1\n",
       "quantitative fisheries scientist                                     1\n",
       "technology solutions principal                                       1\n",
       "members experience coordinator                                       1\n",
       "technology consultant                                                1\n",
       "business manager, systems and solutions                              1\n",
       "customer support officer                                             1\n",
       "senior information security analyst                                  1\n",
       "technical program manager                                            1\n",
       "crm marketing manager | retail                                       1\n",
       "leidos connect manager                                               1\n",
       "research data officer                                                1\n",
       "quality assurance team leader - sydney or melbourne                  1\n",
       "investigation analyst                                                1\n",
       "contract administration officer                                      1\n",
       "technical solutions engineer, chrome and android, google clo...      1\n",
       "digital producer                                                     1\n",
       "hr assistant/recruitment consultant                                  1\n",
       "field service engineer - melbourne                                   1\n",
       "power bi developer - cbd - financial                                 1\n",
       "principal site reliability engineer - advisory                       1\n",
       "talent acquisition manager                                           1\n",
       "process expert                                                       1\n",
       "abuse engineer - sydney                                              1\n",
       "Name: title_clean, Length: 2116, dtype: int64"
      ]
     },
     "execution_count": 19,
     "metadata": {},
     "output_type": "execute_result"
    }
   ],
   "source": [
    "df_nodup[\"title_clean\"].value_counts()\n",
    "# df_nodup[\"title_clean\"].shape"
   ]
  },
  {
   "cell_type": "code",
   "execution_count": 20,
   "metadata": {
    "ExecuteTime": {
     "end_time": "2018-05-29T03:17:12.875124Z",
     "start_time": "2018-05-29T03:17:12.869139Z"
    },
    "hidden": true
   },
   "outputs": [],
   "source": [
    "titles = ['8.dataalyst', '4.business analyst', '14.sales_acctmgr',\n",
    "       '3.data_scientist', '2.senior_datascience', '11.sftware_engineer',\n",
    "       '6.data_engineer', '7.senior_dataalyst', '13.analytics',\n",
    "       '12.solutions_architect', '5.bigdata_engineer', '1.lead_datascience',\n",
    "       '9.bigdata_consult/archtt', '10.manager_BI/Report', \"Other\"]\n",
    "titles = pd.Series(titles)"
   ]
  },
  {
   "cell_type": "code",
   "execution_count": 21,
   "metadata": {
    "ExecuteTime": {
     "end_time": "2018-05-29T03:17:12.976851Z",
     "start_time": "2018-05-29T03:17:12.877118Z"
    },
    "hidden": true
   },
   "outputs": [
    {
     "name": "stderr",
     "output_type": "stream",
     "text": [
      "C:\\Users\\Josh Lim\\Anaconda3\\lib\\site-packages\\pandas\\core\\indexing.py:194: SettingWithCopyWarning: \n",
      "A value is trying to be set on a copy of a slice from a DataFrame\n",
      "\n",
      "See the caveats in the documentation: http://pandas.pydata.org/pandas-docs/stable/indexing.html#indexing-view-versus-copy\n",
      "  self._setitem_with_indexer(indexer, value)\n",
      "C:\\Users\\Josh Lim\\Anaconda3\\lib\\site-packages\\ipykernel_launcher.py:2: SettingWithCopyWarning: \n",
      "A value is trying to be set on a copy of a slice from a DataFrame\n",
      "\n",
      "See the caveats in the documentation: http://pandas.pydata.org/pandas-docs/stable/indexing.html#indexing-view-versus-copy\n",
      "  \n"
     ]
    }
   ],
   "source": [
    "# rename all other jobs as \"Other\"\n",
    "df_nodup.loc[~df_nodup[\"title_clean\"].isin(titles),\"title_clean\"] = \"Other\""
   ]
  },
  {
   "cell_type": "code",
   "execution_count": 22,
   "metadata": {
    "ExecuteTime": {
     "end_time": "2018-05-29T03:17:12.982835Z",
     "start_time": "2018-05-29T03:17:12.978847Z"
    },
    "hidden": true
   },
   "outputs": [],
   "source": [
    "# df_title_clean = df_nodup[df_nodup[\"title_clean\"].isin(titles)]\n",
    "# df_title_clean.shape"
   ]
  },
  {
   "cell_type": "markdown",
   "metadata": {},
   "source": [
    "#### Dealing with salary"
   ]
  },
  {
   "cell_type": "code",
   "execution_count": 23,
   "metadata": {
    "ExecuteTime": {
     "end_time": "2018-05-29T03:17:12.990814Z",
     "start_time": "2018-05-29T03:17:12.984829Z"
    }
   },
   "outputs": [
    {
     "name": "stdout",
     "output_type": "stream",
     "text": [
      "(1114, 8)\n"
     ]
    }
   ],
   "source": [
    "# Removing rows with no salary\n",
    "df_salaryonly = df_nodup[pd.notnull(df_nodup[\"salary\"])]\n",
    "print(df_salaryonly.shape)"
   ]
  },
  {
   "cell_type": "code",
   "execution_count": 24,
   "metadata": {
    "ExecuteTime": {
     "end_time": "2018-05-29T03:17:13.004776Z",
     "start_time": "2018-05-29T03:17:12.991811Z"
    }
   },
   "outputs": [
    {
     "data": {
      "text/html": [
       "<div>\n",
       "<style scoped>\n",
       "    .dataframe tbody tr th:only-of-type {\n",
       "        vertical-align: middle;\n",
       "    }\n",
       "\n",
       "    .dataframe tbody tr th {\n",
       "        vertical-align: top;\n",
       "    }\n",
       "\n",
       "    .dataframe thead th {\n",
       "        text-align: right;\n",
       "    }\n",
       "</style>\n",
       "<table border=\"1\" class=\"dataframe\">\n",
       "  <thead>\n",
       "    <tr style=\"text-align: right;\">\n",
       "      <th></th>\n",
       "      <th>company</th>\n",
       "      <th>description</th>\n",
       "      <th>location</th>\n",
       "      <th>salary</th>\n",
       "      <th>search</th>\n",
       "      <th>summary</th>\n",
       "      <th>title</th>\n",
       "      <th>title_clean</th>\n",
       "    </tr>\n",
       "  </thead>\n",
       "  <tbody>\n",
       "    <tr>\n",
       "      <th>1</th>\n",
       "      <td>sunraysia environmental</td>\n",
       "      <td>soil scientist/soil surveyor job - sunraysia e...</td>\n",
       "      <td>Mildura VIC</td>\n",
       "      <td>$70,000 - $90,000 a year</td>\n",
       "      <td>https://au.indeed.com/jobs?q=data+scientist&amp;st...</td>\n",
       "      <td>willing to use our digital data recording syst...</td>\n",
       "      <td>soil scientist/soil surveyor</td>\n",
       "      <td>Other</td>\n",
       "    </tr>\n",
       "    <tr>\n",
       "      <th>2</th>\n",
       "      <td>avt resources pty ltd</td>\n",
       "      <td>chemistry laboratory technician/analyst job - ...</td>\n",
       "      <td>Darwin NT</td>\n",
       "      <td>$41 - $45 an hour</td>\n",
       "      <td>https://au.indeed.com/jobs?q=data+scientist&amp;st...</td>\n",
       "      <td>entering data and exporting results to the sys...</td>\n",
       "      <td>chemistry laboratory technician/analyst</td>\n",
       "      <td>Other</td>\n",
       "    </tr>\n",
       "    <tr>\n",
       "      <th>3</th>\n",
       "      <td>csiro</td>\n",
       "      <td>data engineer - machine learning job - csiro -...</td>\n",
       "      <td>Australia</td>\n",
       "      <td>$128,000 a year</td>\n",
       "      <td>https://au.indeed.com/jobs?q=data+scientist&amp;st...</td>\n",
       "      <td>designing and developing data streaming pipeli...</td>\n",
       "      <td>data engineer - machine learning</td>\n",
       "      <td>2.senior_datascience</td>\n",
       "    </tr>\n",
       "    <tr>\n",
       "      <th>4</th>\n",
       "      <td>deloitte</td>\n",
       "      <td>data analyst job - deloitte - melbourne vic | ...</td>\n",
       "      <td>Melbourne VIC</td>\n",
       "      <td>$80,000 a year</td>\n",
       "      <td>https://au.indeed.com/jobs?q=data+scientist&amp;st...</td>\n",
       "      <td>be the bridge between business sme, data scien...</td>\n",
       "      <td>data analyst</td>\n",
       "      <td>8.dataalyst</td>\n",
       "    </tr>\n",
       "    <tr>\n",
       "      <th>9</th>\n",
       "      <td>macquarie university</td>\n",
       "      <td>data science research engineer job - macquarie...</td>\n",
       "      <td>Macquarie University NSW</td>\n",
       "      <td>$100,706 - $112,058 a year</td>\n",
       "      <td>https://au.indeed.com/jobs?q=data+scientist&amp;st...</td>\n",
       "      <td>we are seeking a data science research enginee...</td>\n",
       "      <td>data science research engineer</td>\n",
       "      <td>3.data_scientist</td>\n",
       "    </tr>\n",
       "  </tbody>\n",
       "</table>\n",
       "</div>"
      ],
      "text/plain": [
       "                   company                                        description  \\\n",
       "1  sunraysia environmental  soil scientist/soil surveyor job - sunraysia e...   \n",
       "2    avt resources pty ltd  chemistry laboratory technician/analyst job - ...   \n",
       "3                    csiro  data engineer - machine learning job - csiro -...   \n",
       "4                 deloitte  data analyst job - deloitte - melbourne vic | ...   \n",
       "9     macquarie university  data science research engineer job - macquarie...   \n",
       "\n",
       "                   location                      salary  \\\n",
       "1               Mildura VIC    $70,000 - $90,000 a year   \n",
       "2                 Darwin NT           $41 - $45 an hour   \n",
       "3                 Australia             $128,000 a year   \n",
       "4             Melbourne VIC              $80,000 a year   \n",
       "9  Macquarie University NSW  $100,706 - $112,058 a year   \n",
       "\n",
       "                                              search  \\\n",
       "1  https://au.indeed.com/jobs?q=data+scientist&st...   \n",
       "2  https://au.indeed.com/jobs?q=data+scientist&st...   \n",
       "3  https://au.indeed.com/jobs?q=data+scientist&st...   \n",
       "4  https://au.indeed.com/jobs?q=data+scientist&st...   \n",
       "9  https://au.indeed.com/jobs?q=data+scientist&st...   \n",
       "\n",
       "                                             summary  \\\n",
       "1  willing to use our digital data recording syst...   \n",
       "2  entering data and exporting results to the sys...   \n",
       "3  designing and developing data streaming pipeli...   \n",
       "4  be the bridge between business sme, data scien...   \n",
       "9  we are seeking a data science research enginee...   \n",
       "\n",
       "                                     title           title_clean  \n",
       "1             soil scientist/soil surveyor                 Other  \n",
       "2  chemistry laboratory technician/analyst                 Other  \n",
       "3         data engineer - machine learning  2.senior_datascience  \n",
       "4                             data analyst           8.dataalyst  \n",
       "9           data science research engineer      3.data_scientist  "
      ]
     },
     "execution_count": 24,
     "metadata": {},
     "output_type": "execute_result"
    }
   ],
   "source": [
    "df_salaryonly.head()"
   ]
  },
  {
   "cell_type": "code",
   "execution_count": 25,
   "metadata": {
    "ExecuteTime": {
     "end_time": "2018-05-29T03:17:13.157393Z",
     "start_time": "2018-05-29T03:17:13.005775Z"
    }
   },
   "outputs": [],
   "source": [
    "# Trying to get salary column\n",
    "split_salary = lambda x: pd.Series([i for i in reversed(x.split(' '))])\n",
    "salary_cleaning = df_salaryonly['salary'].apply(split_salary)"
   ]
  },
  {
   "cell_type": "code",
   "execution_count": 26,
   "metadata": {
    "ExecuteTime": {
     "end_time": "2018-05-29T03:17:13.164385Z",
     "start_time": "2018-05-29T03:17:13.158370Z"
    }
   },
   "outputs": [
    {
     "data": {
      "text/plain": [
       "(1114, 5)"
      ]
     },
     "execution_count": 26,
     "metadata": {},
     "output_type": "execute_result"
    }
   ],
   "source": [
    "salary_cleaning.shape"
   ]
  },
  {
   "cell_type": "code",
   "execution_count": 27,
   "metadata": {
    "ExecuteTime": {
     "end_time": "2018-05-29T03:17:13.174322Z",
     "start_time": "2018-05-29T03:17:13.166349Z"
    }
   },
   "outputs": [],
   "source": [
    "# Dropping columns with no real value\n",
    "salary_cleaning1 = salary_cleaning.drop(columns = 3, axis = 1)\n",
    "salary_cleaning2 = salary_cleaning1.drop(columns = 1, axis = 1)"
   ]
  },
  {
   "cell_type": "code",
   "execution_count": 28,
   "metadata": {
    "ExecuteTime": {
     "end_time": "2018-05-29T03:17:13.185297Z",
     "start_time": "2018-05-29T03:17:13.176317Z"
    }
   },
   "outputs": [
    {
     "data": {
      "text/html": [
       "<div>\n",
       "<style scoped>\n",
       "    .dataframe tbody tr th:only-of-type {\n",
       "        vertical-align: middle;\n",
       "    }\n",
       "\n",
       "    .dataframe tbody tr th {\n",
       "        vertical-align: top;\n",
       "    }\n",
       "\n",
       "    .dataframe thead th {\n",
       "        text-align: right;\n",
       "    }\n",
       "</style>\n",
       "<table border=\"1\" class=\"dataframe\">\n",
       "  <thead>\n",
       "    <tr style=\"text-align: right;\">\n",
       "      <th></th>\n",
       "      <th>0</th>\n",
       "      <th>2</th>\n",
       "      <th>4</th>\n",
       "    </tr>\n",
       "  </thead>\n",
       "  <tbody>\n",
       "    <tr>\n",
       "      <th>1</th>\n",
       "      <td>year</td>\n",
       "      <td>$90,000</td>\n",
       "      <td>$70,000</td>\n",
       "    </tr>\n",
       "    <tr>\n",
       "      <th>2</th>\n",
       "      <td>hour</td>\n",
       "      <td>$45</td>\n",
       "      <td>$41</td>\n",
       "    </tr>\n",
       "    <tr>\n",
       "      <th>3</th>\n",
       "      <td>year</td>\n",
       "      <td>$128,000</td>\n",
       "      <td>NaN</td>\n",
       "    </tr>\n",
       "    <tr>\n",
       "      <th>4</th>\n",
       "      <td>year</td>\n",
       "      <td>$80,000</td>\n",
       "      <td>NaN</td>\n",
       "    </tr>\n",
       "    <tr>\n",
       "      <th>9</th>\n",
       "      <td>year</td>\n",
       "      <td>$112,058</td>\n",
       "      <td>$100,706</td>\n",
       "    </tr>\n",
       "  </tbody>\n",
       "</table>\n",
       "</div>"
      ],
      "text/plain": [
       "      0         2         4\n",
       "1  year   $90,000   $70,000\n",
       "2  hour       $45       $41\n",
       "3  year  $128,000       NaN\n",
       "4  year   $80,000       NaN\n",
       "9  year  $112,058  $100,706"
      ]
     },
     "execution_count": 28,
     "metadata": {},
     "output_type": "execute_result"
    }
   ],
   "source": [
    "salary_cleaning2.head()"
   ]
  },
  {
   "cell_type": "code",
   "execution_count": 29,
   "metadata": {
    "ExecuteTime": {
     "end_time": "2018-05-29T03:17:13.198259Z",
     "start_time": "2018-05-29T03:17:13.187289Z"
    }
   },
   "outputs": [],
   "source": [
    "# Creating functions\n",
    "def remove_comma(x):\n",
    "    try:\n",
    "        return x.replace(\",\",\"\")\n",
    "    except:\n",
    "        return x\n",
    "\n",
    "# def remove_dot(x):\n",
    "#     try:\n",
    "#         return x.replace(\".\",\",\")\n",
    "#     except:\n",
    "#         return x\n",
    "\n",
    "def remove_dollar(x):\n",
    "    try:\n",
    "        return x.replace(\"$\",\"\")\n",
    "    except:\n",
    "        return x\n",
    "    \n",
    "def make_float(x):\n",
    "    try:\n",
    "        return float(x)\n",
    "    except:\n",
    "        return x"
   ]
  },
  {
   "cell_type": "code",
   "execution_count": 30,
   "metadata": {
    "ExecuteTime": {
     "end_time": "2018-05-29T03:17:13.216211Z",
     "start_time": "2018-05-29T03:17:13.200254Z"
    }
   },
   "outputs": [],
   "source": [
    "#Making ready for salary\n",
    "salary_cleaning3 = salary_cleaning2.applymap(remove_comma)\n",
    "salary_cleaning3 = salary_cleaning3.applymap(remove_dollar)\n",
    "# salary_cleaning3 = salary_cleaning3.applymap(remove_dot)\n",
    "salary_cleaning3 = salary_cleaning3.applymap(make_float)"
   ]
  },
  {
   "cell_type": "code",
   "execution_count": 31,
   "metadata": {
    "ExecuteTime": {
     "end_time": "2018-05-29T03:17:13.224190Z",
     "start_time": "2018-05-29T03:17:13.217210Z"
    }
   },
   "outputs": [
    {
     "name": "stdout",
     "output_type": "stream",
     "text": [
      "<class 'pandas.core.frame.DataFrame'>\n",
      "Int64Index: 1114 entries, 1 to 17092\n",
      "Data columns (total 3 columns):\n",
      "0    1114 non-null object\n",
      "2    1114 non-null float64\n",
      "4    764 non-null float64\n",
      "dtypes: float64(2), object(1)\n",
      "memory usage: 34.8+ KB\n"
     ]
    }
   ],
   "source": [
    "salary_cleaning3.info()"
   ]
  },
  {
   "cell_type": "code",
   "execution_count": 32,
   "metadata": {
    "ExecuteTime": {
     "end_time": "2018-05-29T03:17:13.231171Z",
     "start_time": "2018-05-29T03:17:13.225190Z"
    }
   },
   "outputs": [
    {
     "name": "stdout",
     "output_type": "stream",
     "text": [
      "95584.6472351885\n",
      "79200.72043193717\n"
     ]
    }
   ],
   "source": [
    "print(salary_cleaning3[2].mean())\n",
    "print(salary_cleaning3[4].mean())"
   ]
  },
  {
   "cell_type": "code",
   "execution_count": 33,
   "metadata": {
    "ExecuteTime": {
     "end_time": "2018-05-29T03:17:13.240149Z",
     "start_time": "2018-05-29T03:17:13.233204Z"
    }
   },
   "outputs": [],
   "source": [
    "salary_cleaning3[\"mean\"] = salary_cleaning3.loc[:,[2,4]].mean(axis = 1)"
   ]
  },
  {
   "cell_type": "code",
   "execution_count": 34,
   "metadata": {
    "ExecuteTime": {
     "end_time": "2018-05-29T03:17:13.252116Z",
     "start_time": "2018-05-29T03:17:13.242175Z"
    }
   },
   "outputs": [
    {
     "data": {
      "text/html": [
       "<div>\n",
       "<style scoped>\n",
       "    .dataframe tbody tr th:only-of-type {\n",
       "        vertical-align: middle;\n",
       "    }\n",
       "\n",
       "    .dataframe tbody tr th {\n",
       "        vertical-align: top;\n",
       "    }\n",
       "\n",
       "    .dataframe thead th {\n",
       "        text-align: right;\n",
       "    }\n",
       "</style>\n",
       "<table border=\"1\" class=\"dataframe\">\n",
       "  <thead>\n",
       "    <tr style=\"text-align: right;\">\n",
       "      <th></th>\n",
       "      <th>0</th>\n",
       "      <th>2</th>\n",
       "      <th>4</th>\n",
       "      <th>mean</th>\n",
       "    </tr>\n",
       "  </thead>\n",
       "  <tbody>\n",
       "    <tr>\n",
       "      <th>16734</th>\n",
       "      <td>year</td>\n",
       "      <td>108140.0</td>\n",
       "      <td>100462.0</td>\n",
       "      <td>104301.0</td>\n",
       "    </tr>\n",
       "    <tr>\n",
       "      <th>16769</th>\n",
       "      <td>year</td>\n",
       "      <td>250000.0</td>\n",
       "      <td>200000.0</td>\n",
       "      <td>225000.0</td>\n",
       "    </tr>\n",
       "    <tr>\n",
       "      <th>16927</th>\n",
       "      <td>year</td>\n",
       "      <td>90000.0</td>\n",
       "      <td>55000.0</td>\n",
       "      <td>72500.0</td>\n",
       "    </tr>\n",
       "    <tr>\n",
       "      <th>16995</th>\n",
       "      <td>year</td>\n",
       "      <td>192000.0</td>\n",
       "      <td>NaN</td>\n",
       "      <td>192000.0</td>\n",
       "    </tr>\n",
       "    <tr>\n",
       "      <th>17092</th>\n",
       "      <td>year</td>\n",
       "      <td>100000.0</td>\n",
       "      <td>90000.0</td>\n",
       "      <td>95000.0</td>\n",
       "    </tr>\n",
       "  </tbody>\n",
       "</table>\n",
       "</div>"
      ],
      "text/plain": [
       "          0         2         4      mean\n",
       "16734  year  108140.0  100462.0  104301.0\n",
       "16769  year  250000.0  200000.0  225000.0\n",
       "16927  year   90000.0   55000.0   72500.0\n",
       "16995  year  192000.0       NaN  192000.0\n",
       "17092  year  100000.0   90000.0   95000.0"
      ]
     },
     "execution_count": 34,
     "metadata": {},
     "output_type": "execute_result"
    }
   ],
   "source": [
    "salary_cleaning3.tail()"
   ]
  },
  {
   "cell_type": "code",
   "execution_count": 35,
   "metadata": {
    "ExecuteTime": {
     "end_time": "2018-05-29T03:17:13.258102Z",
     "start_time": "2018-05-29T03:17:13.253115Z"
    }
   },
   "outputs": [
    {
     "name": "stdout",
     "output_type": "stream",
     "text": [
      "95584.6472351885\n",
      "79200.72043193717\n",
      "88863.97663824057\n"
     ]
    }
   ],
   "source": [
    "print(salary_cleaning3[2].mean())\n",
    "print(salary_cleaning3[4].mean())\n",
    "# print(salary_cleaning3.loc[:,[2,4]].mean())\n",
    "print(salary_cleaning3[\"mean\"].mean())"
   ]
  },
  {
   "cell_type": "code",
   "execution_count": 36,
   "metadata": {
    "ExecuteTime": {
     "end_time": "2018-05-29T03:17:13.268115Z",
     "start_time": "2018-05-29T03:17:13.259098Z"
    }
   },
   "outputs": [
    {
     "data": {
      "text/plain": [
       "year     901\n",
       "day       93\n",
       "hour      89\n",
       "week      30\n",
       "month      1\n",
       "Name: 0, dtype: int64"
      ]
     },
     "execution_count": 36,
     "metadata": {},
     "output_type": "execute_result"
    }
   ],
   "source": [
    "salary_cleaning[0].value_counts()"
   ]
  },
  {
   "cell_type": "code",
   "execution_count": 37,
   "metadata": {
    "ExecuteTime": {
     "end_time": "2018-05-29T03:17:13.278047Z",
     "start_time": "2018-05-29T03:17:13.270066Z"
    }
   },
   "outputs": [],
   "source": [
    "## Function to convert salary to annual\n",
    "def frequency_multiply(frequency):\n",
    "    if frequency == \"year\":\n",
    "        return 1\n",
    "    elif frequency == \"day\":\n",
    "        return 261\n",
    "    elif frequency == \"week\":\n",
    "        return 52\n",
    "    elif frequency == \"hour\":\n",
    "        return 1820\n",
    "    elif frequency == \"month\":\n",
    "        return 12\n",
    "\n",
    "## Calcs from https://staff.uow.edu.au/personnel/salary/UOW020681.html"
   ]
  },
  {
   "cell_type": "code",
   "execution_count": 38,
   "metadata": {
    "ExecuteTime": {
     "end_time": "2018-05-29T03:17:13.309960Z",
     "start_time": "2018-05-29T03:17:13.280043Z"
    }
   },
   "outputs": [],
   "source": [
    "# Converting salary to annual\n",
    "salary_cleaning3[\"frequency\"] = salary_cleaning3[0].map(frequency_multiply)\n",
    "salary_cleaning3[\"annual_salary\"] = salary_cleaning3[\"mean\"] * salary_cleaning3[\"frequency\"]"
   ]
  },
  {
   "cell_type": "code",
   "execution_count": 39,
   "metadata": {
    "ExecuteTime": {
     "end_time": "2018-05-29T03:17:13.321931Z",
     "start_time": "2018-05-29T03:17:13.311956Z"
    }
   },
   "outputs": [
    {
     "data": {
      "text/html": [
       "<div>\n",
       "<style scoped>\n",
       "    .dataframe tbody tr th:only-of-type {\n",
       "        vertical-align: middle;\n",
       "    }\n",
       "\n",
       "    .dataframe tbody tr th {\n",
       "        vertical-align: top;\n",
       "    }\n",
       "\n",
       "    .dataframe thead th {\n",
       "        text-align: right;\n",
       "    }\n",
       "</style>\n",
       "<table border=\"1\" class=\"dataframe\">\n",
       "  <thead>\n",
       "    <tr style=\"text-align: right;\">\n",
       "      <th></th>\n",
       "      <th>0</th>\n",
       "      <th>2</th>\n",
       "      <th>4</th>\n",
       "      <th>mean</th>\n",
       "      <th>frequency</th>\n",
       "      <th>annual_salary</th>\n",
       "    </tr>\n",
       "  </thead>\n",
       "  <tbody>\n",
       "    <tr>\n",
       "      <th>16734</th>\n",
       "      <td>year</td>\n",
       "      <td>108140.0</td>\n",
       "      <td>100462.0</td>\n",
       "      <td>104301.0</td>\n",
       "      <td>1</td>\n",
       "      <td>104301.0</td>\n",
       "    </tr>\n",
       "    <tr>\n",
       "      <th>16769</th>\n",
       "      <td>year</td>\n",
       "      <td>250000.0</td>\n",
       "      <td>200000.0</td>\n",
       "      <td>225000.0</td>\n",
       "      <td>1</td>\n",
       "      <td>225000.0</td>\n",
       "    </tr>\n",
       "    <tr>\n",
       "      <th>16927</th>\n",
       "      <td>year</td>\n",
       "      <td>90000.0</td>\n",
       "      <td>55000.0</td>\n",
       "      <td>72500.0</td>\n",
       "      <td>1</td>\n",
       "      <td>72500.0</td>\n",
       "    </tr>\n",
       "    <tr>\n",
       "      <th>16995</th>\n",
       "      <td>year</td>\n",
       "      <td>192000.0</td>\n",
       "      <td>NaN</td>\n",
       "      <td>192000.0</td>\n",
       "      <td>1</td>\n",
       "      <td>192000.0</td>\n",
       "    </tr>\n",
       "    <tr>\n",
       "      <th>17092</th>\n",
       "      <td>year</td>\n",
       "      <td>100000.0</td>\n",
       "      <td>90000.0</td>\n",
       "      <td>95000.0</td>\n",
       "      <td>1</td>\n",
       "      <td>95000.0</td>\n",
       "    </tr>\n",
       "  </tbody>\n",
       "</table>\n",
       "</div>"
      ],
      "text/plain": [
       "          0         2         4      mean  frequency  annual_salary\n",
       "16734  year  108140.0  100462.0  104301.0          1       104301.0\n",
       "16769  year  250000.0  200000.0  225000.0          1       225000.0\n",
       "16927  year   90000.0   55000.0   72500.0          1        72500.0\n",
       "16995  year  192000.0       NaN  192000.0          1       192000.0\n",
       "17092  year  100000.0   90000.0   95000.0          1        95000.0"
      ]
     },
     "execution_count": 39,
     "metadata": {},
     "output_type": "execute_result"
    }
   ],
   "source": [
    "salary_cleaning3.tail()"
   ]
  },
  {
   "cell_type": "code",
   "execution_count": 40,
   "metadata": {
    "ExecuteTime": {
     "end_time": "2018-05-29T03:17:13.327937Z",
     "start_time": "2018-05-29T03:17:13.322926Z"
    }
   },
   "outputs": [
    {
     "data": {
      "text/plain": [
       "(1114, 6)"
      ]
     },
     "execution_count": 40,
     "metadata": {},
     "output_type": "execute_result"
    }
   ],
   "source": [
    "salary_cleaning3.shape"
   ]
  },
  {
   "cell_type": "code",
   "execution_count": 41,
   "metadata": {
    "ExecuteTime": {
     "end_time": "2018-05-29T03:17:13.344874Z",
     "start_time": "2018-05-29T03:17:13.329946Z"
    }
   },
   "outputs": [],
   "source": [
    "# Performing merge\n",
    "salary_cleaning3.rename(columns = {0: \"freq\"},inplace = True)\n",
    "salary_cleaning4 = salary_cleaning3[[\"annual_salary\",\"freq\"]]\n",
    "df_clean = df_salaryonly.reset_index().merge(salary_cleaning4.reset_index())"
   ]
  },
  {
   "cell_type": "code",
   "execution_count": 42,
   "metadata": {
    "ExecuteTime": {
     "end_time": "2018-05-29T03:17:13.350890Z",
     "start_time": "2018-05-29T03:17:13.346907Z"
    }
   },
   "outputs": [
    {
     "name": "stdout",
     "output_type": "stream",
     "text": [
      "(1114, 2)\n",
      "(1114, 11)\n"
     ]
    }
   ],
   "source": [
    "print(salary_cleaning4.shape)\n",
    "print(df_clean.shape)"
   ]
  },
  {
   "cell_type": "code",
   "execution_count": 43,
   "metadata": {
    "ExecuteTime": {
     "end_time": "2018-05-29T03:17:13.358830Z",
     "start_time": "2018-05-29T03:17:13.352850Z"
    }
   },
   "outputs": [],
   "source": [
    "# Cleaning up columns\n",
    "df_clean1 = df_clean.drop(columns = [\"salary\",\"index\"],axis = 1)"
   ]
  },
  {
   "cell_type": "code",
   "execution_count": 44,
   "metadata": {
    "ExecuteTime": {
     "end_time": "2018-05-29T03:17:13.383769Z",
     "start_time": "2018-05-29T03:17:13.360824Z"
    }
   },
   "outputs": [
    {
     "data": {
      "text/html": [
       "<div>\n",
       "<style scoped>\n",
       "    .dataframe tbody tr th:only-of-type {\n",
       "        vertical-align: middle;\n",
       "    }\n",
       "\n",
       "    .dataframe tbody tr th {\n",
       "        vertical-align: top;\n",
       "    }\n",
       "\n",
       "    .dataframe thead th {\n",
       "        text-align: right;\n",
       "    }\n",
       "</style>\n",
       "<table border=\"1\" class=\"dataframe\">\n",
       "  <thead>\n",
       "    <tr style=\"text-align: right;\">\n",
       "      <th></th>\n",
       "      <th>company</th>\n",
       "      <th>description</th>\n",
       "      <th>location</th>\n",
       "      <th>search</th>\n",
       "      <th>summary</th>\n",
       "      <th>title</th>\n",
       "      <th>title_clean</th>\n",
       "      <th>annual_salary</th>\n",
       "      <th>freq</th>\n",
       "    </tr>\n",
       "  </thead>\n",
       "  <tbody>\n",
       "    <tr>\n",
       "      <th>1109</th>\n",
       "      <td>act government</td>\n",
       "      <td>debt specialist - debt management job - act go...</td>\n",
       "      <td>Canberra ACT</td>\n",
       "      <td>https://au.indeed.com/jobs?q=business+intellig...</td>\n",
       "      <td>the act revenue office compliance team are loo...</td>\n",
       "      <td>debt specialist - debt management</td>\n",
       "      <td>Other</td>\n",
       "      <td>104301.0</td>\n",
       "      <td>year</td>\n",
       "    </tr>\n",
       "    <tr>\n",
       "      <th>1110</th>\n",
       "      <td>sharp &amp; carter</td>\n",
       "      <td>account manager | ote $k + job - sharp &amp; carte...</td>\n",
       "      <td>Melbourne VIC</td>\n",
       "      <td>https://au.indeed.com/jobs?q=business+intellig...</td>\n",
       "      <td>tenacious, hungry, driven &amp; have high emotiona...</td>\n",
       "      <td>account manager | ote $150k +</td>\n",
       "      <td>14.sales_acctmgr</td>\n",
       "      <td>225000.0</td>\n",
       "      <td>year</td>\n",
       "    </tr>\n",
       "    <tr>\n",
       "      <th>1111</th>\n",
       "      <td>social pages</td>\n",
       "      <td>telesales consultant job - social pages - ulti...</td>\n",
       "      <td>Ultimo NSW</td>\n",
       "      <td>https://au.indeed.com/jobs?q=business+intellig...</td>\n",
       "      <td>intelligence, maturity, and initiative - you d...</td>\n",
       "      <td>telesales consultant</td>\n",
       "      <td>14.sales_acctmgr</td>\n",
       "      <td>72500.0</td>\n",
       "      <td>year</td>\n",
       "    </tr>\n",
       "    <tr>\n",
       "      <th>1112</th>\n",
       "      <td>huxley</td>\n",
       "      <td>iteration manager / agile project manager job ...</td>\n",
       "      <td>Brisbane QLD</td>\n",
       "      <td>https://au.indeed.com/jobs?q=business+intellig...</td>\n",
       "      <td>this role is also largely based business intel...</td>\n",
       "      <td>iteration manager / agile project manager</td>\n",
       "      <td>Other</td>\n",
       "      <td>192000.0</td>\n",
       "      <td>year</td>\n",
       "    </tr>\n",
       "    <tr>\n",
       "      <th>1113</th>\n",
       "      <td>hudson</td>\n",
       "      <td>finance analyst job - hudson - sydney nsw | in...</td>\n",
       "      <td>Sydney NSW</td>\n",
       "      <td>https://au.indeed.com/jobs?q=business+intellig...</td>\n",
       "      <td>business facing commercial role. assist in the...</td>\n",
       "      <td>finance analyst</td>\n",
       "      <td>Other</td>\n",
       "      <td>95000.0</td>\n",
       "      <td>year</td>\n",
       "    </tr>\n",
       "  </tbody>\n",
       "</table>\n",
       "</div>"
      ],
      "text/plain": [
       "             company                                        description  \\\n",
       "1109  act government  debt specialist - debt management job - act go...   \n",
       "1110  sharp & carter  account manager | ote $k + job - sharp & carte...   \n",
       "1111    social pages  telesales consultant job - social pages - ulti...   \n",
       "1112          huxley  iteration manager / agile project manager job ...   \n",
       "1113          hudson  finance analyst job - hudson - sydney nsw | in...   \n",
       "\n",
       "           location                                             search  \\\n",
       "1109   Canberra ACT  https://au.indeed.com/jobs?q=business+intellig...   \n",
       "1110  Melbourne VIC  https://au.indeed.com/jobs?q=business+intellig...   \n",
       "1111     Ultimo NSW  https://au.indeed.com/jobs?q=business+intellig...   \n",
       "1112   Brisbane QLD  https://au.indeed.com/jobs?q=business+intellig...   \n",
       "1113     Sydney NSW  https://au.indeed.com/jobs?q=business+intellig...   \n",
       "\n",
       "                                                summary  \\\n",
       "1109  the act revenue office compliance team are loo...   \n",
       "1110  tenacious, hungry, driven & have high emotiona...   \n",
       "1111  intelligence, maturity, and initiative - you d...   \n",
       "1112  this role is also largely based business intel...   \n",
       "1113  business facing commercial role. assist in the...   \n",
       "\n",
       "                                          title       title_clean  \\\n",
       "1109          debt specialist - debt management             Other   \n",
       "1110              account manager | ote $150k +  14.sales_acctmgr   \n",
       "1111                       telesales consultant  14.sales_acctmgr   \n",
       "1112  iteration manager / agile project manager             Other   \n",
       "1113                            finance analyst             Other   \n",
       "\n",
       "      annual_salary  freq  \n",
       "1109       104301.0  year  \n",
       "1110       225000.0  year  \n",
       "1111        72500.0  year  \n",
       "1112       192000.0  year  \n",
       "1113        95000.0  year  "
      ]
     },
     "execution_count": 44,
     "metadata": {},
     "output_type": "execute_result"
    }
   ],
   "source": [
    "df_clean1.tail()"
   ]
  },
  {
   "cell_type": "code",
   "execution_count": 45,
   "metadata": {
    "ExecuteTime": {
     "end_time": "2018-05-29T03:17:13.455571Z",
     "start_time": "2018-05-29T03:17:13.385759Z"
    }
   },
   "outputs": [],
   "source": [
    "# Cleaning capital cities\n",
    "df_clean1[\"city\"] = np.where(df_clean1[\"location\"].str.contains(\"Sydney\"), \"Sydney\", df_clean1[\"location\"])\n",
    "df_clean1[\"city\"] = np.where(df_clean1[\"city\"].str.contains(\"Melbourne\"), \"Melbourne\", df_clean1[\"city\"])\n",
    "df_clean1[\"city\"] = np.where(df_clean1[\"city\"].str.contains(\"Brisbane\"), \"Brisbane\", df_clean1[\"city\"])\n",
    "df_clean1[\"city\"] = np.where(df_clean1[\"city\"].str.contains(\"Perth\"), \"Perth\", df_clean1[\"city\"])\n",
    "df_clean1[\"city\"] = np.where(df_clean1[\"city\"].str.contains(\"Canberra\"), \"Canberra\", df_clean1[\"city\"])\n",
    "df_clean1[\"city\"] = np.where(df_clean1[\"city\"].str.contains(\"Adelaide\"), \"Adelaide\", df_clean1[\"city\"])\n",
    "df_clean1[\"city\"] = np.where(df_clean1[\"city\"].str.contains(\"Darwin\"), \"Darwin\", df_clean1[\"city\"])\n",
    "df_clean1[\"city\"] = np.where(df_clean1[\"city\"].str.contains(\"Hobart\"), \"Hobart\", df_clean1[\"city\"])\n",
    "\n",
    "# Cleaning outside capital cities\n",
    "df_clean1[\"city\"] = np.where(df_clean1[\"city\"].str.contains(\"NSW\"), \"NSW_Other\", df_clean1[\"city\"])\n",
    "df_clean1[\"city\"] = np.where(df_clean1[\"city\"].str.contains(\"New South\"), \"NSW_Other\", df_clean1[\"city\"])\n",
    "df_clean1[\"city\"] = np.where(df_clean1[\"city\"].str.contains(\"VIC\"), \"VIC_Other\", df_clean1[\"city\"])\n",
    "df_clean1[\"city\"] = np.where(df_clean1[\"city\"].str.contains(\"Vic\"), \"VIC_Other\", df_clean1[\"city\"])\n",
    "df_clean1[\"city\"] = np.where(df_clean1[\"city\"].str.contains(\"QLD\"), \"QLD_Other\", df_clean1[\"city\"])\n",
    "df_clean1[\"city\"] = np.where(df_clean1[\"city\"].str.contains(\"Queensl\"), \"QLD_Other\", df_clean1[\"city\"])\n",
    "df_clean1[\"city\"] = np.where(df_clean1[\"city\"].str.contains(\"Western Aus\"), \"WA_Other\", df_clean1[\"city\"])\n",
    "df_clean1[\"city\"] = np.where(df_clean1[\"city\"].str.contains(\"WA\"), \"WA_Other\", df_clean1[\"city\"])\n",
    "df_clean1[\"city\"] = np.where(df_clean1[\"city\"].str.contains(\"SA\"), \"SA_Other\", df_clean1[\"city\"])\n",
    "df_clean1[\"city\"] = np.where(df_clean1[\"city\"].str.contains(\"South Aus\"), \"SA_Other\", df_clean1[\"city\"])\n",
    "df_clean1[\"city\"] = np.where(df_clean1[\"city\"].str.contains(\"ACT\"), \"ACT_Other\", df_clean1[\"city\"])\n",
    "df_clean1[\"city\"] = np.where(df_clean1[\"city\"].str.contains(\"TAS\"), \"TAS_Other\", df_clean1[\"city\"])\n",
    "df_clean1[\"city\"] = np.where(df_clean1[\"city\"] == \"Australia\", \"NA\", df_clean1[\"city\"])\n"
   ]
  },
  {
   "cell_type": "code",
   "execution_count": 46,
   "metadata": {
    "ExecuteTime": {
     "end_time": "2018-05-29T03:17:13.474521Z",
     "start_time": "2018-05-29T03:17:13.456572Z"
    }
   },
   "outputs": [
    {
     "data": {
      "text/html": [
       "<div>\n",
       "<style scoped>\n",
       "    .dataframe tbody tr th:only-of-type {\n",
       "        vertical-align: middle;\n",
       "    }\n",
       "\n",
       "    .dataframe tbody tr th {\n",
       "        vertical-align: top;\n",
       "    }\n",
       "\n",
       "    .dataframe thead th {\n",
       "        text-align: right;\n",
       "    }\n",
       "</style>\n",
       "<table border=\"1\" class=\"dataframe\">\n",
       "  <thead>\n",
       "    <tr style=\"text-align: right;\">\n",
       "      <th></th>\n",
       "      <th>company</th>\n",
       "      <th>description</th>\n",
       "      <th>location</th>\n",
       "      <th>search</th>\n",
       "      <th>summary</th>\n",
       "      <th>title</th>\n",
       "      <th>title_clean</th>\n",
       "      <th>annual_salary</th>\n",
       "      <th>freq</th>\n",
       "      <th>city</th>\n",
       "    </tr>\n",
       "  </thead>\n",
       "  <tbody>\n",
       "    <tr>\n",
       "      <th>1109</th>\n",
       "      <td>act government</td>\n",
       "      <td>debt specialist - debt management job - act go...</td>\n",
       "      <td>Canberra ACT</td>\n",
       "      <td>https://au.indeed.com/jobs?q=business+intellig...</td>\n",
       "      <td>the act revenue office compliance team are loo...</td>\n",
       "      <td>debt specialist - debt management</td>\n",
       "      <td>Other</td>\n",
       "      <td>104301.0</td>\n",
       "      <td>year</td>\n",
       "      <td>Canberra</td>\n",
       "    </tr>\n",
       "    <tr>\n",
       "      <th>1110</th>\n",
       "      <td>sharp &amp; carter</td>\n",
       "      <td>account manager | ote $k + job - sharp &amp; carte...</td>\n",
       "      <td>Melbourne VIC</td>\n",
       "      <td>https://au.indeed.com/jobs?q=business+intellig...</td>\n",
       "      <td>tenacious, hungry, driven &amp; have high emotiona...</td>\n",
       "      <td>account manager | ote $150k +</td>\n",
       "      <td>14.sales_acctmgr</td>\n",
       "      <td>225000.0</td>\n",
       "      <td>year</td>\n",
       "      <td>Melbourne</td>\n",
       "    </tr>\n",
       "    <tr>\n",
       "      <th>1111</th>\n",
       "      <td>social pages</td>\n",
       "      <td>telesales consultant job - social pages - ulti...</td>\n",
       "      <td>Ultimo NSW</td>\n",
       "      <td>https://au.indeed.com/jobs?q=business+intellig...</td>\n",
       "      <td>intelligence, maturity, and initiative - you d...</td>\n",
       "      <td>telesales consultant</td>\n",
       "      <td>14.sales_acctmgr</td>\n",
       "      <td>72500.0</td>\n",
       "      <td>year</td>\n",
       "      <td>NSW_Other</td>\n",
       "    </tr>\n",
       "    <tr>\n",
       "      <th>1112</th>\n",
       "      <td>huxley</td>\n",
       "      <td>iteration manager / agile project manager job ...</td>\n",
       "      <td>Brisbane QLD</td>\n",
       "      <td>https://au.indeed.com/jobs?q=business+intellig...</td>\n",
       "      <td>this role is also largely based business intel...</td>\n",
       "      <td>iteration manager / agile project manager</td>\n",
       "      <td>Other</td>\n",
       "      <td>192000.0</td>\n",
       "      <td>year</td>\n",
       "      <td>Brisbane</td>\n",
       "    </tr>\n",
       "    <tr>\n",
       "      <th>1113</th>\n",
       "      <td>hudson</td>\n",
       "      <td>finance analyst job - hudson - sydney nsw | in...</td>\n",
       "      <td>Sydney NSW</td>\n",
       "      <td>https://au.indeed.com/jobs?q=business+intellig...</td>\n",
       "      <td>business facing commercial role. assist in the...</td>\n",
       "      <td>finance analyst</td>\n",
       "      <td>Other</td>\n",
       "      <td>95000.0</td>\n",
       "      <td>year</td>\n",
       "      <td>Sydney</td>\n",
       "    </tr>\n",
       "  </tbody>\n",
       "</table>\n",
       "</div>"
      ],
      "text/plain": [
       "             company                                        description  \\\n",
       "1109  act government  debt specialist - debt management job - act go...   \n",
       "1110  sharp & carter  account manager | ote $k + job - sharp & carte...   \n",
       "1111    social pages  telesales consultant job - social pages - ulti...   \n",
       "1112          huxley  iteration manager / agile project manager job ...   \n",
       "1113          hudson  finance analyst job - hudson - sydney nsw | in...   \n",
       "\n",
       "           location                                             search  \\\n",
       "1109   Canberra ACT  https://au.indeed.com/jobs?q=business+intellig...   \n",
       "1110  Melbourne VIC  https://au.indeed.com/jobs?q=business+intellig...   \n",
       "1111     Ultimo NSW  https://au.indeed.com/jobs?q=business+intellig...   \n",
       "1112   Brisbane QLD  https://au.indeed.com/jobs?q=business+intellig...   \n",
       "1113     Sydney NSW  https://au.indeed.com/jobs?q=business+intellig...   \n",
       "\n",
       "                                                summary  \\\n",
       "1109  the act revenue office compliance team are loo...   \n",
       "1110  tenacious, hungry, driven & have high emotiona...   \n",
       "1111  intelligence, maturity, and initiative - you d...   \n",
       "1112  this role is also largely based business intel...   \n",
       "1113  business facing commercial role. assist in the...   \n",
       "\n",
       "                                          title       title_clean  \\\n",
       "1109          debt specialist - debt management             Other   \n",
       "1110              account manager | ote $150k +  14.sales_acctmgr   \n",
       "1111                       telesales consultant  14.sales_acctmgr   \n",
       "1112  iteration manager / agile project manager             Other   \n",
       "1113                            finance analyst             Other   \n",
       "\n",
       "      annual_salary  freq       city  \n",
       "1109       104301.0  year   Canberra  \n",
       "1110       225000.0  year  Melbourne  \n",
       "1111        72500.0  year  NSW_Other  \n",
       "1112       192000.0  year   Brisbane  \n",
       "1113        95000.0  year     Sydney  "
      ]
     },
     "execution_count": 46,
     "metadata": {},
     "output_type": "execute_result"
    }
   ],
   "source": [
    "df_clean1.tail()"
   ]
  },
  {
   "cell_type": "code",
   "execution_count": 47,
   "metadata": {
    "ExecuteTime": {
     "end_time": "2018-05-29T03:17:13.485491Z",
     "start_time": "2018-05-29T03:17:13.475518Z"
    }
   },
   "outputs": [
    {
     "data": {
      "text/plain": [
       "Sydney       574\n",
       "Melbourne    177\n",
       "NSW_Other    106\n",
       "VIC_Other     62\n",
       "Brisbane      35\n",
       "Canberra      33\n",
       "NA            31\n",
       "QLD_Other     22\n",
       "Perth         20\n",
       "Adelaide      11\n",
       "WA_Other      11\n",
       "Darwin         9\n",
       "SA_Other       8\n",
       "ACT_Other      8\n",
       "Hobart         5\n",
       "Tasmania       2\n",
       "Name: city, dtype: int64"
      ]
     },
     "execution_count": 47,
     "metadata": {},
     "output_type": "execute_result"
    }
   ],
   "source": [
    "df_clean1[\"city\"].value_counts()"
   ]
  },
  {
   "cell_type": "code",
   "execution_count": 48,
   "metadata": {
    "ExecuteTime": {
     "end_time": "2018-05-29T03:17:13.494470Z",
     "start_time": "2018-05-29T03:17:13.488501Z"
    },
    "scrolled": true
   },
   "outputs": [],
   "source": [
    "df_clean1.drop(columns = [\"location\"], axis = 1, inplace = True)"
   ]
  },
  {
   "cell_type": "markdown",
   "metadata": {},
   "source": [
    "#### Dropping outliers"
   ]
  },
  {
   "cell_type": "code",
   "execution_count": 49,
   "metadata": {
    "ExecuteTime": {
     "end_time": "2018-05-29T03:17:13.672017Z",
     "start_time": "2018-05-29T03:17:13.499454Z"
    }
   },
   "outputs": [
    {
     "data": {
      "text/plain": [
       "<matplotlib.axes._subplots.AxesSubplot at 0x2c23c394710>"
      ]
     },
     "execution_count": 49,
     "metadata": {},
     "output_type": "execute_result"
    },
    {
     "data": {
      "image/png": "[encoded data removed]",
      "text/plain": [
       "<matplotlib.figure.Figure at 0x2c23c5642b0>"
      ]
     },
     "metadata": {},
     "output_type": "display_data"
    }
   ],
   "source": [
    "sns.boxplot(df_clean1[\"annual_salary\"])"
   ]
  },
  {
   "cell_type": "code",
   "execution_count": 50,
   "metadata": {
    "ExecuteTime": {
     "end_time": "2018-05-29T03:17:13.684957Z",
     "start_time": "2018-05-29T03:17:13.672992Z"
    }
   },
   "outputs": [
    {
     "data": {
      "text/html": [
       "<div>\n",
       "<style scoped>\n",
       "    .dataframe tbody tr th:only-of-type {\n",
       "        vertical-align: middle;\n",
       "    }\n",
       "\n",
       "    .dataframe tbody tr th {\n",
       "        vertical-align: top;\n",
       "    }\n",
       "\n",
       "    .dataframe thead th {\n",
       "        text-align: right;\n",
       "    }\n",
       "</style>\n",
       "<table border=\"1\" class=\"dataframe\">\n",
       "  <thead>\n",
       "    <tr style=\"text-align: right;\">\n",
       "      <th></th>\n",
       "      <th>title</th>\n",
       "      <th>annual_salary</th>\n",
       "    </tr>\n",
       "  </thead>\n",
       "  <tbody>\n",
       "    <tr>\n",
       "      <th>817</th>\n",
       "      <td>data analyst - government education</td>\n",
       "      <td>16965.0</td>\n",
       "    </tr>\n",
       "    <tr>\n",
       "      <th>174</th>\n",
       "      <td>data analyst - government education</td>\n",
       "      <td>16965.0</td>\n",
       "    </tr>\n",
       "    <tr>\n",
       "      <th>405</th>\n",
       "      <td>software engineer | iot | south east suburbs</td>\n",
       "      <td>23400.0</td>\n",
       "    </tr>\n",
       "    <tr>\n",
       "      <th>172</th>\n",
       "      <td>digital analyst</td>\n",
       "      <td>24795.0</td>\n",
       "    </tr>\n",
       "    <tr>\n",
       "      <th>546</th>\n",
       "      <td>telesales consultant | $53k + super | temp to ...</td>\n",
       "      <td>25000.0</td>\n",
       "    </tr>\n",
       "    <tr>\n",
       "      <th>808</th>\n",
       "      <td>associate professor/professor in computational...</td>\n",
       "      <td>26100.0</td>\n",
       "    </tr>\n",
       "    <tr>\n",
       "      <th>93</th>\n",
       "      <td>associate professor/professor in computational...</td>\n",
       "      <td>26100.0</td>\n",
       "    </tr>\n",
       "    <tr>\n",
       "      <th>575</th>\n",
       "      <td>senior marketing consultant</td>\n",
       "      <td>28600.0</td>\n",
       "    </tr>\n",
       "    <tr>\n",
       "      <th>570</th>\n",
       "      <td>senior marketing consultant</td>\n",
       "      <td>28600.0</td>\n",
       "    </tr>\n",
       "    <tr>\n",
       "      <th>1076</th>\n",
       "      <td>solution architect (bi program)</td>\n",
       "      <td>28710.0</td>\n",
       "    </tr>\n",
       "  </tbody>\n",
       "</table>\n",
       "</div>"
      ],
      "text/plain": [
       "                                                  title  annual_salary\n",
       "817                 data analyst - government education        16965.0\n",
       "174                 data analyst - government education        16965.0\n",
       "405        software engineer | iot | south east suburbs        23400.0\n",
       "172                                     digital analyst        24795.0\n",
       "546   telesales consultant | $53k + super | temp to ...        25000.0\n",
       "808   associate professor/professor in computational...        26100.0\n",
       "93    associate professor/professor in computational...        26100.0\n",
       "575                         senior marketing consultant        28600.0\n",
       "570                         senior marketing consultant        28600.0\n",
       "1076                    solution architect (bi program)        28710.0"
      ]
     },
     "execution_count": 50,
     "metadata": {},
     "output_type": "execute_result"
    }
   ],
   "source": [
    "# Reviewing to see outliers. Identified some had errors i.e. they put per day when per hour. Will drop\n",
    "df_clean1[[\"title\",\"annual_salary\"]].sort_values(by = \"annual_salary\",).head(10)"
   ]
  },
  {
   "cell_type": "code",
   "execution_count": 51,
   "metadata": {
    "ExecuteTime": {
     "end_time": "2018-05-29T03:17:13.702910Z",
     "start_time": "2018-05-29T03:17:13.685958Z"
    },
    "code_folding": []
   },
   "outputs": [
    {
     "name": "stdout",
     "output_type": "stream",
     "text": [
      "Outliers removed:-------------------------------------------------------\n",
      "300000.0\n",
      "head of data science - $300k\n",
      "Outliers removed:-------------------------------------------------------\n",
      "300000.0\n",
      "head of data science - $300k\n",
      "Outliers removed:-------------------------------------------------------\n",
      "300000.0\n",
      "head of data science - $300k\n",
      "Outliers removed:-------------------------------------------------------\n",
      "300000.0\n",
      "head of data science - $300k\n",
      "Outliers removed:-------------------------------------------------------\n",
      "300000.0\n",
      "head of data science - $300k\n",
      "Outliers removed:-------------------------------------------------------\n",
      "400000.0\n",
      "bdm job advert\n",
      "--------------------------------------------------------------------------------\n",
      "Outliers removed: 6\n"
     ]
    }
   ],
   "source": [
    "#Removing Outliers\n",
    "elements = df_clean1[\"annual_salary\"] \n",
    "if elements.dtype != 'object':      \n",
    "   mean = np.mean(elements, axis=0)\n",
    "   sd = np.std(elements, axis=0)\n",
    "   upper= mean + 4 * sd\n",
    "   lower= mean - 4 * sd\n",
    "   out = df_clean1[(elements>upper) | (elements<lower)].index.values\n",
    "   for i in out:\n",
    "        print('Outliers removed:-------------------------------------------------------')\n",
    "        print(df_clean1[\"annual_salary\"][i])\n",
    "        print(df_clean1[\"title\"][i])\n",
    "   df_clean1[\"annual_salary\"] = df_clean1[\"annual_salary\"].drop(out,axis=0)\n",
    "   count = len(out)\n",
    "print('--------------------------------------------------------------------------------')\n",
    "print('Outliers removed:',count)"
   ]
  },
  {
   "cell_type": "code",
   "execution_count": 52,
   "metadata": {
    "ExecuteTime": {
     "end_time": "2018-05-29T03:17:13.714878Z",
     "start_time": "2018-05-29T03:17:13.703909Z"
    }
   },
   "outputs": [
    {
     "data": {
      "text/html": [
       "<div>\n",
       "<style scoped>\n",
       "    .dataframe tbody tr th:only-of-type {\n",
       "        vertical-align: middle;\n",
       "    }\n",
       "\n",
       "    .dataframe tbody tr th {\n",
       "        vertical-align: top;\n",
       "    }\n",
       "\n",
       "    .dataframe thead th {\n",
       "        text-align: right;\n",
       "    }\n",
       "</style>\n",
       "<table border=\"1\" class=\"dataframe\">\n",
       "  <thead>\n",
       "    <tr style=\"text-align: right;\">\n",
       "      <th></th>\n",
       "      <th>title</th>\n",
       "      <th>annual_salary</th>\n",
       "    </tr>\n",
       "  </thead>\n",
       "  <tbody>\n",
       "    <tr>\n",
       "      <th>303</th>\n",
       "      <td>snr data engineer| ml/ai| spark|etl/elt proces...</td>\n",
       "      <td>287100.0</td>\n",
       "    </tr>\n",
       "    <tr>\n",
       "      <th>664</th>\n",
       "      <td>snr data engineer| ml/ai| spark|etl/elt proces...</td>\n",
       "      <td>287100.0</td>\n",
       "    </tr>\n",
       "    <tr>\n",
       "      <th>1009</th>\n",
       "      <td>snr data engineer| ml/ai| spark|etl/elt proces...</td>\n",
       "      <td>287100.0</td>\n",
       "    </tr>\n",
       "    <tr>\n",
       "      <th>877</th>\n",
       "      <td>data engineer</td>\n",
       "      <td>287100.0</td>\n",
       "    </tr>\n",
       "    <tr>\n",
       "      <th>836</th>\n",
       "      <td>snr data engineer| ml/ai| spark|etl/elt proces...</td>\n",
       "      <td>287100.0</td>\n",
       "    </tr>\n",
       "    <tr>\n",
       "      <th>883</th>\n",
       "      <td>data engineer</td>\n",
       "      <td>287100.0</td>\n",
       "    </tr>\n",
       "    <tr>\n",
       "      <th>252</th>\n",
       "      <td>small cap equities research analyst - industrials</td>\n",
       "      <td>275000.0</td>\n",
       "    </tr>\n",
       "    <tr>\n",
       "      <th>60</th>\n",
       "      <td>small cap equities research analyst - industrials</td>\n",
       "      <td>275000.0</td>\n",
       "    </tr>\n",
       "    <tr>\n",
       "      <th>230</th>\n",
       "      <td>small cap equities research analyst - industrials</td>\n",
       "      <td>275000.0</td>\n",
       "    </tr>\n",
       "    <tr>\n",
       "      <th>786</th>\n",
       "      <td>head of big data</td>\n",
       "      <td>275000.0</td>\n",
       "    </tr>\n",
       "  </tbody>\n",
       "</table>\n",
       "</div>"
      ],
      "text/plain": [
       "                                                  title  annual_salary\n",
       "303   snr data engineer| ml/ai| spark|etl/elt proces...       287100.0\n",
       "664   snr data engineer| ml/ai| spark|etl/elt proces...       287100.0\n",
       "1009  snr data engineer| ml/ai| spark|etl/elt proces...       287100.0\n",
       "877                                       data engineer       287100.0\n",
       "836   snr data engineer| ml/ai| spark|etl/elt proces...       287100.0\n",
       "883                                       data engineer       287100.0\n",
       "252   small cap equities research analyst - industrials       275000.0\n",
       "60    small cap equities research analyst - industrials       275000.0\n",
       "230   small cap equities research analyst - industrials       275000.0\n",
       "786                                    head of big data       275000.0"
      ]
     },
     "execution_count": 52,
     "metadata": {},
     "output_type": "execute_result"
    }
   ],
   "source": [
    "# Review outliers based on top salary - appears like there are quite a few duplicates. Will need to drop\n",
    "df_clean1[[\"title\",\"annual_salary\"]].sort_values(by = \"annual_salary\",ascending = False).head(10)"
   ]
  },
  {
   "cell_type": "code",
   "execution_count": 53,
   "metadata": {
    "ExecuteTime": {
     "end_time": "2018-05-29T03:17:13.801686Z",
     "start_time": "2018-05-29T03:17:13.715875Z"
    }
   },
   "outputs": [
    {
     "name": "stdout",
     "output_type": "stream",
     "text": [
      "(906, 4)\n",
      "(906, 3)\n",
      "(906, 3)\n"
     ]
    }
   ],
   "source": [
    "# Dropping some nulls\n",
    "df_clean2 = df_clean1[pd.notnull(df_clean1[\"annual_salary\"])]\n",
    "# Dropping duplicates\n",
    "df_clean2 = df_clean2[[\"title_clean\",\"description\",\"annual_salary\",\"city\"]]\n",
    "df_clean2.drop_duplicates(inplace = True)\n",
    "df_clean3 = df_clean2[[\"title_clean\",\"description\",\"annual_salary\"]]\n",
    "print(df_clean2.shape)\n",
    "print(df_clean3.shape)\n",
    "df_clean4 = df_clean3.drop_duplicates()\n",
    "print(df_clean4.shape)"
   ]
  },
  {
   "cell_type": "code",
   "execution_count": 54,
   "metadata": {
    "ExecuteTime": {
     "end_time": "2018-05-29T03:17:13.817603Z",
     "start_time": "2018-05-29T03:17:13.802643Z"
    }
   },
   "outputs": [
    {
     "data": {
      "text/html": [
       "<div>\n",
       "<style scoped>\n",
       "    .dataframe tbody tr th:only-of-type {\n",
       "        vertical-align: middle;\n",
       "    }\n",
       "\n",
       "    .dataframe tbody tr th {\n",
       "        vertical-align: top;\n",
       "    }\n",
       "\n",
       "    .dataframe thead th {\n",
       "        text-align: right;\n",
       "    }\n",
       "</style>\n",
       "<table border=\"1\" class=\"dataframe\">\n",
       "  <thead>\n",
       "    <tr style=\"text-align: right;\">\n",
       "      <th></th>\n",
       "      <th>title_clean</th>\n",
       "      <th>description</th>\n",
       "      <th>annual_salary</th>\n",
       "    </tr>\n",
       "  </thead>\n",
       "  <tbody>\n",
       "    <tr>\n",
       "      <th>877</th>\n",
       "      <td>6.data_engineer</td>\n",
       "      <td>data engineer job - hudson - sydney nsw | inde...</td>\n",
       "      <td>287100.0</td>\n",
       "    </tr>\n",
       "    <tr>\n",
       "      <th>303</th>\n",
       "      <td>6.data_engineer</td>\n",
       "      <td>snr data engineer| ml/ai| spark|etl/elt proces...</td>\n",
       "      <td>287100.0</td>\n",
       "    </tr>\n",
       "    <tr>\n",
       "      <th>883</th>\n",
       "      <td>6.data_engineer</td>\n",
       "      <td>data engineer job - hudson - sydney nsw | inde...</td>\n",
       "      <td>287100.0</td>\n",
       "    </tr>\n",
       "    <tr>\n",
       "      <th>60</th>\n",
       "      <td>Other</td>\n",
       "      <td>small cap equities research analyst - industri...</td>\n",
       "      <td>275000.0</td>\n",
       "    </tr>\n",
       "    <tr>\n",
       "      <th>237</th>\n",
       "      <td>Other</td>\n",
       "      <td>small cap equities research analyst - industri...</td>\n",
       "      <td>275000.0</td>\n",
       "    </tr>\n",
       "    <tr>\n",
       "      <th>236</th>\n",
       "      <td>Other</td>\n",
       "      <td>small cap equities research analyst - industri...</td>\n",
       "      <td>275000.0</td>\n",
       "    </tr>\n",
       "    <tr>\n",
       "      <th>786</th>\n",
       "      <td>9.bigdata_consult/archtt</td>\n",
       "      <td>head of big data job - fourquarters - melbourn...</td>\n",
       "      <td>275000.0</td>\n",
       "    </tr>\n",
       "    <tr>\n",
       "      <th>252</th>\n",
       "      <td>Other</td>\n",
       "      <td>small cap equities research analyst - industri...</td>\n",
       "      <td>275000.0</td>\n",
       "    </tr>\n",
       "    <tr>\n",
       "      <th>341</th>\n",
       "      <td>Other</td>\n",
       "      <td>splunk engineer- major australian org - $ per ...</td>\n",
       "      <td>274050.0</td>\n",
       "    </tr>\n",
       "    <tr>\n",
       "      <th>552</th>\n",
       "      <td>Other</td>\n",
       "      <td>senior project manager - it transformation job...</td>\n",
       "      <td>261000.0</td>\n",
       "    </tr>\n",
       "  </tbody>\n",
       "</table>\n",
       "</div>"
      ],
      "text/plain": [
       "                  title_clean  \\\n",
       "877           6.data_engineer   \n",
       "303           6.data_engineer   \n",
       "883           6.data_engineer   \n",
       "60                      Other   \n",
       "237                     Other   \n",
       "236                     Other   \n",
       "786  9.bigdata_consult/archtt   \n",
       "252                     Other   \n",
       "341                     Other   \n",
       "552                     Other   \n",
       "\n",
       "                                           description  annual_salary  \n",
       "877  data engineer job - hudson - sydney nsw | inde...       287100.0  \n",
       "303  snr data engineer| ml/ai| spark|etl/elt proces...       287100.0  \n",
       "883  data engineer job - hudson - sydney nsw | inde...       287100.0  \n",
       "60   small cap equities research analyst - industri...       275000.0  \n",
       "237  small cap equities research analyst - industri...       275000.0  \n",
       "236  small cap equities research analyst - industri...       275000.0  \n",
       "786  head of big data job - fourquarters - melbourn...       275000.0  \n",
       "252  small cap equities research analyst - industri...       275000.0  \n",
       "341  splunk engineer- major australian org - $ per ...       274050.0  \n",
       "552  senior project manager - it transformation job...       261000.0  "
      ]
     },
     "execution_count": 54,
     "metadata": {},
     "output_type": "execute_result"
    }
   ],
   "source": [
    "# Slightly better\n",
    "df_clean4.sort_values(by = \"annual_salary\",ascending = False).head(10)"
   ]
  },
  {
   "cell_type": "code",
   "execution_count": 55,
   "metadata": {
    "ExecuteTime": {
     "end_time": "2018-05-29T03:17:14.143731Z",
     "start_time": "2018-05-29T03:17:13.819598Z"
    }
   },
   "outputs": [
    {
     "data": {
      "text/plain": [
       "Text(0.5,1,'Job Salary')"
      ]
     },
     "execution_count": 55,
     "metadata": {},
     "output_type": "execute_result"
    },
    {
     "data": {
      "image/png": "[encoded data removed]",
      "text/plain": [
       "<matplotlib.figure.Figure at 0x2c23c535978>"
      ]
     },
     "metadata": {},
     "output_type": "display_data"
    }
   ],
   "source": [
    "# # Plotting\n",
    "a4_dims = (15, 6)\n",
    "fig, ax = plt.subplots(figsize=a4_dims)\n",
    "ax.set_xticklabels(ax.get_xticklabels(),rotation=30)\n",
    "sns.boxplot(x = \"title_clean\", y = \"annual_salary\", data = df_clean4).set_title(\"Job Salary\")"
   ]
  },
  {
   "cell_type": "code",
   "execution_count": 56,
   "metadata": {
    "ExecuteTime": {
     "end_time": "2018-05-29T03:17:14.151709Z",
     "start_time": "2018-05-29T03:17:14.145727Z"
    }
   },
   "outputs": [
    {
     "data": {
      "text/plain": [
       "108246.40673289183"
      ]
     },
     "execution_count": 56,
     "metadata": {},
     "output_type": "execute_result"
    }
   ],
   "source": [
    "df_clean4[\"annual_salary\"].mean()"
   ]
  },
  {
   "cell_type": "code",
   "execution_count": 57,
   "metadata": {
    "ExecuteTime": {
     "end_time": "2018-05-29T03:17:14.569619Z",
     "start_time": "2018-05-29T03:17:14.152710Z"
    },
    "scrolled": true
   },
   "outputs": [
    {
     "data": {
      "text/plain": [
       "<seaborn.axisgrid.FacetGrid at 0x2c23a19ffd0>"
      ]
     },
     "execution_count": 57,
     "metadata": {},
     "output_type": "execute_result"
    },
    {
     "data": {
      "image/png": "[encoded data removed]",
      "text/plain": [
       "<matplotlib.figure.Figure at 0x2c23c385b38>"
      ]
     },
     "metadata": {},
     "output_type": "display_data"
    }
   ],
   "source": [
    "sns.factorplot(x = \"title_clean\", y = \"annual_salary\", \n",
    "               data = df_clean4, kind = \"bar\", aspect = 3).set_xticklabels(rotation = 45)"
   ]
  },
  {
   "cell_type": "code",
   "execution_count": 58,
   "metadata": {
    "ExecuteTime": {
     "end_time": "2018-05-29T03:17:14.971531Z",
     "start_time": "2018-05-29T03:17:14.570590Z"
    }
   },
   "outputs": [
    {
     "data": {
      "text/plain": [
       "<seaborn.axisgrid.FacetGrid at 0x2c23c51a518>"
      ]
     },
     "execution_count": 58,
     "metadata": {},
     "output_type": "execute_result"
    },
    {
     "data": {
      "image/png": "[encoded data removed]",
      "text/plain": [
       "<matplotlib.figure.Figure at 0x2c23c51a400>"
      ]
     },
     "metadata": {},
     "output_type": "display_data"
    }
   ],
   "source": [
    "sns.factorplot(x = \"city\", y = \"annual_salary\", \n",
    "               data = df_clean2, kind = \"bar\", aspect = 3).set_xticklabels(rotation = 45)"
   ]
  },
  {
   "cell_type": "markdown",
   "metadata": {},
   "source": [
    "#### Creating Target Variable"
   ]
  },
  {
   "cell_type": "code",
   "execution_count": 59,
   "metadata": {
    "ExecuteTime": {
     "end_time": "2018-05-29T03:17:15.143061Z",
     "start_time": "2018-05-29T03:17:14.975509Z"
    }
   },
   "outputs": [
    {
     "data": {
      "text/plain": [
       "Text(0.5,1,'Indeed Salary Distribution with Median (black) and Mean (red)')"
      ]
     },
     "execution_count": 59,
     "metadata": {},
     "output_type": "execute_result"
    },
    {
     "data": {
      "image/png": "[encoded data removed]",
      "text/plain": [
       "<matplotlib.figure.Figure at 0x2c23c3cb5f8>"
      ]
     },
     "metadata": {},
     "output_type": "display_data"
    }
   ],
   "source": [
    "#plotting salary distribution, with vertical lines to represent the mean and median salary\n",
    "sal_plot = df_clean4[df_clean4[\"annual_salary\"].notnull()]\n",
    "ax = sns.distplot(sal_plot[\"annual_salary\"])\n",
    "ax.axvline(sal_plot[\"annual_salary\"].median(), lw=2.5, ls='dashed', color='black')\n",
    "ax.axvline(sal_plot[\"annual_salary\"].mean(), lw=2.5, ls='dashed', color='red')\n",
    "plt.title('Indeed Salary Distribution with Median (black) and Mean (red)')"
   ]
  },
  {
   "cell_type": "code",
   "execution_count": 60,
   "metadata": {
    "ExecuteTime": {
     "end_time": "2018-05-29T03:17:15.154054Z",
     "start_time": "2018-05-29T03:17:15.147050Z"
    }
   },
   "outputs": [
    {
     "name": "stdout",
     "output_type": "stream",
     "text": [
      "103379.0\n",
      "108246.40673289183\n"
     ]
    }
   ],
   "source": [
    "# Use median to characterise salary since the distribution is right skewed\n",
    "print(df_clean4[\"annual_salary\"].median())\n",
    "print(df_clean4[\"annual_salary\"].mean())\n",
    "median = df_clean4[\"annual_salary\"].median()"
   ]
  },
  {
   "cell_type": "code",
   "execution_count": 61,
   "metadata": {
    "ExecuteTime": {
     "end_time": "2018-05-29T03:17:15.191953Z",
     "start_time": "2018-05-29T03:17:15.155028Z"
    }
   },
   "outputs": [],
   "source": [
    "df_clean4[\"Target\"] = [1 if x>=df_clean4[\"annual_salary\"].median() else 0 for x in df_clean4[\"annual_salary\"]]"
   ]
  },
  {
   "cell_type": "code",
   "execution_count": 62,
   "metadata": {
    "ExecuteTime": {
     "end_time": "2018-05-29T03:17:15.204894Z",
     "start_time": "2018-05-29T03:17:15.192928Z"
    }
   },
   "outputs": [
    {
     "data": {
      "text/html": [
       "<div>\n",
       "<style scoped>\n",
       "    .dataframe tbody tr th:only-of-type {\n",
       "        vertical-align: middle;\n",
       "    }\n",
       "\n",
       "    .dataframe tbody tr th {\n",
       "        vertical-align: top;\n",
       "    }\n",
       "\n",
       "    .dataframe thead th {\n",
       "        text-align: right;\n",
       "    }\n",
       "</style>\n",
       "<table border=\"1\" class=\"dataframe\">\n",
       "  <thead>\n",
       "    <tr style=\"text-align: right;\">\n",
       "      <th></th>\n",
       "      <th>title_clean</th>\n",
       "      <th>description</th>\n",
       "      <th>annual_salary</th>\n",
       "      <th>Target</th>\n",
       "    </tr>\n",
       "  </thead>\n",
       "  <tbody>\n",
       "    <tr>\n",
       "      <th>0</th>\n",
       "      <td>Other</td>\n",
       "      <td>soil scientist/soil surveyor job - sunraysia e...</td>\n",
       "      <td>80000.0</td>\n",
       "      <td>0</td>\n",
       "    </tr>\n",
       "    <tr>\n",
       "      <th>1</th>\n",
       "      <td>Other</td>\n",
       "      <td>chemistry laboratory technician/analyst job - ...</td>\n",
       "      <td>78260.0</td>\n",
       "      <td>0</td>\n",
       "    </tr>\n",
       "    <tr>\n",
       "      <th>2</th>\n",
       "      <td>2.senior_datascience</td>\n",
       "      <td>data engineer - machine learning job - csiro -...</td>\n",
       "      <td>128000.0</td>\n",
       "      <td>1</td>\n",
       "    </tr>\n",
       "    <tr>\n",
       "      <th>3</th>\n",
       "      <td>8.dataalyst</td>\n",
       "      <td>data analyst job - deloitte - melbourne vic | ...</td>\n",
       "      <td>80000.0</td>\n",
       "      <td>0</td>\n",
       "    </tr>\n",
       "    <tr>\n",
       "      <th>4</th>\n",
       "      <td>3.data_scientist</td>\n",
       "      <td>data science research engineer job - macquarie...</td>\n",
       "      <td>106382.0</td>\n",
       "      <td>1</td>\n",
       "    </tr>\n",
       "  </tbody>\n",
       "</table>\n",
       "</div>"
      ],
      "text/plain": [
       "            title_clean                                        description  \\\n",
       "0                 Other  soil scientist/soil surveyor job - sunraysia e...   \n",
       "1                 Other  chemistry laboratory technician/analyst job - ...   \n",
       "2  2.senior_datascience  data engineer - machine learning job - csiro -...   \n",
       "3           8.dataalyst  data analyst job - deloitte - melbourne vic | ...   \n",
       "4      3.data_scientist  data science research engineer job - macquarie...   \n",
       "\n",
       "   annual_salary  Target  \n",
       "0        80000.0       0  \n",
       "1        78260.0       0  \n",
       "2       128000.0       1  \n",
       "3        80000.0       0  \n",
       "4       106382.0       1  "
      ]
     },
     "execution_count": 62,
     "metadata": {},
     "output_type": "execute_result"
    }
   ],
   "source": [
    "df_clean4.head()"
   ]
  },
  {
   "cell_type": "code",
   "execution_count": 63,
   "metadata": {
    "ExecuteTime": {
     "end_time": "2018-05-29T03:17:15.212872Z",
     "start_time": "2018-05-29T03:17:15.207887Z"
    }
   },
   "outputs": [],
   "source": [
    "# df_clean4['Target'] = np.where(df_clean4['annual_salary']>=median, 'high', 'low')"
   ]
  },
  {
   "cell_type": "code",
   "execution_count": 64,
   "metadata": {
    "ExecuteTime": {
     "end_time": "2018-05-29T03:17:15.226836Z",
     "start_time": "2018-05-29T03:17:15.216864Z"
    }
   },
   "outputs": [
    {
     "data": {
      "text/html": [
       "<div>\n",
       "<style scoped>\n",
       "    .dataframe tbody tr th:only-of-type {\n",
       "        vertical-align: middle;\n",
       "    }\n",
       "\n",
       "    .dataframe tbody tr th {\n",
       "        vertical-align: top;\n",
       "    }\n",
       "\n",
       "    .dataframe thead th {\n",
       "        text-align: right;\n",
       "    }\n",
       "</style>\n",
       "<table border=\"1\" class=\"dataframe\">\n",
       "  <thead>\n",
       "    <tr style=\"text-align: right;\">\n",
       "      <th></th>\n",
       "      <th>title_clean</th>\n",
       "      <th>description</th>\n",
       "      <th>annual_salary</th>\n",
       "      <th>Target</th>\n",
       "    </tr>\n",
       "  </thead>\n",
       "  <tbody>\n",
       "    <tr>\n",
       "      <th>0</th>\n",
       "      <td>Other</td>\n",
       "      <td>soil scientist/soil surveyor job - sunraysia e...</td>\n",
       "      <td>80000.0</td>\n",
       "      <td>0</td>\n",
       "    </tr>\n",
       "    <tr>\n",
       "      <th>1</th>\n",
       "      <td>Other</td>\n",
       "      <td>chemistry laboratory technician/analyst job - ...</td>\n",
       "      <td>78260.0</td>\n",
       "      <td>0</td>\n",
       "    </tr>\n",
       "    <tr>\n",
       "      <th>2</th>\n",
       "      <td>2.senior_datascience</td>\n",
       "      <td>data engineer - machine learning job - csiro -...</td>\n",
       "      <td>128000.0</td>\n",
       "      <td>1</td>\n",
       "    </tr>\n",
       "    <tr>\n",
       "      <th>3</th>\n",
       "      <td>8.dataalyst</td>\n",
       "      <td>data analyst job - deloitte - melbourne vic | ...</td>\n",
       "      <td>80000.0</td>\n",
       "      <td>0</td>\n",
       "    </tr>\n",
       "    <tr>\n",
       "      <th>4</th>\n",
       "      <td>3.data_scientist</td>\n",
       "      <td>data science research engineer job - macquarie...</td>\n",
       "      <td>106382.0</td>\n",
       "      <td>1</td>\n",
       "    </tr>\n",
       "  </tbody>\n",
       "</table>\n",
       "</div>"
      ],
      "text/plain": [
       "            title_clean                                        description  \\\n",
       "0                 Other  soil scientist/soil surveyor job - sunraysia e...   \n",
       "1                 Other  chemistry laboratory technician/analyst job - ...   \n",
       "2  2.senior_datascience  data engineer - machine learning job - csiro -...   \n",
       "3           8.dataalyst  data analyst job - deloitte - melbourne vic | ...   \n",
       "4      3.data_scientist  data science research engineer job - macquarie...   \n",
       "\n",
       "   annual_salary  Target  \n",
       "0        80000.0       0  \n",
       "1        78260.0       0  \n",
       "2       128000.0       1  \n",
       "3        80000.0       0  \n",
       "4       106382.0       1  "
      ]
     },
     "execution_count": 64,
     "metadata": {},
     "output_type": "execute_result"
    }
   ],
   "source": [
    "df_clean4.head()"
   ]
  },
  {
   "cell_type": "code",
   "execution_count": 65,
   "metadata": {
    "ExecuteTime": {
     "end_time": "2018-05-29T03:17:15.235812Z",
     "start_time": "2018-05-29T03:17:15.231823Z"
    }
   },
   "outputs": [],
   "source": [
    "df_description = df_clean4[\"description\"]"
   ]
  },
  {
   "cell_type": "markdown",
   "metadata": {
    "heading_collapsed": true
   },
   "source": [
    "### NLP\n",
    "* Based non comparison below, tfidf was not adopted since it did not increase score\n",
    "* Stop words were added to remove non-value add words such as job, indeed etc\n",
    "* Lematization was also compared but was not adopted since it did not increase score\n",
    "* n_grams were analysed in great depth below, assessed to use a combination of 1 and 2 words to capture factors that impact salary and also prediction of job titles. Words such as python and SQL would have been excluded. 2 word ngrams also provide context"
   ]
  },
  {
   "cell_type": "code",
   "execution_count": 66,
   "metadata": {
    "ExecuteTime": {
     "end_time": "2018-05-29T03:17:16.382283Z",
     "start_time": "2018-05-29T03:17:15.236809Z"
    },
    "hidden": true
   },
   "outputs": [
    {
     "name": "stderr",
     "output_type": "stream",
     "text": [
      "C:\\Users\\Josh Lim\\Anaconda3\\lib\\site-packages\\gensim\\utils.py:1197: UserWarning: detected Windows; aliasing chunkize to chunkize_serial\n",
      "  warnings.warn(\"detected Windows; aliasing chunkize to chunkize_serial\")\n"
     ]
    }
   ],
   "source": [
    "#Importing NLP library\n",
    "from nltk.corpus import stopwords\n",
    "from sklearn.feature_extraction.text import ENGLISH_STOP_WORDS\n",
    "from gensim import corpora, models, matutils\n",
    "from sklearn.feature_extraction.text import CountVectorizer, TfidfVectorizer\n",
    "from collections import defaultdict\n",
    "import string\n",
    "import nltk\n",
    "from sklearn.feature_extraction.text import TfidfTransformer\n",
    "from nltk.stem import WordNetLemmatizer\n",
    "from nltk import word_tokenize"
   ]
  },
  {
   "cell_type": "code",
   "execution_count": 67,
   "metadata": {
    "ExecuteTime": {
     "end_time": "2018-05-29T03:17:16.584305Z",
     "start_time": "2018-05-29T03:17:16.384284Z"
    },
    "hidden": true
   },
   "outputs": [
    {
     "name": "stderr",
     "output_type": "stream",
     "text": [
      "C:\\Users\\Josh Lim\\Anaconda3\\lib\\site-packages\\sklearn\\cross_validation.py:41: DeprecationWarning: This module was deprecated in version 0.18 in favor of the model_selection module into which all the refactored classes and functions are moved. Also note that the interface of the new CV iterators are different from that of this module. This module will be removed in 0.20.\n",
      "  \"This module will be removed in 0.20.\", DeprecationWarning)\n",
      "C:\\Users\\Josh Lim\\Anaconda3\\lib\\site-packages\\sklearn\\grid_search.py:42: DeprecationWarning: This module was deprecated in version 0.18 in favor of the model_selection module into which all the refactored classes and functions are moved. This module will be removed in 0.20.\n",
      "  DeprecationWarning)\n"
     ]
    }
   ],
   "source": [
    "# Standard scaler\n",
    "from sklearn.preprocessing import StandardScaler\n",
    "\n",
    "# Categorical\n",
    "from sklearn.linear_model import LogisticRegression\n",
    "from sklearn.svm import SVC, LinearSVC\n",
    "from sklearn.ensemble import RandomForestClassifier\n",
    "from sklearn.neighbors import KNeighborsClassifier\n",
    "from sklearn.naive_bayes import GaussianNB\n",
    "from sklearn.linear_model import Perceptron\n",
    "from sklearn.linear_model import SGDClassifier\n",
    "from sklearn.tree import DecisionTreeClassifier\n",
    "from sklearn.ensemble import AdaBoostClassifier\n",
    "from sklearn.naive_bayes import MultinomialNB\n",
    "from sklearn.linear_model import LogisticRegressionCV\n",
    "\n",
    "# Pipeline\n",
    "from sklearn.pipeline import Pipeline\n",
    "\n",
    "# Continuous\n",
    "from sklearn.linear_model import Ridge, Lasso, ElasticNet, LinearRegression, RidgeCV, LassoCV, ElasticNetCV\n",
    "from sklearn.svm import SVR\n",
    "from sklearn.tree import DecisionTreeRegressor\n",
    "from sklearn.ensemble import RandomForestRegressor\n",
    "from sklearn.ensemble import AdaBoostRegressor\n",
    "\n",
    "# Clustering\n",
    "from sklearn.cluster import KMeans\n",
    "from sklearn.preprocessing import normalize\n",
    "from sklearn.metrics import silhouette_score\n",
    "\n",
    "#Gridsearch and scoring\n",
    "from sklearn.grid_search import GridSearchCV\n",
    "from sklearn import metrics\n",
    "from sklearn.model_selection import cross_val_score\n",
    "from sklearn.metrics import classification_report,confusion_matrix\n",
    "from sklearn.metrics import accuracy_score\n",
    "\n",
    "# Train test\n",
    "from sklearn.model_selection import train_test_split\n",
    "\n",
    "# Feature selection\n",
    "from sklearn.feature_selection import RFECV\n",
    "from sklearn.feature_selection import SelectKBest, chi2, f_classif"
   ]
  },
  {
   "cell_type": "code",
   "execution_count": 68,
   "metadata": {
    "ExecuteTime": {
     "end_time": "2018-05-29T03:17:16.590289Z",
     "start_time": "2018-05-29T03:17:16.585353Z"
    },
    "hidden": true
   },
   "outputs": [],
   "source": [
    "# Train test split\n",
    "X_train, X_test, y_train, y_test = train_test_split(df_description, df_clean4['Target'], test_size=0.3)"
   ]
  },
  {
   "cell_type": "markdown",
   "metadata": {
    "heading_collapsed": true,
    "hidden": true
   },
   "source": [
    "#### Determining whether to use count or tfidf vectorizer"
   ]
  },
  {
   "cell_type": "markdown",
   "metadata": {
    "hidden": true
   },
   "source": [
    "Based on the scores below, we will use count vectorizer"
   ]
  },
  {
   "cell_type": "code",
   "execution_count": 69,
   "metadata": {
    "ExecuteTime": {
     "end_time": "2018-05-29T03:17:16.603255Z",
     "start_time": "2018-05-29T03:17:16.592284Z"
    },
    "hidden": true
   },
   "outputs": [],
   "source": [
    "def count_vect_score(X_train, X_test, y_train, y_test, ngrams = (1,2)):\n",
    "    for model in range(1,3):\n",
    "        if model == 1:\n",
    "            print(\"---------------------------------------------------\")\n",
    "            model = Pipeline([('vect', CountVectorizer(analyzer=\"word\",stop_words='english',ngram_range=ngrams)),('clf', DecisionTreeClassifier()),])\n",
    "            print(\"Count vect, Decision Tree\")\n",
    "            print(\"---------------------------------------------------\")\n",
    "        elif model == 2:\n",
    "            print(\"---------------------------------------------------\")\n",
    "            model = Pipeline([('vect', CountVectorizer(analyzer=\"word\",stop_words='english',ngram_range=ngrams)),('clf', RandomForestClassifier()),])\n",
    "            print(\"Count vect, Random Forest\")"
   ]
  },
  {
   "cell_type": "code",
   "execution_count": 70,
   "metadata": {
    "ExecuteTime": {
     "end_time": "2018-05-29T03:17:16.795805Z",
     "start_time": "2018-05-29T03:17:16.605248Z"
    },
    "hidden": true
   },
   "outputs": [],
   "source": [
    "# Function to score count vectorizer and tfidif vectorizer\n",
    "def count_vect_score(X_train, X_test, y_train, y_test, ngrams = (1,2)):\n",
    "    for model in range(1,7):\n",
    "        if model == 1:\n",
    "            print(\"---------------------------------------------------\")\n",
    "            model = Pipeline([('vect', CountVectorizer(analyzer=\"word\",stop_words='english',ngram_range=ngrams)),('clf', DecisionTreeClassifier()),])\n",
    "            print(\"Count vect, Decision Tree\")\n",
    "            print(\"---------------------------------------------------\")\n",
    "        elif model == 2:\n",
    "            print(\"---------------------------------------------------\")\n",
    "            model = Pipeline([('vect', CountVectorizer(analyzer=\"word\",stop_words='english',ngram_range=ngrams)),('clf', RandomForestClassifier()),])\n",
    "            print(\"Count vect, Random Forest\")\n",
    "        elif model == 3:\n",
    "            print(\"---------------------------------------------------\")\n",
    "            model = Pipeline([('vect', CountVectorizer(analyzer=\"word\",stop_words='english',ngram_range=ngrams)),('clf', AdaBoostClassifier()),])\n",
    "            print(\"Count vect, AdaBoostClassifier\")\n",
    "            print(\"---------------------------------------------------\")\n",
    "        elif model == 4:\n",
    "            print(\"---------------------------------------------------\")\n",
    "            model = Pipeline([('vect', CountVectorizer(analyzer=\"word\",stop_words='english',ngram_range=ngrams)),('clf', MultinomialNB()),])\n",
    "            print(\"Count vect, multi NB regression\")\n",
    "            print(\"---------------------------------------------------\")\n",
    "        elif model == 5:\n",
    "            print(\"---------------------------------------------------\")\n",
    "            model = Pipeline([('vect', CountVectorizer(analyzer=\"word\",stop_words='english',ngram_range=ngrams)),('clf', LogisticRegression()),])\n",
    "            print(\"Count vect, Logistic Regression\")\n",
    "            print(\"---------------------------------------------------\")\n",
    "        elif model == 6:\n",
    "            print(\"---------------------------------------------------\")\n",
    "            model = Pipeline([('vect', CountVectorizer(analyzer=\"word\",stop_words='english',ngram_range=ngrams)),('clf', SVC(kernel=\"linear\")),])\n",
    "            print(\"Count vect, SVC\")\n",
    "            print(\"---------------------------------------------------\")\n",
    "\n",
    "        model.fit(X_train, y_train)\n",
    "        predictions = model.predict(X_test)\n",
    "        print(accuracy_score(y_test, predictions).round(3), \"ngram\",\"{}\".format(ngrams))\n",
    "\n",
    "def tfidf_vect_score(X_train, X_test, y_train, y_test, ngrams = (1,2)):\n",
    "    for model in range(1,7):\n",
    "        if model == 1:\n",
    "            print(\"---------------------------------------------------\")\n",
    "            model = Pipeline([('vect', TfidfVectorizer(analyzer=\"word\",stop_words='english',ngram_range=ngrams)),('clf', DecisionTreeClassifier()),])\n",
    "            print(\"Tfidf vect, Decision Tree\")\n",
    "            print(\"---------------------------------------------------\")\n",
    "        elif model == 2:\n",
    "            print(\"---------------------------------------------------\")\n",
    "            model = Pipeline([('vect', TfidfVectorizer(analyzer=\"word\",stop_words='english',ngram_range=ngrams)),('clf', RandomForestClassifier()),])\n",
    "            print(\"Tfidf vect, Random Forest\")\n",
    "        elif model == 3:\n",
    "            print(\"---------------------------------------------------\")\n",
    "            model = Pipeline([('vect', TfidfVectorizer(analyzer=\"word\",stop_words='english',ngram_range=ngrams)),('clf', AdaBoostClassifier()),])\n",
    "            print(\"Tfidf vect, AdaBoostClassifier\")\n",
    "            print(\"---------------------------------------------------\")\n",
    "        elif model == 4:\n",
    "            print(\"---------------------------------------------------\")\n",
    "            model = Pipeline([('vect', TfidfVectorizer(analyzer=\"word\",stop_words='english',ngram_range=ngrams)),('clf', MultinomialNB()),])\n",
    "            print(\"Tfidf vect, multi NB regression\")\n",
    "            print(\"---------------------------------------------------\")\n",
    "        elif model == 5:\n",
    "            print(\"---------------------------------------------------\")\n",
    "            model = Pipeline([('vect', TfidfVectorizer(analyzer=\"word\",stop_words='english',ngram_range=ngrams)),('clf', LogisticRegression()),])\n",
    "            print(\"Tfidf vect, Logistic Regression\")\n",
    "            print(\"---------------------------------------------------\")\n",
    "        elif model == 6:\n",
    "            print(\"---------------------------------------------------\")\n",
    "            model = Pipeline([('vect', TfidfVectorizer(analyzer=\"word\",stop_words='english',ngram_range=ngrams)),('clf', SVC(kernel=\"linear\")),])\n",
    "            print(\"Tfidf vect, SVC\")\n",
    "            print(\"---------------------------------------------------\")\n",
    "\n",
    "        model.fit(X_train, y_train)\n",
    "        predictions = model.predict(X_test)\n",
    "        print(accuracy_score(y_test, predictions).round(3), \"ngram\",\"{}\".format(ngrams))"
   ]
  },
  {
   "cell_type": "code",
   "execution_count": 71,
   "metadata": {
    "ExecuteTime": {
     "end_time": "2018-05-29T03:17:23.689737Z",
     "start_time": "2018-05-29T03:17:16.796779Z"
    },
    "hidden": true
   },
   "outputs": [
    {
     "name": "stdout",
     "output_type": "stream",
     "text": [
      "---------------------------------------------------\n",
      "Count vect, Decision Tree\n",
      "---------------------------------------------------\n",
      "0.724 ngram (2, 2)\n",
      "---------------------------------------------------\n",
      "Count vect, Random Forest\n",
      "0.765 ngram (2, 2)\n",
      "---------------------------------------------------\n",
      "Count vect, AdaBoostClassifier\n",
      "---------------------------------------------------\n",
      "0.702 ngram (2, 2)\n",
      "---------------------------------------------------\n",
      "Count vect, multi NB regression\n",
      "---------------------------------------------------\n",
      "0.739 ngram (2, 2)\n",
      "---------------------------------------------------\n",
      "Count vect, Logistic Regression\n",
      "---------------------------------------------------\n",
      "0.779 ngram (2, 2)\n",
      "---------------------------------------------------\n",
      "Count vect, SVC\n",
      "---------------------------------------------------\n",
      "0.787 ngram (2, 2)\n"
     ]
    }
   ],
   "source": [
    "count_vect_score(X_train, X_test, y_train, y_test, ngrams = (2,2))"
   ]
  },
  {
   "cell_type": "code",
   "execution_count": 72,
   "metadata": {
    "ExecuteTime": {
     "end_time": "2018-05-29T03:17:30.860302Z",
     "start_time": "2018-05-29T03:17:23.691731Z"
    },
    "hidden": true
   },
   "outputs": [
    {
     "name": "stdout",
     "output_type": "stream",
     "text": [
      "---------------------------------------------------\n",
      "Tfidf vect, Decision Tree\n",
      "---------------------------------------------------\n",
      "0.68 ngram (2, 2)\n",
      "---------------------------------------------------\n",
      "Tfidf vect, Random Forest\n",
      "0.684 ngram (2, 2)\n",
      "---------------------------------------------------\n",
      "Tfidf vect, AdaBoostClassifier\n",
      "---------------------------------------------------\n",
      "0.739 ngram (2, 2)\n",
      "---------------------------------------------------\n",
      "Tfidf vect, multi NB regression\n",
      "---------------------------------------------------\n",
      "0.706 ngram (2, 2)\n",
      "---------------------------------------------------\n",
      "Tfidf vect, Logistic Regression\n",
      "---------------------------------------------------\n",
      "0.739 ngram (2, 2)\n",
      "---------------------------------------------------\n",
      "Tfidf vect, SVC\n",
      "---------------------------------------------------\n",
      "0.794 ngram (2, 2)\n"
     ]
    }
   ],
   "source": [
    "tfidf_vect_score(X_train, X_test, y_train, y_test, ngrams = (2,2))"
   ]
  },
  {
   "cell_type": "markdown",
   "metadata": {
    "hidden": true
   },
   "source": [
    "#### Determining whether to use stemming or lematisation"
   ]
  },
  {
   "cell_type": "code",
   "execution_count": 73,
   "metadata": {
    "ExecuteTime": {
     "end_time": "2018-05-29T03:17:30.868280Z",
     "start_time": "2018-05-29T03:17:30.862297Z"
    },
    "hidden": true
   },
   "outputs": [],
   "source": [
    "# Lemmatisation class\n",
    "class LemmaTokenizer(object):\n",
    "    def __init__(self):\n",
    "        self.wnl = WordNetLemmatizer()\n",
    "    def __call__(self, articles):\n",
    "        return [self.wnl.lemmatize(t) for t in word_tokenize(articles)]"
   ]
  },
  {
   "cell_type": "code",
   "execution_count": 74,
   "metadata": {
    "ExecuteTime": {
     "end_time": "2018-05-29T03:17:30.889225Z",
     "start_time": "2018-05-29T03:17:30.869276Z"
    },
    "hidden": true
   },
   "outputs": [],
   "source": [
    "def stem_vect_score(X_train, X_test, y_train, y_test, ngrams = (1,2)):\n",
    "    for model in range(1,3):\n",
    "        if model == 1:\n",
    "            print(\"---------------------------------------------------\")\n",
    "            model = Pipeline([('vect', CountVectorizer(analyzer=\"word\",stop_words='english',ngram_range=ngrams)),('clf', LogisticRegressionCV(cv = 2)),])\n",
    "            print(\"No Lemmatized, LogReg\")\n",
    "            print(\"---------------------------------------------------\")\n",
    "        if model == 2:\n",
    "            print(\"---------------------------------------------------\")\n",
    "            model = Pipeline([('vect', CountVectorizer(analyzer=\"word\",stop_words='english',ngram_range=ngrams, tokenizer=LemmaTokenizer())),('clf', LogisticRegressionCV(cv = 2)),])\n",
    "            print(\"Lemmatized, LogReg\")\n",
    "            \n",
    "        model.fit(X_train, y_train)\n",
    "        predictions = model.predict(X_test)\n",
    "        print(accuracy_score(y_test, predictions).round(3), \"ngram\",\"{}\".format(ngrams))           \n"
   ]
  },
  {
   "cell_type": "code",
   "execution_count": 75,
   "metadata": {
    "ExecuteTime": {
     "end_time": "2018-05-29T03:18:05.715786Z",
     "start_time": "2018-05-29T03:17:30.892220Z"
    },
    "hidden": true
   },
   "outputs": [
    {
     "name": "stdout",
     "output_type": "stream",
     "text": [
      "---------------------------------------------------\n",
      "No Lemmatized, LogReg\n",
      "---------------------------------------------------\n",
      "0.787 ngram (1, 2)\n",
      "---------------------------------------------------\n",
      "Lemmatized, LogReg\n",
      "0.79 ngram (1, 2)\n"
     ]
    }
   ],
   "source": [
    "stem_vect_score(X_train, X_test, y_train, y_test, ngrams = (1,2))"
   ]
  },
  {
   "cell_type": "markdown",
   "metadata": {
    "heading_collapsed": true,
    "hidden": true
   },
   "source": [
    "#### Word exploration"
   ]
  },
  {
   "cell_type": "markdown",
   "metadata": {
    "ExecuteTime": {
     "end_time": "2018-05-02T06:23:05.451079Z",
     "start_time": "2018-05-02T06:23:05.447110Z"
    },
    "heading_collapsed": true,
    "hidden": true
   },
   "source": [
    "##### There are many redundant words below"
   ]
  },
  {
   "cell_type": "code",
   "execution_count": 76,
   "metadata": {
    "ExecuteTime": {
     "end_time": "2018-05-29T03:18:05.723729Z",
     "start_time": "2018-05-29T03:18:05.717742Z"
    },
    "hidden": true
   },
   "outputs": [],
   "source": [
    "# Frequent words function\n",
    "def get_freq_words(sparse_counts, columns):\n",
    "    # X_all is a sparse matrix, so sum() returns a 'matrix' datatype ...\n",
    "    #   which we then convert into a 1-D ndarray for sorting\n",
    "    word_counts = np.asarray(X_all.sum(axis=0)).reshape(-1)\n",
    "\n",
    "    # argsort() returns smallest first, so we reverse the result\n",
    "    largest_count_indices = word_counts.argsort()[::-1]\n",
    "\n",
    "    # pretty-print the results! Remember to always ask whether they make sense ...\n",
    "    freq_words = pd.Series(word_counts[largest_count_indices], \n",
    "                           index=columns[largest_count_indices])\n",
    "\n",
    "    return freq_words"
   ]
  },
  {
   "cell_type": "code",
   "execution_count": 77,
   "metadata": {
    "ExecuteTime": {
     "end_time": "2018-05-29T03:18:06.109718Z",
     "start_time": "2018-05-29T03:18:05.724726Z"
    },
    "hidden": true
   },
   "outputs": [
    {
     "name": "stdout",
     "output_type": "stream",
     "text": [
      "(906, 12228)\n",
      "Requires 11078568 ints to do a .toarray()!\n",
      "job                      8757\n",
      "ago                      4911\n",
      "apply                    4693\n",
      "data                     4587\n",
      "nsw                      4235\n",
      "sydney                   3909\n",
      "days                     3813\n",
      "business                 3056\n",
      "experience               2887\n",
      "company                  1994\n",
      "analyst                  1848\n",
      "jobs                     1779\n",
      "work                     1729\n",
      "easily                   1655\n",
      "team                     1653\n",
      "vic                      1574\n",
      "role                     1568\n",
      "skills                   1557\n",
      "melbourne                1516\n",
      "recruitment              1348\n",
      "com                      1260\n",
      "australia                1257\n",
      "help                     1223\n",
      "centre                   1204\n",
      "senior                   1196\n",
      "development              1152\n",
      "description              1122\n",
      "engineer                 1121\n",
      "like                     1114\n",
      "resume                   1100\n",
      "                         ... \n",
      "orica                       1\n",
      "orientatedyou               1\n",
      "orientationsale             1\n",
      "destructive                 1\n",
      "destruction                 1\n",
      "destinationnsw              1\n",
      "originators                 1\n",
      "orm                         1\n",
      "orthoptist                  1\n",
      "osborne                     1\n",
      "oshc                        1\n",
      "ospf                        1\n",
      "osta                        1\n",
      "desiredknowledge            1\n",
      "osts                        1\n",
      "ot                          1\n",
      "desirably                   1\n",
      "desirablestrong             1\n",
      "desirableown                1\n",
      "ota                         1\n",
      "desirablegood               1\n",
      "desirabledemonstrated       1\n",
      "otb                         1\n",
      "othersability               1\n",
      "othersensure                1\n",
      "othersthe                   1\n",
      "ouaf                        1\n",
      "outappropriate              1\n",
      "designconfers               1\n",
      "kite                        1\n",
      "Length: 12228, dtype: int64\n"
     ]
    }
   ],
   "source": [
    "cvt      =  CountVectorizer(analyzer=\"word\",stop_words='english', ngram_range=(1,1))\n",
    "X_all    =  cvt.fit_transform(df_description)\n",
    "columns  =  np.array(cvt.get_feature_names())          # ndarray (for indexing below)\n",
    "print(X_all.shape)\n",
    "print(\"Requires {} ints to do a .toarray()!\".format(X_all.shape[0] * X_all.shape[1]))\n",
    "freq_words = get_freq_words(X_all, columns)\n",
    "# freq_words.to_clipboard()\n",
    "print(freq_words)"
   ]
  },
  {
   "cell_type": "code",
   "execution_count": 78,
   "metadata": {
    "ExecuteTime": {
     "end_time": "2018-05-29T03:18:06.126712Z",
     "start_time": "2018-05-29T03:18:06.110690Z"
    },
    "hidden": true
   },
   "outputs": [],
   "source": [
    "stopwords = nltk.corpus.stopwords.words('english')\n",
    "newStopWords = [\"indeed\",\"job\",\"ago\",\"apply\",\"nsw\",\"sydney\",\"days\",\"experience\",\"company\",\"jobs\",\"work\",\"team\",\"easily\",\"role\",\"vic\",\"skills\",\"melbourne\",\"recruitment\",\"com\",\"help\",\"australia\",\"centre\",\"description\",\"like\",\"resume\",\"city\",\"working\",\"search\",\"state\",\"privacy\",\"post\",\"upload\",\"terms\",\"territory\",\"research\",\"sign\",\"title\",\"ability\",\"keywords\",\"year\",\"save\",\"cookies\",\"resumesemployers\",\"reviewsfind\",\"postcode\",\"jobscompany\",\"salariesfind\",\"reviews\",\"skip\",\"searchclose\",\"yes\",\"day\",\"position\",\"required\",\"sales\",\"original\",\"new\",\"hours\",\"time\",\"including\",\"au\"]\n",
    "stopwords.extend(newStopWords)"
   ]
  },
  {
   "cell_type": "code",
   "execution_count": 79,
   "metadata": {
    "ExecuteTime": {
     "end_time": "2018-05-29T03:18:06.476715Z",
     "start_time": "2018-05-29T03:18:06.127645Z"
    },
    "hidden": true,
    "scrolled": true
   },
   "outputs": [
    {
     "name": "stdout",
     "output_type": "stream",
     "text": [
      "(906, 12300)\n",
      "Requires 11143800 ints to do a .toarray()!\n",
      "data                     4587\n",
      "business                 3056\n",
      "analyst                  1848\n",
      "please                   1234\n",
      "senior                   1196\n",
      "may                      1180\n",
      "development              1152\n",
      "engineer                 1121\n",
      "advanced                 1086\n",
      "management               1068\n",
      "find                     1048\n",
      "application              1045\n",
      "services                 1043\n",
      "support                   961\n",
      "solutions                 870\n",
      "technical                 846\n",
      "strong                    845\n",
      "intelligence              763\n",
      "developer                 759\n",
      "information               735\n",
      "software                  730\n",
      "customer                  721\n",
      "within                    713\n",
      "consultant                685\n",
      "analysis                  676\n",
      "digital                   668\n",
      "technology                660\n",
      "full                      659\n",
      "analytics                 658\n",
      "manager                   653\n",
      "                         ... \n",
      "organsiation                1\n",
      "organsising                 1\n",
      "orica                       1\n",
      "desiredknowledge            1\n",
      "orientatedyou               1\n",
      "orientationsale             1\n",
      "originators                 1\n",
      "desirably                   1\n",
      "desirablestrong             1\n",
      "desirableown                1\n",
      "orm                         1\n",
      "desirablegood               1\n",
      "desirabledemonstrated       1\n",
      "orthoptist                  1\n",
      "osborne                     1\n",
      "oshc                        1\n",
      "ospf                        1\n",
      "osta                        1\n",
      "designconfers               1\n",
      "osts                        1\n",
      "ot                          1\n",
      "desgin                      1\n",
      "ota                         1\n",
      "otb                         1\n",
      "othersability               1\n",
      "deserter                    1\n",
      "descriptionyour             1\n",
      "othersensure                1\n",
      "othersthe                   1\n",
      "kloud                       1\n",
      "Length: 12300, dtype: int64\n"
     ]
    }
   ],
   "source": [
    "cvt      =  CountVectorizer(analyzer=\"word\",stop_words=stopwords, ngram_range=(1,1))\n",
    "X_all    =  cvt.fit_transform(df_description)\n",
    "columns  =  np.array(cvt.get_feature_names())          # ndarray (for indexing below)\n",
    "print(X_all.shape)\n",
    "print(\"Requires {} ints to do a .toarray()!\".format(X_all.shape[0] * X_all.shape[1]))\n",
    "freq_words = get_freq_words(X_all, columns)\n",
    "# freq_words.to_clipboard()\n",
    "print(freq_words)"
   ]
  },
  {
   "cell_type": "code",
   "execution_count": 80,
   "metadata": {
    "ExecuteTime": {
     "end_time": "2018-05-29T03:18:09.523731Z",
     "start_time": "2018-05-29T03:18:06.477709Z"
    },
    "hidden": true
   },
   "outputs": [
    {
     "name": "stdout",
     "output_type": "stream",
     "text": [
      "0.79\n",
      "0.794\n"
     ]
    }
   ],
   "source": [
    "# Compare with non-stop words\n",
    "model = Pipeline([('vect', CountVectorizer(analyzer=\"word\",stop_words='english',ngram_range=(2,3))),('clf', LogisticRegression()),])\n",
    "model.fit(X_train, y_train)\n",
    "predictions = model.predict(X_test)\n",
    "print(accuracy_score(y_test, predictions).round(3))\n",
    "model = Pipeline([('vect', CountVectorizer(analyzer=\"word\",stop_words=stopwords,ngram_range=(2,3))),('clf', LogisticRegression()),])\n",
    "model.fit(X_train, y_train)\n",
    "predictions = model.predict(X_test)\n",
    "print(accuracy_score(y_test, predictions).round(3))"
   ]
  },
  {
   "cell_type": "markdown",
   "metadata": {},
   "source": [
    "### Model\n",
    "* Experiemented with several models above together with their scores, will fit Naive Bayes, logistic regression and decision tree\n",
    "* Logistic regression and decision trees have been explored in more detail due to their ability to produce coefficients\n",
    "* Key predictors of salary related to the seniority \"manager\", \"lead\", \"executive\", as well as skills \"data science\", \"engineer\", \"machine learning\", \"project manager\", \"artificial intelligence\""
   ]
  },
  {
   "cell_type": "markdown",
   "metadata": {
    "heading_collapsed": true
   },
   "source": [
    "#### Logistic\n",
    "\n",
    "Model accuracy scored approximately 83%. Key predictors of salary are:\n",
    "* Key words from 1 ngram: manager, senior, architect, complex, lead, executive, engineer\n",
    "* Key words from 2 ngram: data science, machine learning, project manager, data manager, artificial intelligence"
   ]
  },
  {
   "cell_type": "code",
   "execution_count": 81,
   "metadata": {
    "ExecuteTime": {
     "end_time": "2018-05-29T03:18:11.140405Z",
     "start_time": "2018-05-29T03:18:09.526720Z"
    },
    "hidden": true
   },
   "outputs": [
    {
     "name": "stdout",
     "output_type": "stream",
     "text": [
      "0.8198529411764706\n",
      "             precision    recall  f1-score   support\n",
      "\n",
      "          0       0.88      0.76      0.81       141\n",
      "          1       0.77      0.89      0.83       131\n",
      "\n",
      "avg / total       0.83      0.82      0.82       272\n",
      "\n",
      "[[107  34]\n",
      " [ 15 116]]\n"
     ]
    }
   ],
   "source": [
    "# Running logistic\n",
    "\n",
    "cvt      =  CountVectorizer(analyzer=\"word\",stop_words=stopwords, ngram_range=(1,2))\n",
    "X_all    =  cvt.fit_transform(df_description)\n",
    "columns  =  np.array(cvt.get_feature_names())\n",
    "\n",
    "# Train test split\n",
    "X_train1, X_test1, y_train1, y_test1 = train_test_split(X_all, df_clean4['Target'], test_size=0.3)\n",
    "model = LogisticRegression()\n",
    "model.fit(X_train1, y_train1)\n",
    "y_pred = model.predict(X_test1)\n",
    "print(accuracy_score(y_test1, y_pred))\n",
    "print(classification_report(y_pred,y_test1))\n",
    "print(confusion_matrix(y_pred,y_test1))"
   ]
  },
  {
   "cell_type": "code",
   "execution_count": 82,
   "metadata": {
    "ExecuteTime": {
     "end_time": "2018-05-29T03:18:11.215207Z",
     "start_time": "2018-05-29T03:18:11.142401Z"
    },
    "hidden": true
   },
   "outputs": [
    {
     "data": {
      "text/html": [
       "<div>\n",
       "<style scoped>\n",
       "    .dataframe tbody tr th:only-of-type {\n",
       "        vertical-align: middle;\n",
       "    }\n",
       "\n",
       "    .dataframe tbody tr th {\n",
       "        vertical-align: top;\n",
       "    }\n",
       "\n",
       "    .dataframe thead th {\n",
       "        text-align: right;\n",
       "    }\n",
       "</style>\n",
       "<table border=\"1\" class=\"dataframe\">\n",
       "  <thead>\n",
       "    <tr style=\"text-align: right;\">\n",
       "      <th></th>\n",
       "      <th>coef</th>\n",
       "    </tr>\n",
       "  </thead>\n",
       "  <tbody>\n",
       "    <tr>\n",
       "      <th>manager</th>\n",
       "      <td>0.329801</td>\n",
       "    </tr>\n",
       "    <tr>\n",
       "      <th>architect</th>\n",
       "      <td>0.266828</td>\n",
       "    </tr>\n",
       "    <tr>\n",
       "      <th>bi</th>\n",
       "      <td>0.264273</td>\n",
       "    </tr>\n",
       "    <tr>\n",
       "      <th>consulting</th>\n",
       "      <td>0.262322</td>\n",
       "    </tr>\n",
       "    <tr>\n",
       "      <th>quantitative</th>\n",
       "      <td>0.250951</td>\n",
       "    </tr>\n",
       "    <tr>\n",
       "      <th>senior</th>\n",
       "      <td>0.243497</td>\n",
       "    </tr>\n",
       "    <tr>\n",
       "      <th>currently</th>\n",
       "      <td>0.242386</td>\n",
       "    </tr>\n",
       "    <tr>\n",
       "      <th>lead</th>\n",
       "      <td>0.235141</td>\n",
       "    </tr>\n",
       "    <tr>\n",
       "      <th>end</th>\n",
       "      <td>0.212908</td>\n",
       "    </tr>\n",
       "    <tr>\n",
       "      <th>solutions</th>\n",
       "      <td>0.211088</td>\n",
       "    </tr>\n",
       "    <tr>\n",
       "      <th>machine learning</th>\n",
       "      <td>0.208709</td>\n",
       "    </tr>\n",
       "    <tr>\n",
       "      <th>business analyst</th>\n",
       "      <td>0.202903</td>\n",
       "    </tr>\n",
       "    <tr>\n",
       "      <th>complex</th>\n",
       "      <td>0.198717</td>\n",
       "    </tr>\n",
       "    <tr>\n",
       "      <th>executive</th>\n",
       "      <td>0.187484</td>\n",
       "    </tr>\n",
       "    <tr>\n",
       "      <th>platform</th>\n",
       "      <td>0.183276</td>\n",
       "    </tr>\n",
       "    <tr>\n",
       "      <th>data manager</th>\n",
       "      <td>0.183130</td>\n",
       "    </tr>\n",
       "    <tr>\n",
       "      <th>director</th>\n",
       "      <td>0.177444</td>\n",
       "    </tr>\n",
       "    <tr>\n",
       "      <th>right</th>\n",
       "      <td>0.171157</td>\n",
       "    </tr>\n",
       "    <tr>\n",
       "      <th>hardware</th>\n",
       "      <td>0.165780</td>\n",
       "    </tr>\n",
       "    <tr>\n",
       "      <th>international</th>\n",
       "      <td>0.165108</td>\n",
       "    </tr>\n",
       "  </tbody>\n",
       "</table>\n",
       "</div>"
      ],
      "text/plain": [
       "                      coef\n",
       "manager           0.329801\n",
       "architect         0.266828\n",
       "bi                0.264273\n",
       "consulting        0.262322\n",
       "quantitative      0.250951\n",
       "senior            0.243497\n",
       "currently         0.242386\n",
       "lead              0.235141\n",
       "end               0.212908\n",
       "solutions         0.211088\n",
       "machine learning  0.208709\n",
       "business analyst  0.202903\n",
       "complex           0.198717\n",
       "executive         0.187484\n",
       "platform          0.183276\n",
       "data manager      0.183130\n",
       "director          0.177444\n",
       "right             0.171157\n",
       "hardware          0.165780\n",
       "international     0.165108"
      ]
     },
     "execution_count": 82,
     "metadata": {},
     "output_type": "execute_result"
    }
   ],
   "source": [
    "def list_important_pred_var(data):\n",
    "    important_pred_var = pd.DataFrame(data, columns = [\"coef\"], index = columns)\n",
    "    return important_pred_var.sort_values([\"coef\"], ascending = False)[:20]\n",
    "list_important_pred_var(model.coef_.T)"
   ]
  },
  {
   "cell_type": "code",
   "execution_count": 83,
   "metadata": {
    "ExecuteTime": {
     "end_time": "2018-05-29T03:18:11.391734Z",
     "start_time": "2018-05-29T03:18:11.217200Z"
    },
    "hidden": true
   },
   "outputs": [
    {
     "data": {
      "text/plain": [
       "<matplotlib.axes._subplots.AxesSubplot at 0x2c2538757b8>"
      ]
     },
     "execution_count": 83,
     "metadata": {},
     "output_type": "execute_result"
    },
    {
     "data": {
      "image/png": "[encoded data removed]",
      "text/plain": [
       "<matplotlib.figure.Figure at 0x2c2538750b8>"
      ]
     },
     "metadata": {},
     "output_type": "display_data"
    }
   ],
   "source": [
    "# Selecting as having the best results\n",
    "sns.distplot(y_pred)\n",
    "sns.distplot(y_test)"
   ]
  },
  {
   "cell_type": "code",
   "execution_count": 84,
   "metadata": {
    "ExecuteTime": {
     "end_time": "2018-05-29T03:18:13.059282Z",
     "start_time": "2018-05-29T03:18:11.394725Z"
    },
    "hidden": true,
    "scrolled": true
   },
   "outputs": [
    {
     "name": "stdout",
     "output_type": "stream",
     "text": [
      "0.7977941176470589\n",
      "             precision    recall  f1-score   support\n",
      "\n",
      "          0       0.81      0.77      0.79       135\n",
      "          1       0.78      0.82      0.80       137\n",
      "\n",
      "avg / total       0.80      0.80      0.80       272\n",
      "\n",
      "[[104  31]\n",
      " [ 24 113]]\n"
     ]
    }
   ],
   "source": [
    "# Running logistic\n",
    "\n",
    "cvt      =  CountVectorizer(analyzer=\"word\",stop_words=stopwords, ngram_range=(2,2))\n",
    "X_all    =  cvt.fit_transform(df_description)\n",
    "columns  =  np.array(cvt.get_feature_names()) \n",
    "\n",
    "# Train test split\n",
    "X_train1, X_test1, y_train1, y_test1 = train_test_split(X_all, df_clean4['Target'], test_size=0.3)\n",
    "model = LogisticRegression()\n",
    "model.fit(X_train1, y_train1)\n",
    "y_pred = model.predict(X_test1)\n",
    "print(accuracy_score(y_test1, y_pred))\n",
    "print(classification_report(y_pred,y_test1))\n",
    "print(confusion_matrix(y_pred,y_test1))"
   ]
  },
  {
   "cell_type": "code",
   "execution_count": 85,
   "metadata": {
    "ExecuteTime": {
     "end_time": "2018-05-29T03:18:13.123103Z",
     "start_time": "2018-05-29T03:18:13.060272Z"
    },
    "hidden": true
   },
   "outputs": [
    {
     "data": {
      "text/html": [
       "<div>\n",
       "<style scoped>\n",
       "    .dataframe tbody tr th:only-of-type {\n",
       "        vertical-align: middle;\n",
       "    }\n",
       "\n",
       "    .dataframe tbody tr th {\n",
       "        vertical-align: top;\n",
       "    }\n",
       "\n",
       "    .dataframe thead th {\n",
       "        text-align: right;\n",
       "    }\n",
       "</style>\n",
       "<table border=\"1\" class=\"dataframe\">\n",
       "  <thead>\n",
       "    <tr style=\"text-align: right;\">\n",
       "      <th></th>\n",
       "      <th>coef</th>\n",
       "    </tr>\n",
       "  </thead>\n",
       "  <tbody>\n",
       "    <tr>\n",
       "      <th>machine learning</th>\n",
       "      <td>0.349288</td>\n",
       "    </tr>\n",
       "    <tr>\n",
       "      <th>senior data</th>\n",
       "      <td>0.335172</td>\n",
       "    </tr>\n",
       "    <tr>\n",
       "      <th>advanced senior</th>\n",
       "      <td>0.298192</td>\n",
       "    </tr>\n",
       "    <tr>\n",
       "      <th>data manager</th>\n",
       "      <td>0.284414</td>\n",
       "    </tr>\n",
       "    <tr>\n",
       "      <th>front end</th>\n",
       "      <td>0.276857</td>\n",
       "    </tr>\n",
       "    <tr>\n",
       "      <th>hydrogen group</th>\n",
       "      <td>0.275465</td>\n",
       "    </tr>\n",
       "    <tr>\n",
       "      <th>business intelligence</th>\n",
       "      <td>0.257632</td>\n",
       "    </tr>\n",
       "    <tr>\n",
       "      <th>data analytics</th>\n",
       "      <td>0.251543</td>\n",
       "    </tr>\n",
       "    <tr>\n",
       "      <th>data science</th>\n",
       "      <td>0.250946</td>\n",
       "    </tr>\n",
       "    <tr>\n",
       "      <th>may senior</th>\n",
       "      <td>0.246869</td>\n",
       "    </tr>\n",
       "    <tr>\n",
       "      <th>account manager</th>\n",
       "      <td>0.231680</td>\n",
       "    </tr>\n",
       "    <tr>\n",
       "      <th>sharp carter</th>\n",
       "      <td>0.229422</td>\n",
       "    </tr>\n",
       "    <tr>\n",
       "      <th>paxus pty</th>\n",
       "      <td>0.228488</td>\n",
       "    </tr>\n",
       "    <tr>\n",
       "      <th>bi developer</th>\n",
       "      <td>0.227707</td>\n",
       "    </tr>\n",
       "    <tr>\n",
       "      <th>data engineer</th>\n",
       "      <td>0.226861</td>\n",
       "    </tr>\n",
       "    <tr>\n",
       "      <th>solution architect</th>\n",
       "      <td>0.225446</td>\n",
       "    </tr>\n",
       "    <tr>\n",
       "      <th>manager deloitte</th>\n",
       "      <td>0.222584</td>\n",
       "    </tr>\n",
       "    <tr>\n",
       "      <th>data migration</th>\n",
       "      <td>0.216053</td>\n",
       "    </tr>\n",
       "    <tr>\n",
       "      <th>data integration</th>\n",
       "      <td>0.204860</td>\n",
       "    </tr>\n",
       "    <tr>\n",
       "      <th>onset group</th>\n",
       "      <td>0.191672</td>\n",
       "    </tr>\n",
       "  </tbody>\n",
       "</table>\n",
       "</div>"
      ],
      "text/plain": [
       "                           coef\n",
       "machine learning       0.349288\n",
       "senior data            0.335172\n",
       "advanced senior        0.298192\n",
       "data manager           0.284414\n",
       "front end              0.276857\n",
       "hydrogen group         0.275465\n",
       "business intelligence  0.257632\n",
       "data analytics         0.251543\n",
       "data science           0.250946\n",
       "may senior             0.246869\n",
       "account manager        0.231680\n",
       "sharp carter           0.229422\n",
       "paxus pty              0.228488\n",
       "bi developer           0.227707\n",
       "data engineer          0.226861\n",
       "solution architect     0.225446\n",
       "manager deloitte       0.222584\n",
       "data migration         0.216053\n",
       "data integration       0.204860\n",
       "onset group            0.191672"
      ]
     },
     "execution_count": 85,
     "metadata": {},
     "output_type": "execute_result"
    }
   ],
   "source": [
    "def list_important_pred_var(data):\n",
    "    important_pred_var = pd.DataFrame(data, columns = [\"coef\"], index = columns)\n",
    "    return important_pred_var.sort_values([\"coef\"], ascending = False)[:20]\n",
    "list_important_pred_var(model.coef_.T)"
   ]
  },
  {
   "cell_type": "code",
   "execution_count": 86,
   "metadata": {
    "ExecuteTime": {
     "end_time": "2018-05-29T03:18:14.588192Z",
     "start_time": "2018-05-29T03:18:13.125103Z"
    },
    "hidden": true
   },
   "outputs": [
    {
     "name": "stdout",
     "output_type": "stream",
     "text": [
      "0.8198529411764706\n",
      "             precision    recall  f1-score   support\n",
      "\n",
      "          0       0.76      0.86      0.80       118\n",
      "          1       0.88      0.79      0.83       154\n",
      "\n",
      "avg / total       0.83      0.82      0.82       272\n",
      "\n",
      "[[101  17]\n",
      " [ 32 122]]\n"
     ]
    }
   ],
   "source": [
    "# Running logistic\n",
    "\n",
    "cvt      =  CountVectorizer(analyzer=\"word\",stop_words=stopwords, ngram_range=(3,3))\n",
    "X_all    =  cvt.fit_transform(df_description)\n",
    "columns  =  np.array(cvt.get_feature_names())\n",
    "\n",
    "# Train test split\n",
    "X_train1, X_test1, y_train1, y_test1 = train_test_split(X_all, df_clean4['Target'], test_size=0.3)\n",
    "model = LogisticRegression()\n",
    "model.fit(X_train1, y_train1)\n",
    "y_pred = model.predict(X_test1)\n",
    "print(accuracy_score(y_test1, y_pred))\n",
    "print(classification_report(y_pred,y_test1))\n",
    "print(confusion_matrix(y_pred,y_test1))"
   ]
  },
  {
   "cell_type": "code",
   "execution_count": 87,
   "metadata": {
    "ExecuteTime": {
     "end_time": "2018-05-29T03:18:14.703875Z",
     "start_time": "2018-05-29T03:18:14.590179Z"
    },
    "hidden": true
   },
   "outputs": [
    {
     "data": {
      "text/html": [
       "<div>\n",
       "<style scoped>\n",
       "    .dataframe tbody tr th:only-of-type {\n",
       "        vertical-align: middle;\n",
       "    }\n",
       "\n",
       "    .dataframe tbody tr th {\n",
       "        vertical-align: top;\n",
       "    }\n",
       "\n",
       "    .dataframe thead th {\n",
       "        text-align: right;\n",
       "    }\n",
       "</style>\n",
       "<table border=\"1\" class=\"dataframe\">\n",
       "  <thead>\n",
       "    <tr style=\"text-align: right;\">\n",
       "      <th></th>\n",
       "      <th>coef</th>\n",
       "    </tr>\n",
       "  </thead>\n",
       "  <tbody>\n",
       "    <tr>\n",
       "      <th>find advanced senior</th>\n",
       "      <td>0.419320</td>\n",
       "    </tr>\n",
       "    <tr>\n",
       "      <th>paxus pty ltd</th>\n",
       "      <td>0.253226</td>\n",
       "    </tr>\n",
       "    <tr>\n",
       "      <th>senior project manager</th>\n",
       "      <td>0.245139</td>\n",
       "    </tr>\n",
       "    <tr>\n",
       "      <th>senior software engineer</th>\n",
       "      <td>0.238652</td>\n",
       "    </tr>\n",
       "    <tr>\n",
       "      <th>senior data analyst</th>\n",
       "      <td>0.223551</td>\n",
       "    </tr>\n",
       "    <tr>\n",
       "      <th>paxus paxus pty</th>\n",
       "      <td>0.196928</td>\n",
       "    </tr>\n",
       "    <tr>\n",
       "      <th>business analyst data</th>\n",
       "      <td>0.196834</td>\n",
       "    </tr>\n",
       "    <tr>\n",
       "      <th>executive office supplies</th>\n",
       "      <td>0.180608</td>\n",
       "    </tr>\n",
       "    <tr>\n",
       "      <th>nigel frank international</th>\n",
       "      <td>0.173847</td>\n",
       "    </tr>\n",
       "    <tr>\n",
       "      <th>big wave digital</th>\n",
       "      <td>0.173434</td>\n",
       "    </tr>\n",
       "    <tr>\n",
       "      <th>senior bi consultant</th>\n",
       "      <td>0.168714</td>\n",
       "    </tr>\n",
       "    <tr>\n",
       "      <th>senior business analyst</th>\n",
       "      <td>0.167829</td>\n",
       "    </tr>\n",
       "    <tr>\n",
       "      <th>technical account manager</th>\n",
       "      <td>0.161779</td>\n",
       "    </tr>\n",
       "    <tr>\n",
       "      <th>please get touch</th>\n",
       "      <td>0.158705</td>\n",
       "    </tr>\n",
       "    <tr>\n",
       "      <th>ethos beathchapman ethos</th>\n",
       "      <td>0.156249</td>\n",
       "    </tr>\n",
       "    <tr>\n",
       "      <th>beathchapman ethos bc</th>\n",
       "      <td>0.156249</td>\n",
       "    </tr>\n",
       "    <tr>\n",
       "      <th>payroll hr analyst</th>\n",
       "      <td>0.139700</td>\n",
       "    </tr>\n",
       "    <tr>\n",
       "      <th>frank international limited</th>\n",
       "      <td>0.135791</td>\n",
       "    </tr>\n",
       "    <tr>\n",
       "      <th>pty ltd senior</th>\n",
       "      <td>0.134640</td>\n",
       "    </tr>\n",
       "    <tr>\n",
       "      <th>business intelligence consultant</th>\n",
       "      <td>0.133801</td>\n",
       "    </tr>\n",
       "  </tbody>\n",
       "</table>\n",
       "</div>"
      ],
      "text/plain": [
       "                                      coef\n",
       "find advanced senior              0.419320\n",
       "paxus pty ltd                     0.253226\n",
       "senior project manager            0.245139\n",
       "senior software engineer          0.238652\n",
       "senior data analyst               0.223551\n",
       "paxus paxus pty                   0.196928\n",
       "business analyst data             0.196834\n",
       "executive office supplies         0.180608\n",
       "nigel frank international         0.173847\n",
       "big wave digital                  0.173434\n",
       "senior bi consultant              0.168714\n",
       "senior business analyst           0.167829\n",
       "technical account manager         0.161779\n",
       "please get touch                  0.158705\n",
       "ethos beathchapman ethos          0.156249\n",
       "beathchapman ethos bc             0.156249\n",
       "payroll hr analyst                0.139700\n",
       "frank international limited       0.135791\n",
       "pty ltd senior                    0.134640\n",
       "business intelligence consultant  0.133801"
      ]
     },
     "execution_count": 87,
     "metadata": {},
     "output_type": "execute_result"
    }
   ],
   "source": [
    "def list_important_pred_var(data):\n",
    "    important_pred_var = pd.DataFrame(data, columns = [\"coef\"], index = columns)\n",
    "    return important_pred_var.sort_values([\"coef\"], ascending = False)[:20]\n",
    "list_important_pred_var(model.coef_.T)"
   ]
  },
  {
   "cell_type": "markdown",
   "metadata": {
    "heading_collapsed": true
   },
   "source": [
    "#### Decision Tree\n",
    "Had difficulty tuning the hyperparameters of this model. Model scored approximately 75% accuracy\n",
    "\n",
    "Key features to predict related again to seniority, as well as skills. The n_gram 2,2 below seems to make more sense."
   ]
  },
  {
   "cell_type": "markdown",
   "metadata": {
    "heading_collapsed": true,
    "hidden": true
   },
   "source": [
    "##### Ngram 1,2"
   ]
  },
  {
   "cell_type": "code",
   "execution_count": 88,
   "metadata": {
    "ExecuteTime": {
     "end_time": "2018-05-29T03:18:19.576928Z",
     "start_time": "2018-05-29T03:18:14.707866Z"
    },
    "hidden": true,
    "scrolled": true
   },
   "outputs": [
    {
     "name": "stdout",
     "output_type": "stream",
     "text": [
      "0.7095588235294118\n",
      "cross_val_score [0.7578125  0.70866142 0.70866142 0.74603175 0.73809524]\n",
      "             precision    recall  f1-score   support\n",
      "\n",
      "          0       0.66      0.72      0.69       122\n",
      "          1       0.76      0.70      0.73       150\n",
      "\n",
      "avg / total       0.71      0.71      0.71       272\n",
      "\n",
      "[[ 88  34]\n",
      " [ 45 105]]\n"
     ]
    }
   ],
   "source": [
    "cvt      =  CountVectorizer(analyzer=\"word\",stop_words=stopwords, ngram_range=(1,2))\n",
    "X_all    =  cvt.fit_transform(df_description)\n",
    "columns  =  np.array(cvt.get_feature_names())\n",
    "\n",
    "# Train test split\n",
    "X_train1, X_test1, y_train1, y_test1 = train_test_split(X_all, df_clean4['Target'], test_size=0.3)\n",
    "\n",
    "\n",
    "model = DecisionTreeClassifier()\n",
    "\n",
    "model.fit(X_train1,y_train1)\n",
    "y_pred = model.predict(X_test1)\n",
    "print(accuracy_score(y_test1, y_pred))\n",
    "print('cross_val_score', cross_val_score(model, X_train1, y_train1, cv=5))\n",
    "class_report = classification_report(y_pred,y_test1)\n",
    "print(class_report)\n",
    "print(confusion_matrix(y_pred,y_test1))"
   ]
  },
  {
   "cell_type": "code",
   "execution_count": 89,
   "metadata": {
    "ExecuteTime": {
     "end_time": "2018-05-29T03:18:19.630702Z",
     "start_time": "2018-05-29T03:18:19.577842Z"
    },
    "hidden": true
   },
   "outputs": [
    {
     "data": {
      "text/html": [
       "<div>\n",
       "<style scoped>\n",
       "    .dataframe tbody tr th:only-of-type {\n",
       "        vertical-align: middle;\n",
       "    }\n",
       "\n",
       "    .dataframe tbody tr th {\n",
       "        vertical-align: top;\n",
       "    }\n",
       "\n",
       "    .dataframe thead th {\n",
       "        text-align: right;\n",
       "    }\n",
       "</style>\n",
       "<table border=\"1\" class=\"dataframe\">\n",
       "  <thead>\n",
       "    <tr style=\"text-align: right;\">\n",
       "      <th></th>\n",
       "      <th>feature</th>\n",
       "      <th>importance</th>\n",
       "    </tr>\n",
       "  </thead>\n",
       "  <tbody>\n",
       "    <tr>\n",
       "      <th>93365</th>\n",
       "      <td>senior</td>\n",
       "      <td>0.083959</td>\n",
       "    </tr>\n",
       "    <tr>\n",
       "      <th>10336</th>\n",
       "      <td>aws</td>\n",
       "      <td>0.056135</td>\n",
       "    </tr>\n",
       "    <tr>\n",
       "      <th>12153</th>\n",
       "      <td>bi</td>\n",
       "      <td>0.050850</td>\n",
       "    </tr>\n",
       "    <tr>\n",
       "      <th>31595</th>\n",
       "      <td>digital</td>\n",
       "      <td>0.033436</td>\n",
       "    </tr>\n",
       "    <tr>\n",
       "      <th>101041</th>\n",
       "      <td>successful</td>\n",
       "      <td>0.027243</td>\n",
       "    </tr>\n",
       "    <tr>\n",
       "      <th>39048</th>\n",
       "      <td>ethos beathchapman</td>\n",
       "      <td>0.026299</td>\n",
       "    </tr>\n",
       "    <tr>\n",
       "      <th>106067</th>\n",
       "      <td>throughout</td>\n",
       "      <td>0.025596</td>\n",
       "    </tr>\n",
       "    <tr>\n",
       "      <th>72728</th>\n",
       "      <td>organization</td>\n",
       "      <td>0.025589</td>\n",
       "    </tr>\n",
       "    <tr>\n",
       "      <th>82601</th>\n",
       "      <td>proposals</td>\n",
       "      <td>0.024945</td>\n",
       "    </tr>\n",
       "    <tr>\n",
       "      <th>112638</th>\n",
       "      <td>welcome</td>\n",
       "      <td>0.022132</td>\n",
       "    </tr>\n",
       "    <tr>\n",
       "      <th>36284</th>\n",
       "      <td>engineer</td>\n",
       "      <td>0.020129</td>\n",
       "    </tr>\n",
       "    <tr>\n",
       "      <th>62856</th>\n",
       "      <td>manager</td>\n",
       "      <td>0.019524</td>\n",
       "    </tr>\n",
       "    <tr>\n",
       "      <th>75006</th>\n",
       "      <td>paxus pty</td>\n",
       "      <td>0.018833</td>\n",
       "    </tr>\n",
       "    <tr>\n",
       "      <th>42533</th>\n",
       "      <td>findings</td>\n",
       "      <td>0.018694</td>\n",
       "    </tr>\n",
       "    <tr>\n",
       "      <th>38380</th>\n",
       "      <td>equity</td>\n",
       "      <td>0.018348</td>\n",
       "    </tr>\n",
       "    <tr>\n",
       "      <th>46673</th>\n",
       "      <td>graduate</td>\n",
       "      <td>0.018142</td>\n",
       "    </tr>\n",
       "    <tr>\n",
       "      <th>3168</th>\n",
       "      <td>afraid</td>\n",
       "      <td>0.017438</td>\n",
       "    </tr>\n",
       "    <tr>\n",
       "      <th>30235</th>\n",
       "      <td>develop software</td>\n",
       "      <td>0.017206</td>\n",
       "    </tr>\n",
       "    <tr>\n",
       "      <th>49493</th>\n",
       "      <td>house</td>\n",
       "      <td>0.016798</td>\n",
       "    </tr>\n",
       "    <tr>\n",
       "      <th>75304</th>\n",
       "      <td>people find</td>\n",
       "      <td>0.016544</td>\n",
       "    </tr>\n",
       "    <tr>\n",
       "      <th>25315</th>\n",
       "      <td>cross</td>\n",
       "      <td>0.016412</td>\n",
       "    </tr>\n",
       "    <tr>\n",
       "      <th>31683</th>\n",
       "      <td>digital media</td>\n",
       "      <td>0.016402</td>\n",
       "    </tr>\n",
       "    <tr>\n",
       "      <th>80029</th>\n",
       "      <td>problem solving</td>\n",
       "      <td>0.016133</td>\n",
       "    </tr>\n",
       "    <tr>\n",
       "      <th>51381</th>\n",
       "      <td>include</td>\n",
       "      <td>0.015660</td>\n",
       "    </tr>\n",
       "    <tr>\n",
       "      <th>65337</th>\n",
       "      <td>meetings</td>\n",
       "      <td>0.015577</td>\n",
       "    </tr>\n",
       "    <tr>\n",
       "      <th>69962</th>\n",
       "      <td>objects</td>\n",
       "      <td>0.014289</td>\n",
       "    </tr>\n",
       "    <tr>\n",
       "      <th>18739</th>\n",
       "      <td>clustering</td>\n",
       "      <td>0.014073</td>\n",
       "    </tr>\n",
       "    <tr>\n",
       "      <th>103401</th>\n",
       "      <td>talent</td>\n",
       "      <td>0.013956</td>\n",
       "    </tr>\n",
       "    <tr>\n",
       "      <th>45718</th>\n",
       "      <td>get touch</td>\n",
       "      <td>0.013710</td>\n",
       "    </tr>\n",
       "    <tr>\n",
       "      <th>8495</th>\n",
       "      <td>asic</td>\n",
       "      <td>0.012521</td>\n",
       "    </tr>\n",
       "  </tbody>\n",
       "</table>\n",
       "</div>"
      ],
      "text/plain": [
       "                   feature  importance\n",
       "93365               senior    0.083959\n",
       "10336                  aws    0.056135\n",
       "12153                   bi    0.050850\n",
       "31595              digital    0.033436\n",
       "101041          successful    0.027243\n",
       "39048   ethos beathchapman    0.026299\n",
       "106067          throughout    0.025596\n",
       "72728         organization    0.025589\n",
       "82601            proposals    0.024945\n",
       "112638             welcome    0.022132\n",
       "36284             engineer    0.020129\n",
       "62856              manager    0.019524\n",
       "75006            paxus pty    0.018833\n",
       "42533             findings    0.018694\n",
       "38380               equity    0.018348\n",
       "46673             graduate    0.018142\n",
       "3168                afraid    0.017438\n",
       "30235     develop software    0.017206\n",
       "49493                house    0.016798\n",
       "75304          people find    0.016544\n",
       "25315                cross    0.016412\n",
       "31683        digital media    0.016402\n",
       "80029      problem solving    0.016133\n",
       "51381              include    0.015660\n",
       "65337             meetings    0.015577\n",
       "69962              objects    0.014289\n",
       "18739           clustering    0.014073\n",
       "103401              talent    0.013956\n",
       "45718            get touch    0.013710\n",
       "8495                  asic    0.012521"
      ]
     },
     "execution_count": 89,
     "metadata": {},
     "output_type": "execute_result"
    }
   ],
   "source": [
    "fi = pd.DataFrame({\n",
    "        'feature':columns,\n",
    "        'importance':model.feature_importances_\n",
    "    })\n",
    "\n",
    "fi.sort_values('importance', ascending=False, inplace=True)\n",
    "fi.head(30)"
   ]
  },
  {
   "cell_type": "markdown",
   "metadata": {
    "heading_collapsed": true,
    "hidden": true
   },
   "source": [
    "##### Ngram 2,2"
   ]
  },
  {
   "cell_type": "code",
   "execution_count": 90,
   "metadata": {
    "ExecuteTime": {
     "end_time": "2018-05-29T03:18:23.953143Z",
     "start_time": "2018-05-29T03:18:19.632697Z"
    },
    "hidden": true
   },
   "outputs": [
    {
     "name": "stdout",
     "output_type": "stream",
     "text": [
      "0.7022058823529411\n",
      "cross_val_score [0.6875     0.703125   0.65079365 0.75396825 0.70634921]\n",
      "             precision    recall  f1-score   support\n",
      "\n",
      "          0       0.61      0.80      0.69       114\n",
      "          1       0.81      0.63      0.71       158\n",
      "\n",
      "avg / total       0.73      0.70      0.70       272\n",
      "\n",
      "[[ 91  23]\n",
      " [ 58 100]]\n"
     ]
    }
   ],
   "source": [
    "cvt      =  CountVectorizer(analyzer=\"word\",stop_words=stopwords, ngram_range=(2,2))\n",
    "X_all    =  cvt.fit_transform(df_description)\n",
    "columns  =  np.array(cvt.get_feature_names())\n",
    "\n",
    "# Train test split\n",
    "X_train1, X_test1, y_train1, y_test1 = train_test_split(X_all, df_clean4['Target'], test_size=0.3)\n",
    "\n",
    "\n",
    "model = DecisionTreeClassifier()\n",
    "\n",
    "model.fit(X_train1,y_train1)\n",
    "y_pred = model.predict(X_test1)\n",
    "print(accuracy_score(y_test1, y_pred))\n",
    "print('cross_val_score', cross_val_score(model, X_train1, y_train1, cv=5))\n",
    "class_report = classification_report(y_pred,y_test1)\n",
    "print(class_report)\n",
    "print(confusion_matrix(y_pred,y_test1))"
   ]
  },
  {
   "cell_type": "code",
   "execution_count": 91,
   "metadata": {
    "ExecuteTime": {
     "end_time": "2018-05-29T03:18:23.999061Z",
     "start_time": "2018-05-29T03:18:23.954171Z"
    },
    "hidden": true
   },
   "outputs": [
    {
     "data": {
      "text/html": [
       "<div>\n",
       "<style scoped>\n",
       "    .dataframe tbody tr th:only-of-type {\n",
       "        vertical-align: middle;\n",
       "    }\n",
       "\n",
       "    .dataframe tbody tr th {\n",
       "        vertical-align: top;\n",
       "    }\n",
       "\n",
       "    .dataframe thead th {\n",
       "        text-align: right;\n",
       "    }\n",
       "</style>\n",
       "<table border=\"1\" class=\"dataframe\">\n",
       "  <thead>\n",
       "    <tr style=\"text-align: right;\">\n",
       "      <th></th>\n",
       "      <th>feature</th>\n",
       "      <th>importance</th>\n",
       "    </tr>\n",
       "  </thead>\n",
       "  <tbody>\n",
       "    <tr>\n",
       "      <th>2430</th>\n",
       "      <td>advanced senior</td>\n",
       "      <td>0.066433</td>\n",
       "    </tr>\n",
       "    <tr>\n",
       "      <th>23875</th>\n",
       "      <td>data entry</td>\n",
       "      <td>0.041778</td>\n",
       "    </tr>\n",
       "    <tr>\n",
       "      <th>90404</th>\n",
       "      <td>successful candidates</td>\n",
       "      <td>0.032654</td>\n",
       "    </tr>\n",
       "    <tr>\n",
       "      <th>24192</th>\n",
       "      <td>data science</td>\n",
       "      <td>0.026726</td>\n",
       "    </tr>\n",
       "    <tr>\n",
       "      <th>67019</th>\n",
       "      <td>paxus pty</td>\n",
       "      <td>0.022090</td>\n",
       "    </tr>\n",
       "    <tr>\n",
       "      <th>69369</th>\n",
       "      <td>plus superannuation</td>\n",
       "      <td>0.020896</td>\n",
       "    </tr>\n",
       "    <tr>\n",
       "      <th>12668</th>\n",
       "      <td>business intelligence</td>\n",
       "      <td>0.020544</td>\n",
       "    </tr>\n",
       "    <tr>\n",
       "      <th>32082</th>\n",
       "      <td>end end</td>\n",
       "      <td>0.017336</td>\n",
       "    </tr>\n",
       "    <tr>\n",
       "      <th>88194</th>\n",
       "      <td>stakeholder engagement</td>\n",
       "      <td>0.017213</td>\n",
       "    </tr>\n",
       "    <tr>\n",
       "      <th>93027</th>\n",
       "      <td>teams achieve</td>\n",
       "      <td>0.016451</td>\n",
       "    </tr>\n",
       "    <tr>\n",
       "      <th>22345</th>\n",
       "      <td>criminal history</td>\n",
       "      <td>0.015343</td>\n",
       "    </tr>\n",
       "    <tr>\n",
       "      <th>69267</th>\n",
       "      <td>please note</td>\n",
       "      <td>0.015156</td>\n",
       "    </tr>\n",
       "    <tr>\n",
       "      <th>55660</th>\n",
       "      <td>manage multiple</td>\n",
       "      <td>0.014363</td>\n",
       "    </tr>\n",
       "    <tr>\n",
       "      <th>54686</th>\n",
       "      <td>ltd brisbane</td>\n",
       "      <td>0.013930</td>\n",
       "    </tr>\n",
       "    <tr>\n",
       "      <th>102432</th>\n",
       "      <td>years education</td>\n",
       "      <td>0.013901</td>\n",
       "    </tr>\n",
       "    <tr>\n",
       "      <th>90754</th>\n",
       "      <td>super per</td>\n",
       "      <td>0.013475</td>\n",
       "    </tr>\n",
       "    <tr>\n",
       "      <th>89628</th>\n",
       "      <td>strong communication</td>\n",
       "      <td>0.013472</td>\n",
       "    </tr>\n",
       "    <tr>\n",
       "      <th>14031</th>\n",
       "      <td>career progression</td>\n",
       "      <td>0.013443</td>\n",
       "    </tr>\n",
       "    <tr>\n",
       "      <th>48225</th>\n",
       "      <td>integrity engineering</td>\n",
       "      <td>0.012739</td>\n",
       "    </tr>\n",
       "    <tr>\n",
       "      <th>38051</th>\n",
       "      <td>financial services</td>\n",
       "      <td>0.012665</td>\n",
       "    </tr>\n",
       "    <tr>\n",
       "      <th>8468</th>\n",
       "      <td>attention detail</td>\n",
       "      <td>0.012489</td>\n",
       "    </tr>\n",
       "    <tr>\n",
       "      <th>89149</th>\n",
       "      <td>strait islander</td>\n",
       "      <td>0.012415</td>\n",
       "    </tr>\n",
       "    <tr>\n",
       "      <th>85900</th>\n",
       "      <td>social media</td>\n",
       "      <td>0.011963</td>\n",
       "    </tr>\n",
       "    <tr>\n",
       "      <th>50671</th>\n",
       "      <td>key responsibilities</td>\n",
       "      <td>0.011732</td>\n",
       "    </tr>\n",
       "    <tr>\n",
       "      <th>57785</th>\n",
       "      <td>may data</td>\n",
       "      <td>0.011694</td>\n",
       "    </tr>\n",
       "    <tr>\n",
       "      <th>28969</th>\n",
       "      <td>discussion please</td>\n",
       "      <td>0.011563</td>\n",
       "    </tr>\n",
       "    <tr>\n",
       "      <th>464</th>\n",
       "      <td>account manager</td>\n",
       "      <td>0.011339</td>\n",
       "    </tr>\n",
       "    <tr>\n",
       "      <th>87021</th>\n",
       "      <td>south wales</td>\n",
       "      <td>0.011119</td>\n",
       "    </tr>\n",
       "    <tr>\n",
       "      <th>85076</th>\n",
       "      <td>shortlisted candidates</td>\n",
       "      <td>0.011118</td>\n",
       "    </tr>\n",
       "    <tr>\n",
       "      <th>63653</th>\n",
       "      <td>operating effectively</td>\n",
       "      <td>0.011092</td>\n",
       "    </tr>\n",
       "  </tbody>\n",
       "</table>\n",
       "</div>"
      ],
      "text/plain": [
       "                       feature  importance\n",
       "2430           advanced senior    0.066433\n",
       "23875               data entry    0.041778\n",
       "90404    successful candidates    0.032654\n",
       "24192             data science    0.026726\n",
       "67019                paxus pty    0.022090\n",
       "69369      plus superannuation    0.020896\n",
       "12668    business intelligence    0.020544\n",
       "32082                  end end    0.017336\n",
       "88194   stakeholder engagement    0.017213\n",
       "93027            teams achieve    0.016451\n",
       "22345         criminal history    0.015343\n",
       "69267              please note    0.015156\n",
       "55660          manage multiple    0.014363\n",
       "54686             ltd brisbane    0.013930\n",
       "102432         years education    0.013901\n",
       "90754                super per    0.013475\n",
       "89628     strong communication    0.013472\n",
       "14031       career progression    0.013443\n",
       "48225    integrity engineering    0.012739\n",
       "38051       financial services    0.012665\n",
       "8468          attention detail    0.012489\n",
       "89149          strait islander    0.012415\n",
       "85900             social media    0.011963\n",
       "50671     key responsibilities    0.011732\n",
       "57785                 may data    0.011694\n",
       "28969        discussion please    0.011563\n",
       "464            account manager    0.011339\n",
       "87021              south wales    0.011119\n",
       "85076   shortlisted candidates    0.011118\n",
       "63653    operating effectively    0.011092"
      ]
     },
     "execution_count": 91,
     "metadata": {},
     "output_type": "execute_result"
    }
   ],
   "source": [
    "fi = pd.DataFrame({\n",
    "        'feature':columns,\n",
    "        'importance':model.feature_importances_\n",
    "    })\n",
    "\n",
    "fi.sort_values('importance', ascending=False, inplace=True)\n",
    "fi.head(30)"
   ]
  },
  {
   "cell_type": "markdown",
   "metadata": {
    "heading_collapsed": true
   },
   "source": [
    "#### KNN\n",
    "Attempted KNN with gridsearch however result was not that high"
   ]
  },
  {
   "cell_type": "code",
   "execution_count": 92,
   "metadata": {
    "ExecuteTime": {
     "end_time": "2018-05-29T03:19:34.892469Z",
     "start_time": "2018-05-29T03:18:24.000073Z"
    },
    "hidden": true
   },
   "outputs": [
    {
     "name": "stdout",
     "output_type": "stream",
     "text": [
      "Fitting 5 folds for each of 12 candidates, totalling 60 fits\n"
     ]
    },
    {
     "name": "stderr",
     "output_type": "stream",
     "text": [
      "[Parallel(n_jobs=-1)]: Done  34 tasks      | elapsed:   21.8s\n",
      "[Parallel(n_jobs=-1)]: Done  60 out of  60 | elapsed:  1.2min finished\n"
     ]
    },
    {
     "data": {
      "text/plain": [
       "0.6875"
      ]
     },
     "execution_count": 92,
     "metadata": {},
     "output_type": "execute_result"
    }
   ],
   "source": [
    "cvt      =  CountVectorizer(analyzer=\"word\",stop_words=stopwords, ngram_range=(2,2))\n",
    "X_all    =  cvt.fit_transform(df_description)\n",
    "columns  =  np.array(cvt.get_feature_names())\n",
    "\n",
    "# Train test split\n",
    "X_train1, X_test1, y_train1, y_test1 = train_test_split(X_all, df_clean4['Target'], test_size=0.3)\n",
    "\n",
    "# KNN\n",
    "\n",
    "knn_params = {\n",
    "    'n_neighbors':[3,9,21],\n",
    "    'weights':['uniform','distance'],\n",
    "    'metric':['euclidean','manhattan']\n",
    "}\n",
    "\n",
    "knn_gridsearch = GridSearchCV(KNeighborsClassifier(), knn_params, cv=5, verbose=1, n_jobs=-1)\n",
    "\n",
    "knn_gridsearch.fit(X_train1, y_train1)\n",
    "\n",
    "knn_gridsearch.best_score_\n",
    "\n",
    "knn_gridsearch.best_params_\n",
    "\n",
    "best_knn = knn_gridsearch.best_estimator_\n",
    "best_knn.score(X_test1, y_test1)"
   ]
  },
  {
   "cell_type": "code",
   "execution_count": 93,
   "metadata": {
    "ExecuteTime": {
     "end_time": "2018-05-29T03:19:34.926379Z",
     "start_time": "2018-05-29T03:19:34.895461Z"
    },
    "hidden": true
   },
   "outputs": [
    {
     "name": "stdout",
     "output_type": "stream",
     "text": [
      "0.6875\n",
      "             precision    recall  f1-score   support\n",
      "\n",
      "          0       0.40      0.91      0.55        58\n",
      "          1       0.96      0.63      0.76       214\n",
      "\n",
      "avg / total       0.84      0.69      0.72       272\n",
      "\n",
      "[[ 53   5]\n",
      " [ 80 134]]\n"
     ]
    }
   ],
   "source": [
    "y_pred = best_knn.predict(X_test1)\n",
    "print(accuracy_score(y_test1, y_pred))\n",
    "class_report = classification_report(y_pred,y_test1)\n",
    "print(class_report)\n",
    "print(confusion_matrix(y_pred,y_test1))"
   ]
  },
  {
   "cell_type": "markdown",
   "metadata": {
    "heading_collapsed": true
   },
   "source": [
    "#### Naive Bays"
   ]
  },
  {
   "cell_type": "code",
   "execution_count": 94,
   "metadata": {
    "ExecuteTime": {
     "end_time": "2018-05-29T03:19:49.886129Z",
     "start_time": "2018-05-29T03:19:34.928375Z"
    },
    "hidden": true
   },
   "outputs": [
    {
     "name": "stdout",
     "output_type": "stream",
     "text": [
      "0.7573529411764706\n",
      "             precision    recall  f1-score   support\n",
      "\n",
      "          0       0.77      0.77      0.77       144\n",
      "          1       0.74      0.74      0.74       128\n",
      "\n",
      "avg / total       0.76      0.76      0.76       272\n",
      "\n",
      "[[111  33]\n",
      " [ 33  95]]\n"
     ]
    }
   ],
   "source": [
    "# Pipeline\n",
    "text_clf = Pipeline([('vect', CountVectorizer(analyzer=\"word\",stop_words=stopwords)),\n",
    "                     ('tfidf', TfidfTransformer()),('clf', MultinomialNB()),])\n",
    "# text_clf = text_clf.fit(X_train, y_train)\n",
    "\n",
    "from sklearn.model_selection import GridSearchCV\n",
    "parameters = {'vect__ngram_range': [(1, 1), (1, 2),(2,2),(2,3)],'tfidf__use_idf': (True, False),'clf__alpha': (1e-2, 1e-3),}\n",
    "gs_clf = GridSearchCV(text_clf, parameters, n_jobs=-1, cv = 3)\n",
    "gs_clf = gs_clf.fit(X_train, y_train)\n",
    "gs_clf.best_score_\n",
    "gs_clf.best_params_\n",
    "\n",
    "predictions = gs_clf.predict(X_test)\n",
    "print(accuracy_score(y_test, predictions))\n",
    "print(classification_report(predictions,y_test))\n",
    "print(confusion_matrix(predictions,y_test))"
   ]
  },
  {
   "cell_type": "code",
   "execution_count": 95,
   "metadata": {
    "ExecuteTime": {
     "end_time": "2018-05-29T03:19:50.831552Z",
     "start_time": "2018-05-29T03:19:49.888115Z"
    },
    "hidden": true
   },
   "outputs": [
    {
     "name": "stdout",
     "output_type": "stream",
     "text": [
      "0.7867647058823529\n",
      "             precision    recall  f1-score   support\n",
      "\n",
      "          0       0.68      0.89      0.77       110\n",
      "          1       0.91      0.72      0.80       162\n",
      "\n",
      "avg / total       0.81      0.79      0.79       272\n",
      "\n",
      "[[ 98  12]\n",
      " [ 46 116]]\n"
     ]
    }
   ],
   "source": [
    "cvt      =  CountVectorizer(analyzer=\"word\",stop_words=stopwords, ngram_range=(1,2))\n",
    "X_all    =  cvt.fit_transform(df_description)\n",
    "columns  =  np.array(cvt.get_feature_names())\n",
    "\n",
    "# Train test split\n",
    "X_train1, X_test1, y_train1, y_test1 = train_test_split(X_all, df_clean4['Target'], test_size=0.3)\n",
    "\n",
    "model = MultinomialNB()\n",
    "model.fit(X_train1, y_train1)\n",
    "\n",
    "predictions = model.predict(X_test1)\n",
    "print(accuracy_score(y_test1, predictions))\n",
    "print(classification_report(predictions,y_test1))\n",
    "print(confusion_matrix(predictions,y_test1))"
   ]
  },
  {
   "cell_type": "code",
   "execution_count": 96,
   "metadata": {
    "ExecuteTime": {
     "end_time": "2018-05-29T03:19:50.886404Z",
     "start_time": "2018-05-29T03:19:50.833547Z"
    },
    "hidden": true
   },
   "outputs": [
    {
     "data": {
      "text/html": [
       "<div>\n",
       "<style scoped>\n",
       "    .dataframe tbody tr th:only-of-type {\n",
       "        vertical-align: middle;\n",
       "    }\n",
       "\n",
       "    .dataframe tbody tr th {\n",
       "        vertical-align: top;\n",
       "    }\n",
       "\n",
       "    .dataframe thead th {\n",
       "        text-align: right;\n",
       "    }\n",
       "</style>\n",
       "<table border=\"1\" class=\"dataframe\">\n",
       "  <thead>\n",
       "    <tr style=\"text-align: right;\">\n",
       "      <th></th>\n",
       "      <th>coef</th>\n",
       "    </tr>\n",
       "  </thead>\n",
       "  <tbody>\n",
       "    <tr>\n",
       "      <th>data</th>\n",
       "      <td>-4.972785</td>\n",
       "    </tr>\n",
       "    <tr>\n",
       "      <th>business</th>\n",
       "      <td>-5.373494</td>\n",
       "    </tr>\n",
       "    <tr>\n",
       "      <th>analyst</th>\n",
       "      <td>-6.000699</td>\n",
       "    </tr>\n",
       "    <tr>\n",
       "      <th>senior</th>\n",
       "      <td>-6.064397</td>\n",
       "    </tr>\n",
       "    <tr>\n",
       "      <th>engineer</th>\n",
       "      <td>-6.238679</td>\n",
       "    </tr>\n",
       "    <tr>\n",
       "      <th>please</th>\n",
       "      <td>-6.443312</td>\n",
       "    </tr>\n",
       "    <tr>\n",
       "      <th>development</th>\n",
       "      <td>-6.508724</td>\n",
       "    </tr>\n",
       "    <tr>\n",
       "      <th>management</th>\n",
       "      <td>-6.518092</td>\n",
       "    </tr>\n",
       "    <tr>\n",
       "      <th>may</th>\n",
       "      <td>-6.539496</td>\n",
       "    </tr>\n",
       "    <tr>\n",
       "      <th>advanced</th>\n",
       "      <td>-6.596371</td>\n",
       "    </tr>\n",
       "    <tr>\n",
       "      <th>services</th>\n",
       "      <td>-6.616938</td>\n",
       "    </tr>\n",
       "    <tr>\n",
       "      <th>find</th>\n",
       "      <td>-6.653979</td>\n",
       "    </tr>\n",
       "    <tr>\n",
       "      <th>application</th>\n",
       "      <td>-6.667548</td>\n",
       "    </tr>\n",
       "    <tr>\n",
       "      <th>intelligence</th>\n",
       "      <td>-6.686859</td>\n",
       "    </tr>\n",
       "    <tr>\n",
       "      <th>solutions</th>\n",
       "      <td>-6.700884</td>\n",
       "    </tr>\n",
       "    <tr>\n",
       "      <th>developer</th>\n",
       "      <td>-6.750098</td>\n",
       "    </tr>\n",
       "    <tr>\n",
       "      <th>find advanced</th>\n",
       "      <td>-6.777167</td>\n",
       "    </tr>\n",
       "    <tr>\n",
       "      <th>software</th>\n",
       "      <td>-6.792529</td>\n",
       "    </tr>\n",
       "    <tr>\n",
       "      <th>strong</th>\n",
       "      <td>-6.827178</td>\n",
       "    </tr>\n",
       "    <tr>\n",
       "      <th>technical</th>\n",
       "      <td>-6.859754</td>\n",
       "    </tr>\n",
       "    <tr>\n",
       "      <th>digital</th>\n",
       "      <td>-6.879821</td>\n",
       "    </tr>\n",
       "    <tr>\n",
       "      <th>manager</th>\n",
       "      <td>-6.924734</td>\n",
       "    </tr>\n",
       "    <tr>\n",
       "      <th>technology</th>\n",
       "      <td>-6.931826</td>\n",
       "    </tr>\n",
       "    <tr>\n",
       "      <th>information</th>\n",
       "      <td>-6.975470</td>\n",
       "    </tr>\n",
       "    <tr>\n",
       "      <th>opportunity</th>\n",
       "      <td>-6.979194</td>\n",
       "    </tr>\n",
       "    <tr>\n",
       "      <th>analytics</th>\n",
       "      <td>-6.982932</td>\n",
       "    </tr>\n",
       "    <tr>\n",
       "      <th>within</th>\n",
       "      <td>-7.005660</td>\n",
       "    </tr>\n",
       "    <tr>\n",
       "      <th>support</th>\n",
       "      <td>-7.005660</td>\n",
       "    </tr>\n",
       "    <tr>\n",
       "      <th>lead</th>\n",
       "      <td>-7.040752</td>\n",
       "    </tr>\n",
       "    <tr>\n",
       "      <th>central</th>\n",
       "      <td>-7.040752</td>\n",
       "    </tr>\n",
       "    <tr>\n",
       "      <th>...</th>\n",
       "      <td>...</td>\n",
       "    </tr>\n",
       "    <tr>\n",
       "      <th>review application</th>\n",
       "      <td>-7.388397</td>\n",
       "    </tr>\n",
       "    <tr>\n",
       "      <th>instructions applying</th>\n",
       "      <td>-7.388397</td>\n",
       "    </tr>\n",
       "    <tr>\n",
       "      <th>application instructions</th>\n",
       "      <td>-7.388397</td>\n",
       "    </tr>\n",
       "    <tr>\n",
       "      <th>end</th>\n",
       "      <td>-7.388397</td>\n",
       "    </tr>\n",
       "    <tr>\n",
       "      <th>looking</th>\n",
       "      <td>-7.388397</td>\n",
       "    </tr>\n",
       "    <tr>\n",
       "      <th>provide</th>\n",
       "      <td>-7.394031</td>\n",
       "    </tr>\n",
       "    <tr>\n",
       "      <th>plan</th>\n",
       "      <td>-7.399697</td>\n",
       "    </tr>\n",
       "    <tr>\n",
       "      <th>based</th>\n",
       "      <td>-7.399697</td>\n",
       "    </tr>\n",
       "    <tr>\n",
       "      <th>pty</th>\n",
       "      <td>-7.411126</td>\n",
       "    </tr>\n",
       "    <tr>\n",
       "      <th>business analyst</th>\n",
       "      <td>-7.411126</td>\n",
       "    </tr>\n",
       "    <tr>\n",
       "      <th>develop</th>\n",
       "      <td>-7.411126</td>\n",
       "    </tr>\n",
       "    <tr>\n",
       "      <th>pty ltd</th>\n",
       "      <td>-7.416889</td>\n",
       "    </tr>\n",
       "    <tr>\n",
       "      <th>scientist</th>\n",
       "      <td>-7.428517</td>\n",
       "    </tr>\n",
       "    <tr>\n",
       "      <th>join</th>\n",
       "      <td>-7.428517</td>\n",
       "    </tr>\n",
       "    <tr>\n",
       "      <th>machine</th>\n",
       "      <td>-7.428517</td>\n",
       "    </tr>\n",
       "    <tr>\n",
       "      <th>consulting</th>\n",
       "      <td>-7.440282</td>\n",
       "    </tr>\n",
       "    <tr>\n",
       "      <th>page</th>\n",
       "      <td>-7.446217</td>\n",
       "    </tr>\n",
       "    <tr>\n",
       "      <th>machine learning</th>\n",
       "      <td>-7.452187</td>\n",
       "    </tr>\n",
       "    <tr>\n",
       "      <th>applications</th>\n",
       "      <td>-7.458193</td>\n",
       "    </tr>\n",
       "    <tr>\n",
       "      <th>site</th>\n",
       "      <td>-7.458193</td>\n",
       "    </tr>\n",
       "    <tr>\n",
       "      <th>successful</th>\n",
       "      <td>-7.470314</td>\n",
       "    </tr>\n",
       "    <tr>\n",
       "      <th>ensure</th>\n",
       "      <td>-7.476431</td>\n",
       "    </tr>\n",
       "    <tr>\n",
       "      <th>technologies</th>\n",
       "      <td>-7.482585</td>\n",
       "    </tr>\n",
       "    <tr>\n",
       "      <th>product</th>\n",
       "      <td>-7.488777</td>\n",
       "    </tr>\n",
       "    <tr>\n",
       "      <th>part</th>\n",
       "      <td>-7.501277</td>\n",
       "    </tr>\n",
       "    <tr>\n",
       "      <th>understanding</th>\n",
       "      <td>-7.507586</td>\n",
       "    </tr>\n",
       "    <tr>\n",
       "      <th>processes</th>\n",
       "      <td>-7.513935</td>\n",
       "    </tr>\n",
       "    <tr>\n",
       "      <th>australian</th>\n",
       "      <td>-7.526756</td>\n",
       "    </tr>\n",
       "    <tr>\n",
       "      <th>clients</th>\n",
       "      <td>-7.533228</td>\n",
       "    </tr>\n",
       "    <tr>\n",
       "      <th>architect</th>\n",
       "      <td>-7.533228</td>\n",
       "    </tr>\n",
       "  </tbody>\n",
       "</table>\n",
       "<p>100 rows × 1 columns</p>\n",
       "</div>"
      ],
      "text/plain": [
       "                              coef\n",
       "data                     -4.972785\n",
       "business                 -5.373494\n",
       "analyst                  -6.000699\n",
       "senior                   -6.064397\n",
       "engineer                 -6.238679\n",
       "please                   -6.443312\n",
       "development              -6.508724\n",
       "management               -6.518092\n",
       "may                      -6.539496\n",
       "advanced                 -6.596371\n",
       "services                 -6.616938\n",
       "find                     -6.653979\n",
       "application              -6.667548\n",
       "intelligence             -6.686859\n",
       "solutions                -6.700884\n",
       "developer                -6.750098\n",
       "find advanced            -6.777167\n",
       "software                 -6.792529\n",
       "strong                   -6.827178\n",
       "technical                -6.859754\n",
       "digital                  -6.879821\n",
       "manager                  -6.924734\n",
       "technology               -6.931826\n",
       "information              -6.975470\n",
       "opportunity              -6.979194\n",
       "analytics                -6.982932\n",
       "within                   -7.005660\n",
       "support                  -7.005660\n",
       "lead                     -7.040752\n",
       "central                  -7.040752\n",
       "...                            ...\n",
       "review application       -7.388397\n",
       "instructions applying    -7.388397\n",
       "application instructions -7.388397\n",
       "end                      -7.388397\n",
       "looking                  -7.388397\n",
       "provide                  -7.394031\n",
       "plan                     -7.399697\n",
       "based                    -7.399697\n",
       "pty                      -7.411126\n",
       "business analyst         -7.411126\n",
       "develop                  -7.411126\n",
       "pty ltd                  -7.416889\n",
       "scientist                -7.428517\n",
       "join                     -7.428517\n",
       "machine                  -7.428517\n",
       "consulting               -7.440282\n",
       "page                     -7.446217\n",
       "machine learning         -7.452187\n",
       "applications             -7.458193\n",
       "site                     -7.458193\n",
       "successful               -7.470314\n",
       "ensure                   -7.476431\n",
       "technologies             -7.482585\n",
       "product                  -7.488777\n",
       "part                     -7.501277\n",
       "understanding            -7.507586\n",
       "processes                -7.513935\n",
       "australian               -7.526756\n",
       "clients                  -7.533228\n",
       "architect                -7.533228\n",
       "\n",
       "[100 rows x 1 columns]"
      ]
     },
     "execution_count": 96,
     "metadata": {},
     "output_type": "execute_result"
    }
   ],
   "source": [
    "def list_important_pred_var(data):\n",
    "    important_pred_var = pd.DataFrame(data, columns = [\"coef\"], index = columns)\n",
    "    return important_pred_var.sort_values([\"coef\"], ascending = False)[:100]\n",
    "list_important_pred_var(model.coef_.T)"
   ]
  },
  {
   "cell_type": "markdown",
   "metadata": {
    "heading_collapsed": true
   },
   "source": [
    "### Conclusion and key predictors of salary\n",
    "Overall, the key predictors of salary were skills and seniority based. The model selected was logistic regression which yielded 83% accuracy.\n",
    "\n",
    "Key predictors are set out below"
   ]
  },
  {
   "attachments": {
    "image.png": {
     "image/png": "[encoded data removed]"
    }
   },
   "cell_type": "markdown",
   "metadata": {
    "hidden": true
   },
   "source": [
    "Prediction vs actual (logistic regression ngram 1,2 83% accuracy)\n",
    "\n",
    "![image.png](attachment:image.png)"
   ]
  },
  {
   "attachments": {
    "image.png": {
     "image/png": "[encoded data removed]"
    }
   },
   "cell_type": "markdown",
   "metadata": {
    "hidden": true
   },
   "source": [
    "Logistic ngram 1,2\n",
    "\n",
    "![image.png](attachment:image.png)\n",
    "\n"
   ]
  },
  {
   "attachments": {
    "image.png": {
     "image/png": "[encoded data removed]"
    }
   },
   "cell_type": "markdown",
   "metadata": {
    "hidden": true
   },
   "source": [
    "Logistic ngram 2,2\n",
    "![image.png](attachment:image.png)"
   ]
  },
  {
   "attachments": {
    "image.png": {
     "image/png": "[encoded data removed]"
    }
   },
   "cell_type": "markdown",
   "metadata": {
    "hidden": true
   },
   "source": [
    "Decision tree 1,2\n",
    "\n",
    "![image.png](attachment:image.png)"
   ]
  },
  {
   "attachments": {
    "image.png": {
     "image/png": "[encoded data removed]"
    }
   },
   "cell_type": "markdown",
   "metadata": {
    "hidden": true
   },
   "source": [
    "Decision tree 2,2\n",
    "\n",
    "![image.png](attachment:image.png)"
   ]
  },
  {
   "cell_type": "markdown",
   "metadata": {},
   "source": [
    "### Prediction of salary continous variable (unsuccessfully)\n",
    "Attempted predicting continous salary amounts using a few approaches (linear regression with RidgeCVgridsearch, randomforest and SVR. However I was unsuccesful in achieving a strong score. Would be interested to know why."
   ]
  },
  {
   "cell_type": "markdown",
   "metadata": {
    "heading_collapsed": true
   },
   "source": [
    "#### Attempting various continuous models\n",
    "R2 of various models:\n",
    "* Linear regression 57%\n",
    "* Decision tree 29%\n",
    "* Random Forrest 55%\n",
    "* Adaboost 29%\n",
    "* SVR x%"
   ]
  },
  {
   "cell_type": "code",
   "execution_count": 97,
   "metadata": {
    "ExecuteTime": {
     "end_time": "2018-05-29T03:19:58.260588Z",
     "start_time": "2018-05-29T03:19:50.887403Z"
    },
    "hidden": true
   },
   "outputs": [
    {
     "name": "stdout",
     "output_type": "stream",
     "text": [
      "cross_val_score [0.47504754 0.53119532 0.42461777 0.4967069  0.48610524]\n",
      "R2 test 0.5873815665928178\n",
      "MAE: 17007.662582134348\n",
      "MSE: 876435240.5552945\n",
      "RMSE: 29604.64896862137\n"
     ]
    }
   ],
   "source": [
    "# Train test split\n",
    "cvt      =  CountVectorizer(analyzer=\"word\",stop_words=stopwords, ngram_range=(1,2))\n",
    "X_all    =  cvt.fit_transform(df_description)\n",
    "columns  =  np.array(cvt.get_feature_names())\n",
    "X_train1, X_test1, y_train1, y_test1 = train_test_split(X_all, df_clean4['annual_salary'], test_size=0.3)\n",
    "\n",
    "# #Scale features\n",
    "# ss = StandardScaler()\n",
    "# X_train = ss.fit_transform(X_train1)\n",
    "# X_test = ss.transform(X_test)\n",
    "\n",
    "model = LinearRegression()\n",
    "model.fit(X_train1, y_train1)\n",
    "\n",
    "y_pred = model.predict(X_test1)\n",
    "\n",
    "# Review metrics\n",
    "from sklearn import metrics\n",
    "print('cross_val_score', cross_val_score(model, X_train1, y_train1, cv=5))\n",
    "print('R2 test', metrics.r2_score(y_test1,y_pred))\n",
    "print('MAE:', metrics.mean_absolute_error(y_test1,y_pred))\n",
    "print('MSE:', metrics.mean_squared_error(y_test1,y_pred))\n",
    "print('RMSE:', np.sqrt(metrics.mean_squared_error(y_test1,y_pred)))"
   ]
  },
  {
   "cell_type": "code",
   "execution_count": 98,
   "metadata": {
    "ExecuteTime": {
     "end_time": "2018-05-29T03:20:07.510933Z",
     "start_time": "2018-05-29T03:19:58.262583Z"
    },
    "hidden": true
   },
   "outputs": [
    {
     "name": "stdout",
     "output_type": "stream",
     "text": [
      "cross_val_score [ 0.0078552   0.21083628  0.00700352 -0.04370475  0.06684978]\n",
      "R2 test 0.24029017693015997\n",
      "MAE: 23180.675735294117\n",
      "MSE: 1613685690.2788234\n",
      "RMSE: 40170.7068680503\n"
     ]
    }
   ],
   "source": [
    "model = DecisionTreeRegressor()\n",
    "model.fit(X_train1, y_train1)\n",
    "\n",
    "y_pred = model.predict(X_test1)\n",
    "\n",
    "# Review metrics\n",
    "from sklearn import metrics\n",
    "print('cross_val_score', cross_val_score(model, X_train1, y_train1, cv=5))\n",
    "print('R2 test', metrics.r2_score(y_test1,y_pred))\n",
    "print('MAE:', metrics.mean_absolute_error(y_test1,y_pred))\n",
    "print('MSE:', metrics.mean_squared_error(y_test1,y_pred))\n",
    "print('RMSE:', np.sqrt(metrics.mean_squared_error(y_test1,y_pred)))"
   ]
  },
  {
   "cell_type": "code",
   "execution_count": 99,
   "metadata": {
    "ExecuteTime": {
     "end_time": "2018-05-29T03:21:07.465620Z",
     "start_time": "2018-05-29T03:20:07.511930Z"
    },
    "hidden": true
   },
   "outputs": [
    {
     "name": "stdout",
     "output_type": "stream",
     "text": [
      "cross_val_score [0.41689798 0.42231336 0.39905163 0.40177398 0.37423334]\n",
      "R2 test 0.541473402581161\n",
      "MAE: 20620.726273561\n",
      "MSE: 973947929.062119\n",
      "RMSE: 31208.138827269388\n"
     ]
    }
   ],
   "source": [
    "model = RandomForestRegressor()\n",
    "model.fit(X_train1, y_train1)\n",
    "\n",
    "y_pred = model.predict(X_test1)\n",
    "\n",
    "# Review metrics\n",
    "from sklearn import metrics\n",
    "print('cross_val_score', cross_val_score(model, X_train1, y_train1, cv=5))\n",
    "print('R2 test', metrics.r2_score(y_test1,y_pred))\n",
    "print('MAE:', metrics.mean_absolute_error(y_test1,y_pred))\n",
    "print('MSE:', metrics.mean_squared_error(y_test1,y_pred))\n",
    "print('RMSE:', np.sqrt(metrics.mean_squared_error(y_test1,y_pred)))"
   ]
  },
  {
   "cell_type": "code",
   "execution_count": 100,
   "metadata": {
    "ExecuteTime": {
     "end_time": "2018-05-29T03:21:35.897583Z",
     "start_time": "2018-05-29T03:21:07.467605Z"
    },
    "hidden": true
   },
   "outputs": [
    {
     "name": "stdout",
     "output_type": "stream",
     "text": [
      "cross_val_score [0.153705   0.18015894 0.22179156 0.19312481 0.21532216]\n",
      "R2 test 0.29848918236219635\n",
      "MAE: 29697.340649014983\n",
      "MSE: 1490066251.1163223\n",
      "RMSE: 38601.376285261154\n"
     ]
    }
   ],
   "source": [
    "model = AdaBoostRegressor()\n",
    "model.fit(X_train1, y_train1)\n",
    "\n",
    "y_pred = model.predict(X_test1)\n",
    "\n",
    "# Review metrics\n",
    "from sklearn import metrics\n",
    "print('cross_val_score', cross_val_score(model, X_train1, y_train1, cv=5))\n",
    "print('R2 test', metrics.r2_score(y_test1,y_pred))\n",
    "print('MAE:', metrics.mean_absolute_error(y_test1,y_pred))\n",
    "print('MSE:', metrics.mean_squared_error(y_test1,y_pred))\n",
    "print('RMSE:', np.sqrt(metrics.mean_squared_error(y_test1,y_pred)))"
   ]
  },
  {
   "cell_type": "code",
   "execution_count": 101,
   "metadata": {
    "ExecuteTime": {
     "end_time": "2018-05-29T03:21:41.581382Z",
     "start_time": "2018-05-29T03:21:35.899578Z"
    },
    "hidden": true
   },
   "outputs": [
    {
     "name": "stdout",
     "output_type": "stream",
     "text": [
      "cross_val_score [-5.76066947e-05 -1.01357992e-02 -3.64444349e-03 -5.49811657e-02\n",
      " -1.19686629e-01]\n",
      "R2 test -0.0018110024090676191\n",
      "MAE: 34271.81707797438\n",
      "MSE: 2127928361.4090927\n",
      "RMSE: 46129.473890443325\n"
     ]
    }
   ],
   "source": [
    "model = SVR()\n",
    "model.fit(X_train1, y_train1)\n",
    "\n",
    "y_pred = model.predict(X_test1)\n",
    "\n",
    "# Review metrics\n",
    "from sklearn import metrics\n",
    "print('cross_val_score', cross_val_score(model, X_train1, y_train1, cv=5))\n",
    "print('R2 test', metrics.r2_score(y_test1,y_pred))\n",
    "print('MAE:', metrics.mean_absolute_error(y_test1,y_pred))\n",
    "print('MSE:', metrics.mean_squared_error(y_test1,y_pred))\n",
    "print('RMSE:', np.sqrt(metrics.mean_squared_error(y_test1,y_pred)))"
   ]
  },
  {
   "cell_type": "markdown",
   "metadata": {
    "heading_collapsed": true
   },
   "source": [
    "#### Regularisation\n",
    "In summary, regularisation here made the score worse, tried ridge (lasso took too long). Would also be keen to understand why, since i thought there might have been too many features/words. Is the way to reduce features in NLP more through stop words/stemming?"
   ]
  },
  {
   "cell_type": "code",
   "execution_count": 102,
   "metadata": {
    "ExecuteTime": {
     "end_time": "2018-05-29T03:28:41.084608Z",
     "start_time": "2018-05-29T03:21:41.582380Z"
    },
    "hidden": true
   },
   "outputs": [
    {
     "name": "stdout",
     "output_type": "stream",
     "text": [
      "98.62521794868779\n"
     ]
    }
   ],
   "source": [
    "#Ridge Calcs\n",
    "ridge_alphas = np.logspace(0, 5, 500)\n",
    "\n",
    "optimal_ridge = RidgeCV(alphas=ridge_alphas, cv=3)\n",
    "optimal_ridge.fit(X_train1, y_train1)\n",
    "\n",
    "print(optimal_ridge.alpha_)"
   ]
  },
  {
   "cell_type": "code",
   "execution_count": 103,
   "metadata": {
    "ExecuteTime": {
     "end_time": "2018-05-29T03:28:42.986524Z",
     "start_time": "2018-05-29T03:28:41.086604Z"
    },
    "hidden": true
   },
   "outputs": [
    {
     "name": "stdout",
     "output_type": "stream",
     "text": [
      "[0.51344665 0.53850265 0.42062088 0.53135412 0.48420414]\n",
      "0.4976256877125536\n"
     ]
    }
   ],
   "source": [
    "ridge = Ridge(alpha=optimal_ridge.alpha_)\n",
    "\n",
    "ridge_scores = cross_val_score(ridge, X_train1,y_train1, cv=5)\n",
    "\n",
    "print(ridge_scores)\n",
    "\n",
    "print(np.mean(ridge_scores))"
   ]
  },
  {
   "cell_type": "code",
   "execution_count": 104,
   "metadata": {
    "ExecuteTime": {
     "end_time": "2018-05-29T03:28:43.058330Z",
     "start_time": "2018-05-29T03:28:42.987522Z"
    },
    "hidden": true
   },
   "outputs": [
    {
     "data": {
      "text/html": [
       "<div>\n",
       "<style scoped>\n",
       "    .dataframe tbody tr th:only-of-type {\n",
       "        vertical-align: middle;\n",
       "    }\n",
       "\n",
       "    .dataframe tbody tr th {\n",
       "        vertical-align: top;\n",
       "    }\n",
       "\n",
       "    .dataframe thead th {\n",
       "        text-align: right;\n",
       "    }\n",
       "</style>\n",
       "<table border=\"1\" class=\"dataframe\">\n",
       "  <thead>\n",
       "    <tr style=\"text-align: right;\">\n",
       "      <th></th>\n",
       "      <th>abs_coef</th>\n",
       "      <th>coef</th>\n",
       "      <th>variable</th>\n",
       "    </tr>\n",
       "  </thead>\n",
       "  <tbody>\n",
       "    <tr>\n",
       "      <th>23334</th>\n",
       "      <td>2901.670192</td>\n",
       "      <td>2901.670192</td>\n",
       "      <td>contract</td>\n",
       "    </tr>\n",
       "    <tr>\n",
       "      <th>97978</th>\n",
       "      <td>2692.327283</td>\n",
       "      <td>2692.327283</td>\n",
       "      <td>splunk</td>\n",
       "    </tr>\n",
       "    <tr>\n",
       "      <th>19025</th>\n",
       "      <td>2242.622414</td>\n",
       "      <td>2242.622414</td>\n",
       "      <td>cognos</td>\n",
       "    </tr>\n",
       "    <tr>\n",
       "      <th>61485</th>\n",
       "      <td>2180.879998</td>\n",
       "      <td>2180.879998</td>\n",
       "      <td>machine learning</td>\n",
       "    </tr>\n",
       "    <tr>\n",
       "      <th>97410</th>\n",
       "      <td>2032.196930</td>\n",
       "      <td>2032.196930</td>\n",
       "      <td>spark</td>\n",
       "    </tr>\n",
       "    <tr>\n",
       "      <th>55143</th>\n",
       "      <td>2013.728065</td>\n",
       "      <td>2013.728065</td>\n",
       "      <td>investment</td>\n",
       "    </tr>\n",
       "    <tr>\n",
       "      <th>7733</th>\n",
       "      <td>1991.687879</td>\n",
       "      <td>1991.687879</td>\n",
       "      <td>architect</td>\n",
       "    </tr>\n",
       "    <tr>\n",
       "      <th>58010</th>\n",
       "      <td>1907.807073</td>\n",
       "      <td>1907.807073</td>\n",
       "      <td>lead</td>\n",
       "    </tr>\n",
       "    <tr>\n",
       "      <th>49712</th>\n",
       "      <td>1829.659868</td>\n",
       "      <td>1829.659868</td>\n",
       "      <td>hudson</td>\n",
       "    </tr>\n",
       "    <tr>\n",
       "      <th>95863</th>\n",
       "      <td>1712.615833</td>\n",
       "      <td>1712.615833</td>\n",
       "      <td>small cap</td>\n",
       "    </tr>\n",
       "    <tr>\n",
       "      <th>52032</th>\n",
       "      <td>1712.615833</td>\n",
       "      <td>1712.615833</td>\n",
       "      <td>industrials</td>\n",
       "    </tr>\n",
       "    <tr>\n",
       "      <th>15302</th>\n",
       "      <td>1712.615833</td>\n",
       "      <td>1712.615833</td>\n",
       "      <td>cap</td>\n",
       "    </tr>\n",
       "    <tr>\n",
       "      <th>39054</th>\n",
       "      <td>1700.800788</td>\n",
       "      <td>1700.800788</td>\n",
       "      <td>etl</td>\n",
       "    </tr>\n",
       "    <tr>\n",
       "      <th>107005</th>\n",
       "      <td>1689.015881</td>\n",
       "      <td>1689.015881</td>\n",
       "      <td>trading</td>\n",
       "    </tr>\n",
       "    <tr>\n",
       "      <th>13607</th>\n",
       "      <td>1680.093297</td>\n",
       "      <td>1680.093297</td>\n",
       "      <td>build</td>\n",
       "    </tr>\n",
       "    <tr>\n",
       "      <th>78011</th>\n",
       "      <td>1670.570774</td>\n",
       "      <td>1670.570774</td>\n",
       "      <td>portfolio</td>\n",
       "    </tr>\n",
       "    <tr>\n",
       "      <th>543</th>\n",
       "      <td>1652.445990</td>\n",
       "      <td>1652.445990</td>\n",
       "      <td>account manager</td>\n",
       "    </tr>\n",
       "    <tr>\n",
       "      <th>93365</th>\n",
       "      <td>1578.732060</td>\n",
       "      <td>1578.732060</td>\n",
       "      <td>senior</td>\n",
       "    </tr>\n",
       "    <tr>\n",
       "      <th>80248</th>\n",
       "      <td>1512.868181</td>\n",
       "      <td>1512.868181</td>\n",
       "      <td>process</td>\n",
       "    </tr>\n",
       "    <tr>\n",
       "      <th>22675</th>\n",
       "      <td>1508.630195</td>\n",
       "      <td>1508.630195</td>\n",
       "      <td>consulting</td>\n",
       "    </tr>\n",
       "    <tr>\n",
       "      <th>36284</th>\n",
       "      <td>1452.942738</td>\n",
       "      <td>1452.942738</td>\n",
       "      <td>engineer</td>\n",
       "    </tr>\n",
       "    <tr>\n",
       "      <th>38373</th>\n",
       "      <td>1450.027250</td>\n",
       "      <td>1450.027250</td>\n",
       "      <td>equities</td>\n",
       "    </tr>\n",
       "    <tr>\n",
       "      <th>62856</th>\n",
       "      <td>1433.387147</td>\n",
       "      <td>1433.387147</td>\n",
       "      <td>manager</td>\n",
       "    </tr>\n",
       "    <tr>\n",
       "      <th>40025</th>\n",
       "      <td>1424.072383</td>\n",
       "      <td>1424.072383</td>\n",
       "      <td>execution</td>\n",
       "    </tr>\n",
       "    <tr>\n",
       "      <th>38881</th>\n",
       "      <td>1334.618008</td>\n",
       "      <td>1334.618008</td>\n",
       "      <td>etc</td>\n",
       "    </tr>\n",
       "    <tr>\n",
       "      <th>57680</th>\n",
       "      <td>1327.825547</td>\n",
       "      <td>1327.825547</td>\n",
       "      <td>large</td>\n",
       "    </tr>\n",
       "    <tr>\n",
       "      <th>26945</th>\n",
       "      <td>1319.989383</td>\n",
       "      <td>1319.989383</td>\n",
       "      <td>data migration</td>\n",
       "    </tr>\n",
       "    <tr>\n",
       "      <th>5658</th>\n",
       "      <td>1308.998575</td>\n",
       "      <td>1308.998575</td>\n",
       "      <td>analytics</td>\n",
       "    </tr>\n",
       "    <tr>\n",
       "      <th>66090</th>\n",
       "      <td>1270.706884</td>\n",
       "      <td>1270.706884</td>\n",
       "      <td>microsoft</td>\n",
       "    </tr>\n",
       "    <tr>\n",
       "      <th>61952</th>\n",
       "      <td>1270.352884</td>\n",
       "      <td>1270.352884</td>\n",
       "      <td>major</td>\n",
       "    </tr>\n",
       "  </tbody>\n",
       "</table>\n",
       "</div>"
      ],
      "text/plain": [
       "           abs_coef         coef          variable\n",
       "23334   2901.670192  2901.670192          contract\n",
       "97978   2692.327283  2692.327283            splunk\n",
       "19025   2242.622414  2242.622414            cognos\n",
       "61485   2180.879998  2180.879998  machine learning\n",
       "97410   2032.196930  2032.196930             spark\n",
       "55143   2013.728065  2013.728065        investment\n",
       "7733    1991.687879  1991.687879         architect\n",
       "58010   1907.807073  1907.807073              lead\n",
       "49712   1829.659868  1829.659868            hudson\n",
       "95863   1712.615833  1712.615833         small cap\n",
       "52032   1712.615833  1712.615833       industrials\n",
       "15302   1712.615833  1712.615833               cap\n",
       "39054   1700.800788  1700.800788               etl\n",
       "107005  1689.015881  1689.015881           trading\n",
       "13607   1680.093297  1680.093297             build\n",
       "78011   1670.570774  1670.570774         portfolio\n",
       "543     1652.445990  1652.445990   account manager\n",
       "93365   1578.732060  1578.732060            senior\n",
       "80248   1512.868181  1512.868181           process\n",
       "22675   1508.630195  1508.630195        consulting\n",
       "36284   1452.942738  1452.942738          engineer\n",
       "38373   1450.027250  1450.027250          equities\n",
       "62856   1433.387147  1433.387147           manager\n",
       "40025   1424.072383  1424.072383         execution\n",
       "38881   1334.618008  1334.618008               etc\n",
       "57680   1327.825547  1327.825547             large\n",
       "26945   1319.989383  1319.989383    data migration\n",
       "5658    1308.998575  1308.998575         analytics\n",
       "66090   1270.706884  1270.706884         microsoft\n",
       "61952   1270.352884  1270.352884             major"
      ]
     },
     "execution_count": 104,
     "metadata": {},
     "output_type": "execute_result"
    }
   ],
   "source": [
    "ridge_coefs = pd.DataFrame({'variable':columns,\n",
    "                            'coef':optimal_ridge.coef_,\n",
    "                            'abs_coef':np.abs(optimal_ridge.coef_)})\n",
    "\n",
    "ridge_coefs.sort_values('coef', inplace=True, ascending=False)\n",
    "ridge_coefs.head(30)"
   ]
  },
  {
   "cell_type": "markdown",
   "metadata": {
    "hidden": true
   },
   "source": [
    "##### Lasso"
   ]
  },
  {
   "cell_type": "code",
   "execution_count": 105,
   "metadata": {
    "ExecuteTime": {
     "end_time": "2018-05-29T03:28:43.066309Z",
     "start_time": "2018-05-29T03:28:43.059329Z"
    },
    "hidden": true
   },
   "outputs": [],
   "source": [
    "# #Lasso - took too long to execute\n",
    "# lasso_alphas = np.logspace(0, 5, 500)\n",
    "\n",
    "# optimal_lasso = LassoCV(alphas = lasso_alphas, cv=5, verbose=1)\n",
    "# optimal_lasso.fit(X_train1, y_train1)\n",
    "\n",
    "# print(optimal_lasso.alpha_)\n",
    "\n",
    "# lasso = Lasso(alpha=optimal_lasso.alpha_)\n",
    "\n",
    "# lasso_scores = cross_val_score(lasso, X_train1, y_train1, cv=3)\n",
    "\n",
    "# print(lasso_scores)\n",
    "# print(np.mean(lasso_scores))\n",
    "\n",
    "# lasso_coefs = pd.DataFrame({'variable':columns,\n",
    "#                             'coef':optimal_lasso.coef_,\n",
    "#                             'abs_coef':np.abs(optimal_lasso.coef_)})\n",
    "\n",
    "# lasso_coefs.sort_values('abs_coef', inplace=True, ascending=False)\n",
    "# lasso_coefs.head(20)"
   ]
  },
  {
   "cell_type": "markdown",
   "metadata": {},
   "source": [
    "#### Feature selection\n",
    "Attempted k_best (f_classif) and rfecv. This was more out of interest. Results did not really seem to make sense since it would exclude a great number of valuable words."
   ]
  },
  {
   "cell_type": "markdown",
   "metadata": {
    "heading_collapsed": true
   },
   "source": [
    "##### Kbest"
   ]
  },
  {
   "cell_type": "code",
   "execution_count": 106,
   "metadata": {
    "ExecuteTime": {
     "end_time": "2018-05-29T03:28:50.052194Z",
     "start_time": "2018-05-29T03:28:43.068303Z"
    },
    "hidden": true
   },
   "outputs": [
    {
     "name": "stderr",
     "output_type": "stream",
     "text": [
      "C:\\Users\\Josh Lim\\Anaconda3\\lib\\site-packages\\sklearn\\feature_selection\\univariate_selection.py:113: UserWarning: Features [0 0 0 ... 0 0 0] are constant.\n",
      "  UserWarning)\n",
      "C:\\Users\\Josh Lim\\Anaconda3\\lib\\site-packages\\sklearn\\feature_selection\\univariate_selection.py:114: RuntimeWarning: divide by zero encountered in true_divide\n",
      "  f = msb / msw\n",
      "C:\\Users\\Josh Lim\\Anaconda3\\lib\\site-packages\\sklearn\\feature_selection\\univariate_selection.py:114: RuntimeWarning: invalid value encountered in true_divide\n",
      "  f = msb / msw\n"
     ]
    },
    {
     "data": {
      "text/html": [
       "<div>\n",
       "<style scoped>\n",
       "    .dataframe tbody tr th:only-of-type {\n",
       "        vertical-align: middle;\n",
       "    }\n",
       "\n",
       "    .dataframe tbody tr th {\n",
       "        vertical-align: top;\n",
       "    }\n",
       "\n",
       "    .dataframe thead th {\n",
       "        text-align: right;\n",
       "    }\n",
       "</style>\n",
       "<table border=\"1\" class=\"dataframe\">\n",
       "  <thead>\n",
       "    <tr style=\"text-align: right;\">\n",
       "      <th></th>\n",
       "      <th>feature</th>\n",
       "      <th>f_classif</th>\n",
       "    </tr>\n",
       "  </thead>\n",
       "  <tbody>\n",
       "    <tr>\n",
       "      <th>90359</th>\n",
       "      <td>risk knowledge</td>\n",
       "      <td>0.0698292</td>\n",
       "    </tr>\n",
       "    <tr>\n",
       "      <th>47259</th>\n",
       "      <td>grow customer</td>\n",
       "      <td>0.0699292</td>\n",
       "    </tr>\n",
       "    <tr>\n",
       "      <th>27979</th>\n",
       "      <td>defining business</td>\n",
       "      <td>0.0699292</td>\n",
       "    </tr>\n",
       "    <tr>\n",
       "      <th>113394</th>\n",
       "      <td>within analytics</td>\n",
       "      <td>0.0699292</td>\n",
       "    </tr>\n",
       "    <tr>\n",
       "      <th>103007</th>\n",
       "      <td>systems run</td>\n",
       "      <td>0.0699292</td>\n",
       "    </tr>\n",
       "    <tr>\n",
       "      <th>82234</th>\n",
       "      <td>projects development</td>\n",
       "      <td>0.0699292</td>\n",
       "    </tr>\n",
       "    <tr>\n",
       "      <th>112849</th>\n",
       "      <td>well tested</td>\n",
       "      <td>0.0699292</td>\n",
       "    </tr>\n",
       "    <tr>\n",
       "      <th>93779</th>\n",
       "      <td>server knowledge</td>\n",
       "      <td>0.0699292</td>\n",
       "    </tr>\n",
       "    <tr>\n",
       "      <th>29325</th>\n",
       "      <td>design architect</td>\n",
       "      <td>0.0699292</td>\n",
       "    </tr>\n",
       "    <tr>\n",
       "      <th>59464</th>\n",
       "      <td>level system</td>\n",
       "      <td>0.0711822</td>\n",
       "    </tr>\n",
       "    <tr>\n",
       "      <th>91659</th>\n",
       "      <td>scala go</td>\n",
       "      <td>0.0711822</td>\n",
       "    </tr>\n",
       "    <tr>\n",
       "      <th>55771</th>\n",
       "      <td>java engineer</td>\n",
       "      <td>0.0716829</td>\n",
       "    </tr>\n",
       "    <tr>\n",
       "      <th>8478</th>\n",
       "      <td>ash</td>\n",
       "      <td>0.0716829</td>\n",
       "    </tr>\n",
       "    <tr>\n",
       "      <th>34125</th>\n",
       "      <td>ecommerce crm</td>\n",
       "      <td>0.0716829</td>\n",
       "    </tr>\n",
       "    <tr>\n",
       "      <th>89734</th>\n",
       "      <td>retail insights</td>\n",
       "      <td>0.0716829</td>\n",
       "    </tr>\n",
       "    <tr>\n",
       "      <th>48093</th>\n",
       "      <td>harlowgroup</td>\n",
       "      <td>0.0716829</td>\n",
       "    </tr>\n",
       "    <tr>\n",
       "      <th>73534</th>\n",
       "      <td>oxygen executive</td>\n",
       "      <td>0.0716829</td>\n",
       "    </tr>\n",
       "    <tr>\n",
       "      <th>18706</th>\n",
       "      <td>cloudsense consultant</td>\n",
       "      <td>0.0716829</td>\n",
       "    </tr>\n",
       "    <tr>\n",
       "      <th>48513</th>\n",
       "      <td>healthcare startup</td>\n",
       "      <td>0.0716829</td>\n",
       "    </tr>\n",
       "    <tr>\n",
       "      <th>18705</th>\n",
       "      <td>cloudsense</td>\n",
       "      <td>0.0716829</td>\n",
       "    </tr>\n",
       "    <tr>\n",
       "      <th>73533</th>\n",
       "      <td>oxygen</td>\n",
       "      <td>0.0716829</td>\n",
       "    </tr>\n",
       "    <tr>\n",
       "      <th>55131</th>\n",
       "      <td>investigator ace</td>\n",
       "      <td>0.0716829</td>\n",
       "    </tr>\n",
       "    <tr>\n",
       "      <th>55154</th>\n",
       "      <td>investment doubling</td>\n",
       "      <td>0.0716829</td>\n",
       "    </tr>\n",
       "    <tr>\n",
       "      <th>113178</th>\n",
       "      <td>widespread exposure</td>\n",
       "      <td>0.0716829</td>\n",
       "    </tr>\n",
       "    <tr>\n",
       "      <th>113179</th>\n",
       "      <td>widespread institutional</td>\n",
       "      <td>0.0716829</td>\n",
       "    </tr>\n",
       "    <tr>\n",
       "      <th>39154</th>\n",
       "      <td>evaluating micro</td>\n",
       "      <td>0.0716829</td>\n",
       "    </tr>\n",
       "    <tr>\n",
       "      <th>113174</th>\n",
       "      <td>wider marketing</td>\n",
       "      <td>0.0716829</td>\n",
       "    </tr>\n",
       "    <tr>\n",
       "      <th>39216</th>\n",
       "      <td>even read</td>\n",
       "      <td>0.0716829</td>\n",
       "    </tr>\n",
       "    <tr>\n",
       "      <th>39135</th>\n",
       "      <td>evaluate resource</td>\n",
       "      <td>0.0716829</td>\n",
       "    </tr>\n",
       "    <tr>\n",
       "      <th>39128</th>\n",
       "      <td>evaluate marketing</td>\n",
       "      <td>0.0716829</td>\n",
       "    </tr>\n",
       "    <tr>\n",
       "      <th>55165</th>\n",
       "      <td>investment marketing</td>\n",
       "      <td>0.0716829</td>\n",
       "    </tr>\n",
       "    <tr>\n",
       "      <th>39238</th>\n",
       "      <td>event sourcing</td>\n",
       "      <td>0.0716829</td>\n",
       "    </tr>\n",
       "    <tr>\n",
       "      <th>57679</th>\n",
       "      <td>laravel symfony</td>\n",
       "      <td>0.0716829</td>\n",
       "    </tr>\n",
       "    <tr>\n",
       "      <th>39274</th>\n",
       "      <td>events quarterly</td>\n",
       "      <td>0.0716829</td>\n",
       "    </tr>\n",
       "    <tr>\n",
       "      <th>28362</th>\n",
       "      <td>delivering world</td>\n",
       "      <td>0.0716829</td>\n",
       "    </tr>\n",
       "    <tr>\n",
       "      <th>95277</th>\n",
       "      <td>silfen</td>\n",
       "      <td>0.0716829</td>\n",
       "    </tr>\n",
       "    <tr>\n",
       "      <th>63664</th>\n",
       "      <td>mapinfo</td>\n",
       "      <td>0.0716829</td>\n",
       "    </tr>\n",
       "    <tr>\n",
       "      <th>87160</th>\n",
       "      <td>release versioning</td>\n",
       "      <td>0.0716829</td>\n",
       "    </tr>\n",
       "    <tr>\n",
       "      <th>76072</th>\n",
       "      <td>permanent support</td>\n",
       "      <td>0.0716829</td>\n",
       "    </tr>\n",
       "    <tr>\n",
       "      <th>87184</th>\n",
       "      <td>relentless growth</td>\n",
       "      <td>0.0716829</td>\n",
       "    </tr>\n",
       "    <tr>\n",
       "      <th>55014</th>\n",
       "      <td>invaluable highly</td>\n",
       "      <td>0.0716829</td>\n",
       "    </tr>\n",
       "    <tr>\n",
       "      <th>87187</th>\n",
       "      <td>relevance data</td>\n",
       "      <td>0.0716829</td>\n",
       "    </tr>\n",
       "    <tr>\n",
       "      <th>15198</th>\n",
       "      <td>candidates australian</td>\n",
       "      <td>0.0716829</td>\n",
       "    </tr>\n",
       "    <tr>\n",
       "      <th>63636</th>\n",
       "      <td>many parts</td>\n",
       "      <td>0.0716829</td>\n",
       "    </tr>\n",
       "    <tr>\n",
       "      <th>39374</th>\n",
       "      <td>everything barista</td>\n",
       "      <td>0.0716829</td>\n",
       "    </tr>\n",
       "    <tr>\n",
       "      <th>104387</th>\n",
       "      <td>technical roadblocks</td>\n",
       "      <td>0.0716829</td>\n",
       "    </tr>\n",
       "    <tr>\n",
       "      <th>70371</th>\n",
       "      <td>offers best</td>\n",
       "      <td>0.0716829</td>\n",
       "    </tr>\n",
       "    <tr>\n",
       "      <th>110083</th>\n",
       "      <td>using nodejs</td>\n",
       "      <td>0.0716829</td>\n",
       "    </tr>\n",
       "    <tr>\n",
       "      <th>28435</th>\n",
       "      <td>delivery engagement</td>\n",
       "      <td>0.0716829</td>\n",
       "    </tr>\n",
       "    <tr>\n",
       "      <th>104384</th>\n",
       "      <td>technical resourcesalign</td>\n",
       "      <td>0.0716829</td>\n",
       "    </tr>\n",
       "    <tr>\n",
       "      <th>63618</th>\n",
       "      <td>many candidates</td>\n",
       "      <td>0.0716829</td>\n",
       "    </tr>\n",
       "    <tr>\n",
       "      <th>76008</th>\n",
       "      <td>permanent enormous</td>\n",
       "      <td>0.0716829</td>\n",
       "    </tr>\n",
       "    <tr>\n",
       "      <th>104403</th>\n",
       "      <td>technical stakeholders</td>\n",
       "      <td>0.0716829</td>\n",
       "    </tr>\n",
       "    <tr>\n",
       "      <th>15254</th>\n",
       "      <td>candidates skilled</td>\n",
       "      <td>0.0716829</td>\n",
       "    </tr>\n",
       "    <tr>\n",
       "      <th>39072</th>\n",
       "      <td>etl modelling</td>\n",
       "      <td>0.0716829</td>\n",
       "    </tr>\n",
       "    <tr>\n",
       "      <th>87417</th>\n",
       "      <td>remains best</td>\n",
       "      <td>0.0716829</td>\n",
       "    </tr>\n",
       "    <tr>\n",
       "      <th>87476</th>\n",
       "      <td>removals consultant</td>\n",
       "      <td>0.0716829</td>\n",
       "    </tr>\n",
       "    <tr>\n",
       "      <th>113116</th>\n",
       "      <td>wholesale michael</td>\n",
       "      <td>0.0716829</td>\n",
       "    </tr>\n",
       "    <tr>\n",
       "      <th>38914</th>\n",
       "      <td>etc etc</td>\n",
       "      <td>0.0716829</td>\n",
       "    </tr>\n",
       "    <tr>\n",
       "      <th>63455</th>\n",
       "      <td>manipulation strong</td>\n",
       "      <td>0.0716829</td>\n",
       "    </tr>\n",
       "  </tbody>\n",
       "</table>\n",
       "</div>"
      ],
      "text/plain": [
       "                         feature  f_classif\n",
       "90359             risk knowledge  0.0698292\n",
       "47259              grow customer  0.0699292\n",
       "27979          defining business  0.0699292\n",
       "113394          within analytics  0.0699292\n",
       "103007               systems run  0.0699292\n",
       "82234       projects development  0.0699292\n",
       "112849               well tested  0.0699292\n",
       "93779           server knowledge  0.0699292\n",
       "29325           design architect  0.0699292\n",
       "59464               level system  0.0711822\n",
       "91659                   scala go  0.0711822\n",
       "55771              java engineer  0.0716829\n",
       "8478                         ash  0.0716829\n",
       "34125              ecommerce crm  0.0716829\n",
       "89734            retail insights  0.0716829\n",
       "48093                harlowgroup  0.0716829\n",
       "73534           oxygen executive  0.0716829\n",
       "18706      cloudsense consultant  0.0716829\n",
       "48513         healthcare startup  0.0716829\n",
       "18705                 cloudsense  0.0716829\n",
       "73533                     oxygen  0.0716829\n",
       "55131           investigator ace  0.0716829\n",
       "55154        investment doubling  0.0716829\n",
       "113178       widespread exposure  0.0716829\n",
       "113179  widespread institutional  0.0716829\n",
       "39154           evaluating micro  0.0716829\n",
       "113174           wider marketing  0.0716829\n",
       "39216                  even read  0.0716829\n",
       "39135          evaluate resource  0.0716829\n",
       "39128         evaluate marketing  0.0716829\n",
       "55165       investment marketing  0.0716829\n",
       "39238             event sourcing  0.0716829\n",
       "57679            laravel symfony  0.0716829\n",
       "39274           events quarterly  0.0716829\n",
       "28362           delivering world  0.0716829\n",
       "95277                     silfen  0.0716829\n",
       "63664                    mapinfo  0.0716829\n",
       "87160         release versioning  0.0716829\n",
       "76072          permanent support  0.0716829\n",
       "87184          relentless growth  0.0716829\n",
       "55014          invaluable highly  0.0716829\n",
       "87187             relevance data  0.0716829\n",
       "15198      candidates australian  0.0716829\n",
       "63636                 many parts  0.0716829\n",
       "39374         everything barista  0.0716829\n",
       "104387      technical roadblocks  0.0716829\n",
       "70371                offers best  0.0716829\n",
       "110083              using nodejs  0.0716829\n",
       "28435        delivery engagement  0.0716829\n",
       "104384  technical resourcesalign  0.0716829\n",
       "63618            many candidates  0.0716829\n",
       "76008         permanent enormous  0.0716829\n",
       "104403    technical stakeholders  0.0716829\n",
       "15254         candidates skilled  0.0716829\n",
       "39072              etl modelling  0.0716829\n",
       "87417               remains best  0.0716829\n",
       "87476        removals consultant  0.0716829\n",
       "113116         wholesale michael  0.0716829\n",
       "38914                    etc etc  0.0716829\n",
       "63455        manipulation strong  0.0716829"
      ]
     },
     "execution_count": 106,
     "metadata": {},
     "output_type": "execute_result"
    }
   ],
   "source": [
    "from sklearn.feature_selection import SelectKBest, chi2, f_classif\n",
    "\n",
    "cvt      =  CountVectorizer(analyzer=\"word\",stop_words=stopwords, ngram_range=(1,2))\n",
    "X_all    =  cvt.fit_transform(df_description)\n",
    "columns  =  np.array(cvt.get_feature_names())\n",
    "\n",
    "# build the selector (we'll build one with each score type)\n",
    "skb_f = SelectKBest(f_classif, k=5)\n",
    "# skb_chi2 = SelectKBest(chi2, k=5)\n",
    "\n",
    "# train the selector on our data\n",
    "skb_f.fit(X_all, df_clean4['annual_salary'].values)\n",
    "# skb_chi2.fit(X_all, df_clean4['annual_salary'].values)\n",
    "\n",
    "# examine results\n",
    "kbest = pd.DataFrame([columns, list(skb_f.scores_)], \n",
    "                     index=['feature','f_classif']).T.sort_values('f_classif', ascending=True)\n",
    "kbest[:60]"
   ]
  },
  {
   "cell_type": "markdown",
   "metadata": {
    "heading_collapsed": true
   },
   "source": [
    "##### RFECV"
   ]
  },
  {
   "cell_type": "code",
   "execution_count": 107,
   "metadata": {
    "ExecuteTime": {
     "end_time": "2018-05-29T03:29:28.846430Z",
     "start_time": "2018-05-29T03:28:50.053168Z"
    },
    "hidden": true
   },
   "outputs": [
    {
     "data": {
      "text/plain": [
       "array(['abbotsford', 'abbott', 'abbott laboratories', ..., 'zurich',\n",
       "       'zurich financial', 'zurich insurance'], dtype='<U103')"
      ]
     },
     "execution_count": 107,
     "metadata": {},
     "output_type": "execute_result"
    }
   ],
   "source": [
    "# Took too long to run\n",
    "cvt      =  CountVectorizer(analyzer=\"word\",stop_words=stopwords, ngram_range=(1,2))\n",
    "X_all    =  cvt.fit_transform(df_description)\n",
    "columns  =  np.array(cvt.get_feature_names())\n",
    "\n",
    "lr = LinearRegression()\n",
    "selector = RFECV(lr, step=0.10, cv=2)\n",
    "selector = selector.fit(X_all, df_clean4['annual_salary'].values)\n",
    "rfecv_columns = np.array(columns)[selector.support_]\n",
    "rfecv_columns"
   ]
  },
  {
   "cell_type": "markdown",
   "metadata": {},
   "source": [
    "#### Truncated SVD since PCA not available due to sparse matrix\n",
    "PCA was not able to be implemented due to sparse Matrix. Overall this approach was not effective, not sure why. Also keen to understand how to use PCA in this situation\n",
    "http://cs229.stanford.edu/proj2017/final-reports/5163902.pdf"
   ]
  },
  {
   "cell_type": "markdown",
   "metadata": {},
   "source": [
    "## Question 2\n",
    "In summary, models were able to predict with 93% accuracy the job title (decision tree and logistic regression)\n",
    "\n",
    "Job titles have been cleanly classified in the EDA above, resulting in 12 job categories. Based on the job descriptions we have scraped, we would like to predict job categories. This will be a classification problem.\n",
    "\n",
    "Since this is a multiclass problem, we will use inherently multiclass models such as logistic multinomial, KNN, decision tree, random forest"
   ]
  },
  {
   "cell_type": "markdown",
   "metadata": {},
   "source": [
    "### EDA\n",
    "Minimal EDA required since it has been performed in question 1 above."
   ]
  },
  {
   "cell_type": "markdown",
   "metadata": {
    "heading_collapsed": true
   },
   "source": [
    "#### Creating train test data frames"
   ]
  },
  {
   "cell_type": "code",
   "execution_count": 108,
   "metadata": {
    "ExecuteTime": {
     "end_time": "2018-05-29T03:29:28.860392Z",
     "start_time": "2018-05-29T03:29:28.848424Z"
    },
    "hidden": true
   },
   "outputs": [
    {
     "data": {
      "text/html": [
       "<div>\n",
       "<style scoped>\n",
       "    .dataframe tbody tr th:only-of-type {\n",
       "        vertical-align: middle;\n",
       "    }\n",
       "\n",
       "    .dataframe tbody tr th {\n",
       "        vertical-align: top;\n",
       "    }\n",
       "\n",
       "    .dataframe thead th {\n",
       "        text-align: right;\n",
       "    }\n",
       "</style>\n",
       "<table border=\"1\" class=\"dataframe\">\n",
       "  <thead>\n",
       "    <tr style=\"text-align: right;\">\n",
       "      <th></th>\n",
       "      <th>description</th>\n",
       "      <th>title_clean</th>\n",
       "    </tr>\n",
       "  </thead>\n",
       "  <tbody>\n",
       "    <tr>\n",
       "      <th>0</th>\n",
       "      <td>lead data scientist/data architect - chengdu j...</td>\n",
       "      <td>1.lead_datascience</td>\n",
       "    </tr>\n",
       "    <tr>\n",
       "      <th>1</th>\n",
       "      <td>soil scientist/soil surveyor job - sunraysia e...</td>\n",
       "      <td>Other</td>\n",
       "    </tr>\n",
       "    <tr>\n",
       "      <th>2</th>\n",
       "      <td>chemistry laboratory technician/analyst job - ...</td>\n",
       "      <td>Other</td>\n",
       "    </tr>\n",
       "    <tr>\n",
       "      <th>3</th>\n",
       "      <td>data engineer - machine learning job - csiro -...</td>\n",
       "      <td>2.senior_datascience</td>\n",
       "    </tr>\n",
       "    <tr>\n",
       "      <th>4</th>\n",
       "      <td>data analyst job - deloitte - melbourne vic | ...</td>\n",
       "      <td>8.dataalyst</td>\n",
       "    </tr>\n",
       "  </tbody>\n",
       "</table>\n",
       "</div>"
      ],
      "text/plain": [
       "                                         description           title_clean\n",
       "0  lead data scientist/data architect - chengdu j...    1.lead_datascience\n",
       "1  soil scientist/soil surveyor job - sunraysia e...                 Other\n",
       "2  chemistry laboratory technician/analyst job - ...                 Other\n",
       "3  data engineer - machine learning job - csiro -...  2.senior_datascience\n",
       "4  data analyst job - deloitte - melbourne vic | ...           8.dataalyst"
      ]
     },
     "execution_count": 108,
     "metadata": {},
     "output_type": "execute_result"
    }
   ],
   "source": [
    "# Use dataframe with job titles\n",
    "df_title_clean = df_nodup\n",
    "df_title_clean.head(2)\n",
    "df_title_clean2 = df_title_clean[[\"description\",\"title_clean\"]]\n",
    "df_title_clean2.head()"
   ]
  },
  {
   "cell_type": "code",
   "execution_count": 109,
   "metadata": {
    "ExecuteTime": {
     "end_time": "2018-05-29T03:29:28.870366Z",
     "start_time": "2018-05-29T03:29:28.862387Z"
    },
    "hidden": true
   },
   "outputs": [],
   "source": [
    "X_traint, X_testt, y_traint, y_testt = train_test_split(df_title_clean2[\"description\"], df_title_clean2[\"title_clean\"], test_size=0.3)"
   ]
  },
  {
   "cell_type": "code",
   "execution_count": 110,
   "metadata": {
    "ExecuteTime": {
     "end_time": "2018-05-29T03:29:28.879343Z",
     "start_time": "2018-05-29T03:29:28.872361Z"
    },
    "hidden": true
   },
   "outputs": [
    {
     "name": "stdout",
     "output_type": "stream",
     "text": [
      "(3958,)\n",
      "(3958,)\n",
      "(1697,)\n"
     ]
    }
   ],
   "source": [
    "print(X_traint.shape)\n",
    "print(y_traint.shape)\n",
    "print(X_testt.shape)"
   ]
  },
  {
   "cell_type": "markdown",
   "metadata": {
    "heading_collapsed": true
   },
   "source": [
    "#### Determining whether count vect is better or other\n",
    "Count vectorizer resulted in higher scores that tfidf, consistent with question 1."
   ]
  },
  {
   "cell_type": "code",
   "execution_count": 111,
   "metadata": {
    "ExecuteTime": {
     "end_time": "2018-05-29T03:31:43.937190Z",
     "start_time": "2018-05-29T03:29:28.882333Z"
    },
    "hidden": true
   },
   "outputs": [
    {
     "name": "stdout",
     "output_type": "stream",
     "text": [
      "---------------------------------------------------\n",
      "Count vect, Decision Tree\n",
      "---------------------------------------------------\n",
      "0.931 ngram (2, 2)\n",
      "---------------------------------------------------\n",
      "Count vect, Random Forest\n",
      "0.895 ngram (2, 2)\n",
      "---------------------------------------------------\n",
      "Count vect, AdaBoostClassifier\n",
      "---------------------------------------------------\n",
      "0.72 ngram (2, 2)\n",
      "---------------------------------------------------\n",
      "Count vect, multi NB regression\n",
      "---------------------------------------------------\n",
      "0.847 ngram (2, 2)\n",
      "---------------------------------------------------\n",
      "Count vect, Logistic Regression\n",
      "---------------------------------------------------\n",
      "0.93 ngram (2, 2)\n",
      "---------------------------------------------------\n",
      "Count vect, SVC\n",
      "---------------------------------------------------\n",
      "0.935 ngram (2, 2)\n"
     ]
    }
   ],
   "source": [
    "count_vect_score(X_traint, X_testt, y_traint, y_testt, ngrams = (2,2))"
   ]
  },
  {
   "cell_type": "code",
   "execution_count": 112,
   "metadata": {
    "ExecuteTime": {
     "end_time": "2018-05-29T03:35:05.686929Z",
     "start_time": "2018-05-29T03:31:43.939196Z"
    },
    "hidden": true
   },
   "outputs": [
    {
     "name": "stdout",
     "output_type": "stream",
     "text": [
      "---------------------------------------------------\n",
      "Tfidf vect, Decision Tree\n",
      "---------------------------------------------------\n",
      "0.922 ngram (2, 2)\n",
      "---------------------------------------------------\n",
      "Tfidf vect, Random Forest\n",
      "0.864 ngram (2, 2)\n",
      "---------------------------------------------------\n",
      "Tfidf vect, AdaBoostClassifier\n",
      "---------------------------------------------------\n",
      "0.692 ngram (2, 2)\n",
      "---------------------------------------------------\n",
      "Tfidf vect, multi NB regression\n",
      "---------------------------------------------------\n",
      "0.609 ngram (2, 2)\n",
      "---------------------------------------------------\n",
      "Tfidf vect, Logistic Regression\n",
      "---------------------------------------------------\n",
      "0.77 ngram (2, 2)\n",
      "---------------------------------------------------\n",
      "Tfidf vect, SVC\n",
      "---------------------------------------------------\n",
      "0.918 ngram (2, 2)\n"
     ]
    }
   ],
   "source": [
    "tfidf_vect_score(X_traint, X_testt, y_traint, y_testt, ngrams = (2,2))"
   ]
  },
  {
   "cell_type": "markdown",
   "metadata": {},
   "source": [
    "#### Most common words by job title\n",
    "Very interesting findings. Here we are able to see the most common words by job titles. Would love to do more analysis here."
   ]
  },
  {
   "cell_type": "code",
   "execution_count": 134,
   "metadata": {
    "ExecuteTime": {
     "end_time": "2018-05-29T05:20:31.356516Z",
     "start_time": "2018-05-29T05:20:24.964497Z"
    },
    "scrolled": false
   },
   "outputs": [
    {
     "name": "stdout",
     "output_type": "stream",
     "text": [
      "8.dataalyst most common words\n",
      "data            6685\n",
      "analyst         3561\n",
      "business        2698\n",
      "reporting       1161\n",
      "analytics        830\n",
      "management       819\n",
      "services         780\n",
      "advanced         775\n",
      "analysis         771\n",
      "strong           625\n",
      "find             615\n",
      "may              607\n",
      "support          606\n",
      "intelligence     589\n",
      "please           564\n",
      "solutions        562\n",
      "group            527\n",
      "people           516\n",
      "sql              511\n",
      "central          503\n",
      "development      487\n",
      "district         479\n",
      "information      475\n",
      "bi               466\n",
      "across           441\n",
      "client           425\n",
      "within           424\n",
      "specialist       421\n",
      "key              417\n",
      "opportunity      413\n",
      "site             412\n",
      "technical        410\n",
      "tableau          391\n",
      "projects         389\n",
      "application      388\n",
      "marketing        386\n",
      "knowledge        386\n",
      "plan             385\n",
      "systems          378\n",
      "provide          378\n",
      "contract         373\n",
      "quality          372\n",
      "requirements     372\n",
      "years            368\n",
      "using            368\n",
      "reports          365\n",
      "financial        362\n",
      "page             352\n",
      "intend           347\n",
      "michael          334\n",
      "dtype: int64\n",
      "4.business analyst most common words\n",
      "business         3828\n",
      "analyst          2323\n",
      "data             1502\n",
      "technical         599\n",
      "management        511\n",
      "requirements      511\n",
      "analysis          475\n",
      "project           377\n",
      "senior            353\n",
      "advanced          349\n",
      "strong            345\n",
      "please            340\n",
      "projects          332\n",
      "may               329\n",
      "services          323\n",
      "find              316\n",
      "stakeholders      306\n",
      "solutions         305\n",
      "process           304\n",
      "reporting         300\n",
      "development       294\n",
      "ltd               273\n",
      "contract          270\n",
      "pty               265\n",
      "information       260\n",
      "support           256\n",
      "financial         254\n",
      "systems           245\n",
      "application       245\n",
      "page              236\n",
      "agile             235\n",
      "knowledge         235\n",
      "across            232\n",
      "michael           228\n",
      "communication     227\n",
      "opportunity       224\n",
      "processes         223\n",
      "group             222\n",
      "analytics         220\n",
      "within            220\n",
      "customer          216\n",
      "canberra          214\n",
      "bi                208\n",
      "key               206\n",
      "technology        200\n",
      "act               194\n",
      "client            191\n",
      "plan              191\n",
      "design            190\n",
      "environment       190\n",
      "dtype: int64\n",
      "14.sales_acctmgr most common words\n",
      "business         975\n",
      "customer         599\n",
      "account          527\n",
      "technical        487\n",
      "data             482\n",
      "solutions        458\n",
      "customers        426\n",
      "management       405\n",
      "manager          393\n",
      "support          339\n",
      "services         330\n",
      "development      319\n",
      "strong           314\n",
      "engineer         313\n",
      "consultant       310\n",
      "advanced         298\n",
      "knowledge        290\n",
      "service          288\n",
      "industry         281\n",
      "products         279\n",
      "find             274\n",
      "product          270\n",
      "may              269\n",
      "application      259\n",
      "cloud            254\n",
      "security         248\n",
      "within           243\n",
      "opportunities    243\n",
      "systems          235\n",
      "opportunity      233\n",
      "analyst          216\n",
      "enterprise       216\n",
      "provide          214\n",
      "software         213\n",
      "accounts         213\n",
      "years            212\n",
      "based            210\n",
      "people           210\n",
      "plan             209\n",
      "market           204\n",
      "environment      203\n",
      "technology       201\n",
      "key              199\n",
      "clients          197\n",
      "please           196\n",
      "client           195\n",
      "develop          195\n",
      "executive        193\n",
      "marketing        187\n",
      "senior           180\n",
      "dtype: int64\n",
      "3.data_scientist most common words\n",
      "data              3946\n",
      "scientist         1468\n",
      "business           738\n",
      "science            717\n",
      "analytics          709\n",
      "learning           582\n",
      "machine            525\n",
      "advanced           448\n",
      "customer           306\n",
      "consulting         296\n",
      "insights           289\n",
      "python             287\n",
      "development        287\n",
      "find               277\n",
      "senior             276\n",
      "may                270\n",
      "analysis           265\n",
      "big                264\n",
      "please             261\n",
      "solutions          254\n",
      "strong             239\n",
      "models             233\n",
      "application        224\n",
      "opportunity        222\n",
      "projects           213\n",
      "using              208\n",
      "knowledge          205\n",
      "technical          200\n",
      "within             200\n",
      "sql                199\n",
      "information        195\n",
      "statistical        195\n",
      "modelling          192\n",
      "people             183\n",
      "technology         182\n",
      "design             177\n",
      "statistics         176\n",
      "customers          175\n",
      "clients            174\n",
      "resources          172\n",
      "sustainability     172\n",
      "predictive         170\n",
      "techniques         169\n",
      "tools              169\n",
      "environment        169\n",
      "group              167\n",
      "analytical         165\n",
      "large              164\n",
      "leading            164\n",
      "junior             162\n",
      "dtype: int64\n",
      "2.senior_datascience most common words\n",
      "data            2012\n",
      "learning        1001\n",
      "machine          823\n",
      "scientist        587\n",
      "business         566\n",
      "senior           458\n",
      "analytics        398\n",
      "science          378\n",
      "engineer         349\n",
      "digital          321\n",
      "software         315\n",
      "services         294\n",
      "solutions        250\n",
      "technical        248\n",
      "advanced         237\n",
      "strong           223\n",
      "development      223\n",
      "intelligence     216\n",
      "accenture        215\n",
      "customer         212\n",
      "may              210\n",
      "consulting       202\n",
      "find             202\n",
      "knowledge        196\n",
      "artificial       195\n",
      "product          194\n",
      "professional     192\n",
      "cloud            186\n",
      "python           182\n",
      "technology       177\n",
      "leading          175\n",
      "part             174\n",
      "customers        172\n",
      "engineering      165\n",
      "people           164\n",
      "looking          159\n",
      "using            157\n",
      "environment      157\n",
      "opportunity      156\n",
      "platform         156\n",
      "please           155\n",
      "models           153\n",
      "projects         150\n",
      "big              149\n",
      "join             149\n",
      "ai               148\n",
      "analysis         145\n",
      "group            142\n",
      "application      140\n",
      "client           140\n",
      "dtype: int64\n",
      "11.sftware_engineer most common words\n",
      "software        1435\n",
      "engineer         976\n",
      "data             445\n",
      "development      339\n",
      "engineering      300\n",
      "senior           246\n",
      "technology       242\n",
      "solutions        220\n",
      "technical        215\n",
      "systems          210\n",
      "design           206\n",
      "business         192\n",
      "product          190\n",
      "may              181\n",
      "developer        178\n",
      "advanced         170\n",
      "find             169\n",
      "science          161\n",
      "full             159\n",
      "engineers        155\n",
      "application      154\n",
      "technologies     153\n",
      "strong           151\n",
      "world            149\n",
      "computer         147\n",
      "services         143\n",
      "google           142\n",
      "stack            138\n",
      "people           138\n",
      "web              137\n",
      "java             137\n",
      "build            134\n",
      "learning         134\n",
      "looking          132\n",
      "programming      128\n",
      "years            126\n",
      "opportunity      122\n",
      "environment      121\n",
      "develop          119\n",
      "applications     118\n",
      "information      118\n",
      "products         118\n",
      "please           117\n",
      "net              117\n",
      "site             115\n",
      "knowledge        113\n",
      "one              112\n",
      "digital          109\n",
      "high             108\n",
      "building         107\n",
      "dtype: int64\n",
      "6.data_engineer most common words\n",
      "data            2514\n",
      "engineer         926\n",
      "business         401\n",
      "big              260\n",
      "solutions        241\n",
      "analytics        212\n",
      "senior           210\n",
      "spark            198\n",
      "design           198\n",
      "development      198\n",
      "advanced         183\n",
      "services         182\n",
      "software         177\n",
      "technical        176\n",
      "technology       174\n",
      "find             173\n",
      "strong           168\n",
      "technologies     167\n",
      "develop          161\n",
      "systems          152\n",
      "environment      149\n",
      "delivery         145\n",
      "cloud            145\n",
      "may              142\n",
      "engineering      139\n",
      "years            137\n",
      "platform         136\n",
      "across           132\n",
      "well             128\n",
      "management       126\n",
      "projects         125\n",
      "etl              120\n",
      "analyst          120\n",
      "group            118\n",
      "python           117\n",
      "bi               117\n",
      "anz              116\n",
      "sql              115\n",
      "site             112\n",
      "please           109\n",
      "application      107\n",
      "using            106\n",
      "opportunity      106\n",
      "information      105\n",
      "support          105\n",
      "within           105\n",
      "leading          103\n",
      "science          102\n",
      "build            100\n",
      "people            97\n",
      "dtype: int64\n",
      "7.senior_dataalyst most common words\n",
      "data             988\n",
      "senior           755\n",
      "business         665\n",
      "analyst          476\n",
      "intelligence     309\n",
      "analytics        213\n",
      "reporting        213\n",
      "consultant       190\n",
      "solutions        156\n",
      "advanced         150\n",
      "development      147\n",
      "may              143\n",
      "services         142\n",
      "central          133\n",
      "management       129\n",
      "please           128\n",
      "district         126\n",
      "find             125\n",
      "strong           125\n",
      "information      122\n",
      "financial        120\n",
      "opportunity      119\n",
      "bi               118\n",
      "insights         112\n",
      "consulting       110\n",
      "analysis         107\n",
      "highly           105\n",
      "support          102\n",
      "risk              97\n",
      "learning          97\n",
      "application       93\n",
      "clients           93\n",
      "group             92\n",
      "commercial        88\n",
      "stakeholders      87\n",
      "across            86\n",
      "develop           86\n",
      "provide           85\n",
      "key               85\n",
      "industry          85\n",
      "technical         84\n",
      "client            84\n",
      "environment       83\n",
      "people            82\n",
      "within            82\n",
      "azure             82\n",
      "projects          82\n",
      "communication     80\n",
      "machine           80\n",
      "one               79\n",
      "dtype: int64\n",
      "13.analytics most common words\n",
      "analytics       770\n",
      "data            657\n",
      "business        374\n",
      "digital         248\n",
      "solutions       191\n",
      "consultant      184\n",
      "advanced        157\n",
      "development     137\n",
      "tableau         134\n",
      "analyst         132\n",
      "clients         130\n",
      "specialist      128\n",
      "senior          128\n",
      "people          127\n",
      "insights        125\n",
      "marketing       122\n",
      "client          121\n",
      "technical       120\n",
      "product         117\n",
      "support         112\n",
      "manager         107\n",
      "management      104\n",
      "customer        103\n",
      "technology      101\n",
      "may              99\n",
      "find             96\n",
      "key              94\n",
      "group            94\n",
      "across           93\n",
      "microsoft        93\n",
      "tools            93\n",
      "please           92\n",
      "strong           90\n",
      "opportunity      90\n",
      "analysis         88\n",
      "provide          88\n",
      "learning         88\n",
      "best             81\n",
      "performance      81\n",
      "sql              79\n",
      "services         77\n",
      "looking          76\n",
      "world            74\n",
      "using            74\n",
      "knowledge        74\n",
      "within           73\n",
      "stakeholders     73\n",
      "analytical       72\n",
      "one              72\n",
      "deloitte         71\n",
      "dtype: int64\n",
      "12.solutions_architect most common words\n"
     ]
    },
    {
     "name": "stdout",
     "output_type": "stream",
     "text": [
      "architect       672\n",
      "solution        497\n",
      "solutions       466\n",
      "technical       323\n",
      "business        323\n",
      "cloud           244\n",
      "customers       218\n",
      "services        216\n",
      "customer        215\n",
      "data            213\n",
      "aws             176\n",
      "technology      162\n",
      "application     161\n",
      "development     155\n",
      "ai              124\n",
      "enterprise      121\n",
      "architecture    120\n",
      "software        114\n",
      "strong          111\n",
      "google          111\n",
      "technologies    110\n",
      "product         107\n",
      "management       95\n",
      "knowledge        93\n",
      "ibm              91\n",
      "platform         90\n",
      "design           89\n",
      "advanced         86\n",
      "amazon           85\n",
      "requirements     83\n",
      "develop          82\n",
      "consulting       81\n",
      "best             80\n",
      "may              80\n",
      "related          79\n",
      "client           79\n",
      "find             79\n",
      "learning         78\n",
      "teams            77\n",
      "support          76\n",
      "integration      76\n",
      "high             75\n",
      "provide          74\n",
      "information      74\n",
      "database         73\n",
      "site             73\n",
      "pythian          73\n",
      "environment      73\n",
      "please           73\n",
      "industry         71\n",
      "dtype: int64\n",
      "5.bigdata_engineer most common words\n",
      "data            1122\n",
      "big              578\n",
      "engineer         452\n",
      "accenture        183\n",
      "solutions        170\n",
      "digital          152\n",
      "business         147\n",
      "technology       138\n",
      "group            124\n",
      "spark            113\n",
      "hadoop           108\n",
      "architecture     106\n",
      "development      103\n",
      "technical        101\n",
      "platform          99\n",
      "application       97\n",
      "years             95\n",
      "java              92\n",
      "delivery          90\n",
      "anz               88\n",
      "advanced          88\n",
      "people            87\n",
      "design            84\n",
      "services          84\n",
      "senior            83\n",
      "solution          82\n",
      "leading           81\n",
      "scala             80\n",
      "find              79\n",
      "requirements      77\n",
      "technologies      75\n",
      "may               74\n",
      "world             74\n",
      "python            73\n",
      "please            73\n",
      "cloud             72\n",
      "analytics         71\n",
      "strong            71\n",
      "environment       69\n",
      "contract          69\n",
      "distributed       68\n",
      "ltd               68\n",
      "pty               67\n",
      "management        65\n",
      "large             64\n",
      "clients           64\n",
      "project           63\n",
      "manager           61\n",
      "processing        60\n",
      "science           60\n",
      "dtype: int64\n",
      "1.lead_datascience most common words\n",
      "data           1099\n",
      "science         379\n",
      "business        266\n",
      "analytics       238\n",
      "learning        227\n",
      "scientist       219\n",
      "lead            198\n",
      "anz             190\n",
      "machine         155\n",
      "customer        132\n",
      "advanced        115\n",
      "python          110\n",
      "students        108\n",
      "etc             107\n",
      "development     100\n",
      "head             93\n",
      "global           90\n",
      "solutions        89\n",
      "group            86\n",
      "best             85\n",
      "senior           84\n",
      "general          84\n",
      "assembly         84\n",
      "leading          79\n",
      "techniques       78\n",
      "looking          75\n",
      "across           74\n",
      "may              74\n",
      "statistical      73\n",
      "immersive        72\n",
      "find             72\n",
      "chengdu          70\n",
      "banking          70\n",
      "modelling        69\n",
      "strong           67\n",
      "leadership       67\n",
      "scientists       65\n",
      "analysis         65\n",
      "strategic        65\n",
      "community        64\n",
      "digital          63\n",
      "design           63\n",
      "delivery         63\n",
      "high             63\n",
      "statistics       61\n",
      "application      61\n",
      "course           60\n",
      "insights         60\n",
      "sql              60\n",
      "growth           59\n",
      "dtype: int64\n",
      "9.bigdata_consult/archtt most common words\n",
      "data              489\n",
      "big               321\n",
      "architect         207\n",
      "hadoop            154\n",
      "solution          130\n",
      "business          123\n",
      "solutions         116\n",
      "technology        107\n",
      "technical         105\n",
      "aws                90\n",
      "cloud              81\n",
      "development        78\n",
      "design             77\n",
      "application        75\n",
      "analytics          71\n",
      "services           69\n",
      "technologies       66\n",
      "consultant         65\n",
      "may                57\n",
      "senior             56\n",
      "advanced           56\n",
      "platform           54\n",
      "find               53\n",
      "telstra            51\n",
      "strong             50\n",
      "enterprise         49\n",
      "amazon             48\n",
      "years              47\n",
      "consulting         47\n",
      "clients            46\n",
      "implementation     46\n",
      "administrator      46\n",
      "ltd                45\n",
      "understanding      45\n",
      "architecture       43\n",
      "large              42\n",
      "pty                42\n",
      "partners           42\n",
      "partner            41\n",
      "leading            41\n",
      "software           39\n",
      "management         38\n",
      "customer           38\n",
      "systems            36\n",
      "well               36\n",
      "teams              36\n",
      "global             36\n",
      "system             35\n",
      "building           35\n",
      "please             35\n",
      "dtype: int64\n",
      "10.manager_BI/Report most common words\n",
      "business         270\n",
      "data             115\n",
      "intelligence     112\n",
      "manager          111\n",
      "performance       94\n",
      "reporting         94\n",
      "bi                79\n",
      "management        74\n",
      "health            66\n",
      "development       60\n",
      "support           55\n",
      "information       54\n",
      "services          42\n",
      "analysis          39\n",
      "senior            37\n",
      "technology        36\n",
      "may               34\n",
      "people            34\n",
      "delivery          34\n",
      "customer          32\n",
      "page              32\n",
      "uniting           32\n",
      "advanced          31\n",
      "plan              30\n",
      "analytics         30\n",
      "demonstrated      30\n",
      "communication     29\n",
      "find              29\n",
      "within            28\n",
      "analyst           28\n",
      "provide           28\n",
      "key               28\n",
      "application       28\n",
      "michael           28\n",
      "solutions         27\n",
      "strong            27\n",
      "ensure            27\n",
      "international     26\n",
      "strategic         26\n",
      "high              25\n",
      "best              25\n",
      "software          25\n",
      "project           24\n",
      "please            24\n",
      "specsavers        24\n",
      "service           24\n",
      "group             24\n",
      "environment       24\n",
      "executive         24\n",
      "systems           23\n",
      "dtype: int64\n",
      "Other most common words\n",
      "data           11030\n",
      "business       10593\n",
      "management      5857\n",
      "support         5615\n",
      "services        5393\n",
      "analyst         5108\n",
      "development     5050\n",
      "technical       4989\n",
      "engineer        4730\n",
      "senior          4684\n",
      "solutions       4661\n",
      "customer        4321\n",
      "advanced        4165\n",
      "may             4160\n",
      "consultant      3908\n",
      "find            3848\n",
      "strong          3666\n",
      "manager         3578\n",
      "people          3526\n",
      "technology      3482\n",
      "systems         3465\n",
      "project         3421\n",
      "design          3363\n",
      "knowledge       3195\n",
      "site            3119\n",
      "clients         3105\n",
      "service         3065\n",
      "application     3058\n",
      "please          3054\n",
      "group           3030\n",
      "information     2991\n",
      "plan            2974\n",
      "engineering     2945\n",
      "within          2934\n",
      "client          2899\n",
      "opportunity     2897\n",
      "environment     2863\n",
      "provide         2854\n",
      "product         2852\n",
      "across          2736\n",
      "software        2610\n",
      "global          2549\n",
      "customers       2512\n",
      "high            2510\n",
      "analysis        2494\n",
      "projects        2485\n",
      "developer       2464\n",
      "key             2444\n",
      "intend          2413\n",
      "years           2372\n",
      "dtype: int64\n"
     ]
    }
   ],
   "source": [
    "# Lets use the stop_words argument to remove words like \"and, the, a\"\n",
    "cvec = CountVectorizer(analyzer=\"word\",stop_words=stopwords, ngram_range=(1,1))\n",
    "\n",
    "# Transforming our x_train data using our fit cvec.\n",
    "# And converting the result to a DataFrame.\n",
    "cvec_df = pd.DataFrame(cvec.fit_transform(df_title_clean2[\"description\"]).todense(),\n",
    "                       columns=cvec.get_feature_names())\n",
    "\n",
    "# Lets look through some of the categories common words\n",
    "common_words = []\n",
    "for i in titles.values:\n",
    "    word_count = cvec_df[df_title_clean2[\"title_clean\"].values==i].sum(axis=0)\n",
    "    print(i, \"most common words\")\n",
    "    cw = word_count.sort_values(ascending = False).head(50)\n",
    "    print(cw)"
   ]
  },
  {
   "cell_type": "markdown",
   "metadata": {},
   "source": [
    "### Modelling"
   ]
  },
  {
   "cell_type": "markdown",
   "metadata": {},
   "source": [
    "#### Logistic Regression\n",
    "Logistic regression performed well with overall accuracy of 94%. Overall strong classification for most jobs, however there were some jobs that did not perform so well: manager_BI/report, sales_accountmgr"
   ]
  },
  {
   "cell_type": "code",
   "execution_count": 115,
   "metadata": {
    "ExecuteTime": {
     "end_time": "2018-05-29T05:05:46.957582Z",
     "start_time": "2018-05-29T04:57:05.439934Z"
    },
    "scrolled": true
   },
   "outputs": [
    {
     "name": "stdout",
     "output_type": "stream",
     "text": [
      "0.9493223335297584\n",
      "                          precision    recall  f1-score   support\n",
      "\n",
      "      1.lead_datascience       1.00      1.00      1.00        19\n",
      "    10.manager_BI/Report       0.57      0.67      0.62         6\n",
      "     11.sftware_engineer       0.94      0.98      0.96        47\n",
      "  12.solutions_architect       0.88      1.00      0.93        14\n",
      "            13.analytics       0.67      0.95      0.78        19\n",
      "        14.sales_acctmgr       0.73      0.89      0.80        63\n",
      "    2.senior_datascience       0.98      1.00      0.99        45\n",
      "        3.data_scientist       0.99      0.99      0.99        73\n",
      "      4.business analyst       0.95      1.00      0.97        88\n",
      "      5.bigdata_engineer       0.96      1.00      0.98        24\n",
      "         6.data_engineer       0.95      0.97      0.96        38\n",
      "      7.senior_dataalyst       0.97      0.94      0.96        34\n",
      "             8.dataalyst       0.88      0.94      0.91       165\n",
      "9.bigdata_consult/archtt       0.91      1.00      0.95        10\n",
      "                   Other       0.99      0.94      0.96      1052\n",
      "\n",
      "             avg / total       0.95      0.95      0.95      1697\n",
      "\n"
     ]
    }
   ],
   "source": [
    "# Performed grid searchcv on logistic regression which yielded the optimal parameters below\n",
    "\n",
    "cvt      =  CountVectorizer(analyzer=\"word\",stop_words=stopwords, ngram_range=(1,2))\n",
    "X_allt    =  cvt.fit_transform(df_title_clean2[\"description\"])\n",
    "columnst  =  np.array(cvt.get_feature_names())\n",
    "\n",
    "# Train test split\n",
    "X_traint1, X_testt1, y_traint1, y_testt1 = train_test_split(X_allt, df_title_clean2[\"title_clean\"], test_size=0.3)\n",
    "\n",
    "model = LogisticRegression(solver='newton-cg', multi_class='multinomial')\n",
    "model.fit(X_traint1, y_traint1)\n",
    "y_pred = model.predict(X_testt1)\n",
    "print(accuracy_score(y_testt1, y_pred))\n",
    "class_report = classification_report(y_pred,y_testt1)\n",
    "print(class_report)"
   ]
  },
  {
   "cell_type": "code",
   "execution_count": 125,
   "metadata": {
    "ExecuteTime": {
     "end_time": "2018-05-29T05:17:34.604426Z",
     "start_time": "2018-05-29T05:08:35.680657Z"
    }
   },
   "outputs": [
    {
     "name": "stdout",
     "output_type": "stream",
     "text": [
      "0.9493223335297584\n",
      "                          precision    recall  f1-score   support\n",
      "\n",
      "      1.lead_datascience       1.00      1.00      1.00        19\n",
      "    10.manager_BI/Report       0.57      0.67      0.62         6\n",
      "     11.sftware_engineer       0.94      0.98      0.96        47\n",
      "  12.solutions_architect       0.88      1.00      0.93        14\n",
      "            13.analytics       0.67      0.95      0.78        19\n",
      "        14.sales_acctmgr       0.73      0.89      0.80        63\n",
      "    2.senior_datascience       0.98      1.00      0.99        45\n",
      "        3.data_scientist       0.99      0.99      0.99        73\n",
      "      4.business analyst       0.95      1.00      0.97        88\n",
      "      5.bigdata_engineer       0.96      1.00      0.98        24\n",
      "         6.data_engineer       0.95      0.97      0.96        38\n",
      "      7.senior_dataalyst       0.97      0.94      0.96        34\n",
      "             8.dataalyst       0.88      0.94      0.91       165\n",
      "9.bigdata_consult/archtt       0.91      1.00      0.95        10\n",
      "                   Other       0.99      0.94      0.96      1052\n",
      "\n",
      "             avg / total       0.95      0.95      0.95      1697\n",
      "\n"
     ]
    }
   ],
   "source": [
    "model = LogisticRegression(solver='newton-cg', multi_class='multinomial')\n",
    "model.fit(X_traint1, y_traint1)\n",
    "y_pred = model.predict(X_testt1)\n",
    "print(accuracy_score(y_testt1, y_pred))\n",
    "class_report = classification_report(y_pred,y_testt1)\n",
    "print(class_report)"
   ]
  },
  {
   "cell_type": "code",
   "execution_count": 116,
   "metadata": {
    "ExecuteTime": {
     "end_time": "2018-05-29T05:05:47.901580Z",
     "start_time": "2018-05-29T05:05:46.957582Z"
    }
   },
   "outputs": [
    {
     "data": {
      "text/plain": [
       "([<matplotlib.axis.YTick at 0x2c204f716a0>,\n",
       "  <matplotlib.axis.YTick at 0x2c204f84cc0>,\n",
       "  <matplotlib.axis.YTick at 0x2c204f79e10>,\n",
       "  <matplotlib.axis.YTick at 0x2c204541e48>,\n",
       "  <matplotlib.axis.YTick at 0x2c2040f0b38>,\n",
       "  <matplotlib.axis.YTick at 0x2c20411fa58>,\n",
       "  <matplotlib.axis.YTick at 0x2c20452c240>,\n",
       "  <matplotlib.axis.YTick at 0x2c20452cda0>,\n",
       "  <matplotlib.axis.YTick at 0x2c20455b550>,\n",
       "  <matplotlib.axis.YTick at 0x2c20452c390>,\n",
       "  <matplotlib.axis.YTick at 0x2c204558240>,\n",
       "  <matplotlib.axis.YTick at 0x2c2045589b0>,\n",
       "  <matplotlib.axis.YTick at 0x2c20455c160>,\n",
       "  <matplotlib.axis.YTick at 0x2c20455c8d0>,\n",
       "  <matplotlib.axis.YTick at 0x2c20453f080>],\n",
       " <a list of 15 Text yticklabel objects>)"
      ]
     },
     "execution_count": 116,
     "metadata": {},
     "output_type": "execute_result"
    },
    {
     "data": {
      "image/png": "[encoded data removed]",
      "text/plain": [
       "<matplotlib.figure.Figure at 0x2c204fa2710>"
      ]
     },
     "metadata": {},
     "output_type": "display_data"
    }
   ],
   "source": [
    "import numpy as np\n",
    "import matplotlib.pyplot as plt\n",
    "\n",
    "conf = confusion_matrix(y_pred,y_testt1)\n",
    "\n",
    "norm_conf = []\n",
    "for i in conf:\n",
    "    a = 0\n",
    "    tmp_arr = []\n",
    "    a = sum(i, 0)\n",
    "    for j in i:\n",
    "        tmp_arr.append(float(j)/float(a))\n",
    "    norm_conf.append(tmp_arr)\n",
    "\n",
    "fig = plt.figure(figsize=(10,10))\n",
    "plt.clf()\n",
    "ax = fig.add_subplot(111)\n",
    "ax.set_aspect(1)\n",
    "res = ax.imshow(np.array(norm_conf), cmap=plt.cm.jet, \n",
    "                interpolation='nearest')\n",
    "\n",
    "width, height = conf.shape\n",
    "\n",
    "for x in range(width):\n",
    "    for y in range(height):\n",
    "        ax.annotate(str(conf[x][y]), xy=(y, x), \n",
    "                    horizontalalignment='center',\n",
    "                    verticalalignment='center')\n",
    "\n",
    "\n",
    "listx = []\n",
    "for x in titles.sort_values():\n",
    "    listx.append(x)\n",
    "listx \n",
    "\n",
    "\n",
    "cb = fig.colorbar(res)\n",
    "\n",
    "# Resorting job titles to be consistent for plotting\n",
    "\n",
    "\n",
    "alphabet = listx\n",
    "plt.xticks(range(width), alphabet[:width], rotation = 90)\n",
    "plt.yticks(range(height), alphabet[:height])\n",
    "# plt.savefig('confusion_matrix.png', format='png'"
   ]
  },
  {
   "cell_type": "code",
   "execution_count": 117,
   "metadata": {
    "ExecuteTime": {
     "end_time": "2018-05-29T05:05:47.909579Z",
     "start_time": "2018-05-29T05:05:47.901580Z"
    },
    "code_folding": []
   },
   "outputs": [],
   "source": [
    "# Function to return logistic regression coefs\n",
    "\n",
    "def list_important_pred_var(data):\n",
    "    important_pred_var = pd.DataFrame(data, columns = [\"coef\"], index = columnst)\n",
    "    return important_pred_var.sort_values([\"coef\"], ascending = False)[:30]\n",
    "\n",
    "# Function to print out coefs based on role unmber above\n",
    "def role_name_coef(role_num):\n",
    "    print(listx[role_num])\n",
    "    return list_important_pred_var(model.coef_[role_num])"
   ]
  },
  {
   "cell_type": "code",
   "execution_count": 130,
   "metadata": {
    "ExecuteTime": {
     "end_time": "2018-05-29T05:18:43.011462Z",
     "start_time": "2018-05-29T05:18:42.767463Z"
    }
   },
   "outputs": [
    {
     "name": "stdout",
     "output_type": "stream",
     "text": [
      "1.lead_datascience\n"
     ]
    },
    {
     "data": {
      "text/html": [
       "<div>\n",
       "<style scoped>\n",
       "    .dataframe tbody tr th:only-of-type {\n",
       "        vertical-align: middle;\n",
       "    }\n",
       "\n",
       "    .dataframe tbody tr th {\n",
       "        vertical-align: top;\n",
       "    }\n",
       "\n",
       "    .dataframe thead th {\n",
       "        text-align: right;\n",
       "    }\n",
       "</style>\n",
       "<table border=\"1\" class=\"dataframe\">\n",
       "  <thead>\n",
       "    <tr style=\"text-align: right;\">\n",
       "      <th></th>\n",
       "      <th>coef</th>\n",
       "    </tr>\n",
       "  </thead>\n",
       "  <tbody>\n",
       "    <tr>\n",
       "      <th>science</th>\n",
       "      <td>0.254317</td>\n",
       "    </tr>\n",
       "    <tr>\n",
       "      <th>data science</th>\n",
       "      <td>0.246447</td>\n",
       "    </tr>\n",
       "    <tr>\n",
       "      <th>lead</th>\n",
       "      <td>0.193075</td>\n",
       "    </tr>\n",
       "    <tr>\n",
       "      <th>lead data</th>\n",
       "      <td>0.163396</td>\n",
       "    </tr>\n",
       "    <tr>\n",
       "      <th>head</th>\n",
       "      <td>0.130618</td>\n",
       "    </tr>\n",
       "    <tr>\n",
       "      <th>head data</th>\n",
       "      <td>0.129440</td>\n",
       "    </tr>\n",
       "    <tr>\n",
       "      <th>data</th>\n",
       "      <td>0.099758</td>\n",
       "    </tr>\n",
       "    <tr>\n",
       "      <th>error</th>\n",
       "      <td>0.090293</td>\n",
       "    </tr>\n",
       "    <tr>\n",
       "      <th>leadership</th>\n",
       "      <td>0.089912</td>\n",
       "    </tr>\n",
       "    <tr>\n",
       "      <th>customer</th>\n",
       "      <td>0.085428</td>\n",
       "    </tr>\n",
       "    <tr>\n",
       "      <th>learning</th>\n",
       "      <td>0.083539</td>\n",
       "    </tr>\n",
       "    <tr>\n",
       "      <th>data scientist</th>\n",
       "      <td>0.079382</td>\n",
       "    </tr>\n",
       "    <tr>\n",
       "      <th>machine learning</th>\n",
       "      <td>0.078813</td>\n",
       "    </tr>\n",
       "    <tr>\n",
       "      <th>anz</th>\n",
       "      <td>0.076873</td>\n",
       "    </tr>\n",
       "    <tr>\n",
       "      <th>machine</th>\n",
       "      <td>0.076406</td>\n",
       "    </tr>\n",
       "    <tr>\n",
       "      <th>science machine</th>\n",
       "      <td>0.076014</td>\n",
       "    </tr>\n",
       "    <tr>\n",
       "      <th>mckinley</th>\n",
       "      <td>0.073273</td>\n",
       "    </tr>\n",
       "    <tr>\n",
       "      <th>morgan mckinley</th>\n",
       "      <td>0.073273</td>\n",
       "    </tr>\n",
       "    <tr>\n",
       "      <th>morgan</th>\n",
       "      <td>0.072804</td>\n",
       "    </tr>\n",
       "    <tr>\n",
       "      <th>infoready</th>\n",
       "      <td>0.069811</td>\n",
       "    </tr>\n",
       "    <tr>\n",
       "      <th>etc</th>\n",
       "      <td>0.066353</td>\n",
       "    </tr>\n",
       "    <tr>\n",
       "      <th>scientist</th>\n",
       "      <td>0.059845</td>\n",
       "    </tr>\n",
       "    <tr>\n",
       "      <th>advanced lead</th>\n",
       "      <td>0.055122</td>\n",
       "    </tr>\n",
       "    <tr>\n",
       "      <th>scientist leadership</th>\n",
       "      <td>0.052509</td>\n",
       "    </tr>\n",
       "    <tr>\n",
       "      <th>leadership morgan</th>\n",
       "      <td>0.052509</td>\n",
       "    </tr>\n",
       "    <tr>\n",
       "      <th>students</th>\n",
       "      <td>0.052014</td>\n",
       "    </tr>\n",
       "    <tr>\n",
       "      <th>mckinley central</th>\n",
       "      <td>0.049734</td>\n",
       "    </tr>\n",
       "    <tr>\n",
       "      <th>growth</th>\n",
       "      <td>0.048033</td>\n",
       "    </tr>\n",
       "    <tr>\n",
       "      <th>scientist sphere</th>\n",
       "      <td>0.047205</td>\n",
       "    </tr>\n",
       "    <tr>\n",
       "      <th>sphere digital</th>\n",
       "      <td>0.047172</td>\n",
       "    </tr>\n",
       "  </tbody>\n",
       "</table>\n",
       "</div>"
      ],
      "text/plain": [
       "                          coef\n",
       "science               0.254317\n",
       "data science          0.246447\n",
       "lead                  0.193075\n",
       "lead data             0.163396\n",
       "head                  0.130618\n",
       "head data             0.129440\n",
       "data                  0.099758\n",
       "error                 0.090293\n",
       "leadership            0.089912\n",
       "customer              0.085428\n",
       "learning              0.083539\n",
       "data scientist        0.079382\n",
       "machine learning      0.078813\n",
       "anz                   0.076873\n",
       "machine               0.076406\n",
       "science machine       0.076014\n",
       "mckinley              0.073273\n",
       "morgan mckinley       0.073273\n",
       "morgan                0.072804\n",
       "infoready             0.069811\n",
       "etc                   0.066353\n",
       "scientist             0.059845\n",
       "advanced lead         0.055122\n",
       "scientist leadership  0.052509\n",
       "leadership morgan     0.052509\n",
       "students              0.052014\n",
       "mckinley central      0.049734\n",
       "growth                0.048033\n",
       "scientist sphere      0.047205\n",
       "sphere digital        0.047172"
      ]
     },
     "execution_count": 130,
     "metadata": {},
     "output_type": "execute_result"
    }
   ],
   "source": [
    "role_name_coef(0)"
   ]
  },
  {
   "cell_type": "markdown",
   "metadata": {},
   "source": [
    "#### Decision Tree\n",
    "Overall accuracy was really high. Struggled with predicting: manager_BI/report, solutions architect, sales_account manager"
   ]
  },
  {
   "cell_type": "code",
   "execution_count": 119,
   "metadata": {
    "ExecuteTime": {
     "end_time": "2018-05-29T05:06:08.205941Z",
     "start_time": "2018-05-29T05:05:48.145616Z"
    }
   },
   "outputs": [
    {
     "name": "stdout",
     "output_type": "stream",
     "text": [
      "0.928697701826753\n",
      "                          precision    recall  f1-score   support\n",
      "\n",
      "      1.lead_datascience       0.95      1.00      0.97        18\n",
      "    10.manager_BI/Report       0.71      1.00      0.83         5\n",
      "     11.sftware_engineer       0.92      1.00      0.96        45\n",
      "  12.solutions_architect       0.94      0.83      0.88        18\n",
      "            13.analytics       0.67      0.75      0.71        24\n",
      "        14.sales_acctmgr       0.77      0.75      0.76        79\n",
      "    2.senior_datascience       0.93      0.91      0.92        47\n",
      "        3.data_scientist       0.95      0.97      0.96        71\n",
      "      4.business analyst       0.91      1.00      0.96        85\n",
      "      5.bigdata_engineer       0.96      1.00      0.98        24\n",
      "         6.data_engineer       0.97      0.86      0.92        44\n",
      "      7.senior_dataalyst       0.88      0.94      0.91        31\n",
      "             8.dataalyst       0.87      0.92      0.89       166\n",
      "9.bigdata_consult/archtt       0.73      0.67      0.70        12\n",
      "                   Other       0.96      0.94      0.95      1028\n",
      "\n",
      "             avg / total       0.93      0.93      0.93      1697\n",
      "\n",
      "[[ 18   0   0   0   0   0   0   0   0   0   0   0   0   0   0]\n",
      " [  0   5   0   0   0   0   0   0   0   0   0   0   0   0   0]\n",
      " [  0   0  45   0   0   0   0   0   0   0   0   0   0   0   0]\n",
      " [  0   0   0  15   0   0   0   0   0   0   0   0   0   0   3]\n",
      " [  0   0   0   0  18   0   0   0   3   0   0   0   1   0   2]\n",
      " [  0   0   0   0   0  59   0   0   0   0   0   0   1   0  19]\n",
      " [  0   0   0   0   0   0  43   0   1   0   0   0   0   0   3]\n",
      " [  1   0   0   0   0   0   1  69   0   0   0   0   0   0   0]\n",
      " [  0   0   0   0   0   0   0   0  85   0   0   0   0   0   0]\n",
      " [  0   0   0   0   0   0   0   0   0  24   0   0   0   0   0]\n",
      " [  0   0   0   0   0   0   0   1   0   0  38   0   1   0   4]\n",
      " [  0   0   0   0   1   0   0   0   0   0   0  29   1   0   0]\n",
      " [  0   0   0   0   0   2   0   1   0   0   0   4 153   0   6]\n",
      " [  0   0   0   0   0   0   0   0   0   1   0   0   1   8   2]\n",
      " [  0   2   4   1   8  16   2   2   4   0   1   0  18   3 967]]\n"
     ]
    }
   ],
   "source": [
    "model = DecisionTreeClassifier()\n",
    "model.fit(X_traint1, y_traint1)\n",
    "y_pred = model.predict(X_testt1)\n",
    "print(accuracy_score(y_testt1, y_pred))\n",
    "class_report = classification_report(y_pred,y_testt1)\n",
    "print(class_report)\n",
    "print(confusion_matrix(y_pred,y_testt1))"
   ]
  },
  {
   "cell_type": "code",
   "execution_count": 120,
   "metadata": {
    "ExecuteTime": {
     "end_time": "2018-05-29T05:06:08.377573Z",
     "start_time": "2018-05-29T05:06:08.205941Z"
    }
   },
   "outputs": [
    {
     "data": {
      "text/html": [
       "<div>\n",
       "<style scoped>\n",
       "    .dataframe tbody tr th:only-of-type {\n",
       "        vertical-align: middle;\n",
       "    }\n",
       "\n",
       "    .dataframe tbody tr th {\n",
       "        vertical-align: top;\n",
       "    }\n",
       "\n",
       "    .dataframe thead th {\n",
       "        text-align: right;\n",
       "    }\n",
       "</style>\n",
       "<table border=\"1\" class=\"dataframe\">\n",
       "  <thead>\n",
       "    <tr style=\"text-align: right;\">\n",
       "      <th></th>\n",
       "      <th>feature</th>\n",
       "      <th>importance</th>\n",
       "    </tr>\n",
       "  </thead>\n",
       "  <tbody>\n",
       "    <tr>\n",
       "      <th>106035</th>\n",
       "      <td>data</td>\n",
       "      <td>0.120026</td>\n",
       "    </tr>\n",
       "    <tr>\n",
       "      <th>54827</th>\n",
       "      <td>business analyst</td>\n",
       "      <td>0.100943</td>\n",
       "    </tr>\n",
       "    <tr>\n",
       "      <th>106106</th>\n",
       "      <td>data analyst</td>\n",
       "      <td>0.065701</td>\n",
       "    </tr>\n",
       "    <tr>\n",
       "      <th>387252</th>\n",
       "      <td>software engineer</td>\n",
       "      <td>0.053917</td>\n",
       "    </tr>\n",
       "    <tr>\n",
       "      <th>371365</th>\n",
       "      <td>scientist</td>\n",
       "      <td>0.038689</td>\n",
       "    </tr>\n",
       "    <tr>\n",
       "      <th>388087</th>\n",
       "      <td>solution architect</td>\n",
       "      <td>0.030781</td>\n",
       "    </tr>\n",
       "    <tr>\n",
       "      <th>106550</th>\n",
       "      <td>data engineer</td>\n",
       "      <td>0.028222</td>\n",
       "    </tr>\n",
       "    <tr>\n",
       "      <th>353256</th>\n",
       "      <td>reporting analyst</td>\n",
       "      <td>0.024727</td>\n",
       "    </tr>\n",
       "    <tr>\n",
       "      <th>10105</th>\n",
       "      <td>advanced data</td>\n",
       "      <td>0.023332</td>\n",
       "    </tr>\n",
       "    <tr>\n",
       "      <th>47793</th>\n",
       "      <td>big data</td>\n",
       "      <td>0.023247</td>\n",
       "    </tr>\n",
       "    <tr>\n",
       "      <th>2067</th>\n",
       "      <td>account</td>\n",
       "      <td>0.015933</td>\n",
       "    </tr>\n",
       "    <tr>\n",
       "      <th>21799</th>\n",
       "      <td>analytics</td>\n",
       "      <td>0.015431</td>\n",
       "    </tr>\n",
       "    <tr>\n",
       "      <th>376169</th>\n",
       "      <td>senior data</td>\n",
       "      <td>0.013061</td>\n",
       "    </tr>\n",
       "    <tr>\n",
       "      <th>246477</th>\n",
       "      <td>machine</td>\n",
       "      <td>0.012104</td>\n",
       "    </tr>\n",
       "    <tr>\n",
       "      <th>376067</th>\n",
       "      <td>senior</td>\n",
       "      <td>0.011587</td>\n",
       "    </tr>\n",
       "    <tr>\n",
       "      <th>55453</th>\n",
       "      <td>business intelligence</td>\n",
       "      <td>0.009081</td>\n",
       "    </tr>\n",
       "    <tr>\n",
       "      <th>77619</th>\n",
       "      <td>commercial</td>\n",
       "      <td>0.008902</td>\n",
       "    </tr>\n",
       "    <tr>\n",
       "      <th>107415</th>\n",
       "      <td>data science</td>\n",
       "      <td>0.008455</td>\n",
       "    </tr>\n",
       "    <tr>\n",
       "      <th>106238</th>\n",
       "      <td>data business</td>\n",
       "      <td>0.008103</td>\n",
       "    </tr>\n",
       "    <tr>\n",
       "      <th>318388</th>\n",
       "      <td>presales</td>\n",
       "      <td>0.008046</td>\n",
       "    </tr>\n",
       "    <tr>\n",
       "      <th>375727</th>\n",
       "      <td>selling</td>\n",
       "      <td>0.007858</td>\n",
       "    </tr>\n",
       "    <tr>\n",
       "      <th>144788</th>\n",
       "      <td>engineer machine</td>\n",
       "      <td>0.007586</td>\n",
       "    </tr>\n",
       "    <tr>\n",
       "      <th>106110</th>\n",
       "      <td>data analytics</td>\n",
       "      <td>0.007174</td>\n",
       "    </tr>\n",
       "    <tr>\n",
       "      <th>421955</th>\n",
       "      <td>tell</td>\n",
       "      <td>0.006811</td>\n",
       "    </tr>\n",
       "    <tr>\n",
       "      <th>233184</th>\n",
       "      <td>lead data</td>\n",
       "      <td>0.006740</td>\n",
       "    </tr>\n",
       "    <tr>\n",
       "      <th>172210</th>\n",
       "      <td>flow data</td>\n",
       "      <td>0.006329</td>\n",
       "    </tr>\n",
       "    <tr>\n",
       "      <th>19787</th>\n",
       "      <td>analyst</td>\n",
       "      <td>0.006309</td>\n",
       "    </tr>\n",
       "    <tr>\n",
       "      <th>235993</th>\n",
       "      <td>learning</td>\n",
       "      <td>0.006231</td>\n",
       "    </tr>\n",
       "    <tr>\n",
       "      <th>9986</th>\n",
       "      <td>advanced big</td>\n",
       "      <td>0.006140</td>\n",
       "    </tr>\n",
       "    <tr>\n",
       "      <th>371507</th>\n",
       "      <td>scientist machine</td>\n",
       "      <td>0.005795</td>\n",
       "    </tr>\n",
       "    <tr>\n",
       "      <th>134795</th>\n",
       "      <td>earning potential</td>\n",
       "      <td>0.005387</td>\n",
       "    </tr>\n",
       "    <tr>\n",
       "      <th>415569</th>\n",
       "      <td>talk us</td>\n",
       "      <td>0.005042</td>\n",
       "    </tr>\n",
       "    <tr>\n",
       "      <th>251874</th>\n",
       "      <td>manager</td>\n",
       "      <td>0.004865</td>\n",
       "    </tr>\n",
       "    <tr>\n",
       "      <th>328213</th>\n",
       "      <td>profile</td>\n",
       "      <td>0.004793</td>\n",
       "    </tr>\n",
       "    <tr>\n",
       "      <th>125918</th>\n",
       "      <td>direct</td>\n",
       "      <td>0.004769</td>\n",
       "    </tr>\n",
       "    <tr>\n",
       "      <th>193667</th>\n",
       "      <td>head data</td>\n",
       "      <td>0.004498</td>\n",
       "    </tr>\n",
       "    <tr>\n",
       "      <th>47747</th>\n",
       "      <td>big</td>\n",
       "      <td>0.004429</td>\n",
       "    </tr>\n",
       "    <tr>\n",
       "      <th>2767</th>\n",
       "      <td>accounts</td>\n",
       "      <td>0.004414</td>\n",
       "    </tr>\n",
       "    <tr>\n",
       "      <th>144122</th>\n",
       "      <td>engineer</td>\n",
       "      <td>0.004410</td>\n",
       "    </tr>\n",
       "    <tr>\n",
       "      <th>234888</th>\n",
       "      <td>leading data</td>\n",
       "      <td>0.004177</td>\n",
       "    </tr>\n",
       "    <tr>\n",
       "      <th>420766</th>\n",
       "      <td>technology data</td>\n",
       "      <td>0.004166</td>\n",
       "    </tr>\n",
       "    <tr>\n",
       "      <th>265405</th>\n",
       "      <td>migration</td>\n",
       "      <td>0.003866</td>\n",
       "    </tr>\n",
       "    <tr>\n",
       "      <th>344287</th>\n",
       "      <td>real</td>\n",
       "      <td>0.003772</td>\n",
       "    </tr>\n",
       "    <tr>\n",
       "      <th>138704</th>\n",
       "      <td>electronic security</td>\n",
       "      <td>0.003685</td>\n",
       "    </tr>\n",
       "    <tr>\n",
       "      <th>145381</th>\n",
       "      <td>engineering</td>\n",
       "      <td>0.003526</td>\n",
       "    </tr>\n",
       "    <tr>\n",
       "      <th>278196</th>\n",
       "      <td>nlp</td>\n",
       "      <td>0.003326</td>\n",
       "    </tr>\n",
       "    <tr>\n",
       "      <th>81792</th>\n",
       "      <td>competitor</td>\n",
       "      <td>0.003326</td>\n",
       "    </tr>\n",
       "    <tr>\n",
       "      <th>302520</th>\n",
       "      <td>people get</td>\n",
       "      <td>0.003143</td>\n",
       "    </tr>\n",
       "    <tr>\n",
       "      <th>267905</th>\n",
       "      <td>model</td>\n",
       "      <td>0.003135</td>\n",
       "    </tr>\n",
       "    <tr>\n",
       "      <th>411386</th>\n",
       "      <td>sustainable energy</td>\n",
       "      <td>0.003079</td>\n",
       "    </tr>\n",
       "  </tbody>\n",
       "</table>\n",
       "</div>"
      ],
      "text/plain": [
       "                      feature  importance\n",
       "106035                   data    0.120026\n",
       "54827        business analyst    0.100943\n",
       "106106           data analyst    0.065701\n",
       "387252      software engineer    0.053917\n",
       "371365              scientist    0.038689\n",
       "388087     solution architect    0.030781\n",
       "106550          data engineer    0.028222\n",
       "353256      reporting analyst    0.024727\n",
       "10105           advanced data    0.023332\n",
       "47793                big data    0.023247\n",
       "2067                  account    0.015933\n",
       "21799               analytics    0.015431\n",
       "376169            senior data    0.013061\n",
       "246477                machine    0.012104\n",
       "376067                 senior    0.011587\n",
       "55453   business intelligence    0.009081\n",
       "77619              commercial    0.008902\n",
       "107415           data science    0.008455\n",
       "106238          data business    0.008103\n",
       "318388               presales    0.008046\n",
       "375727                selling    0.007858\n",
       "144788       engineer machine    0.007586\n",
       "106110         data analytics    0.007174\n",
       "421955                   tell    0.006811\n",
       "233184              lead data    0.006740\n",
       "172210              flow data    0.006329\n",
       "19787                 analyst    0.006309\n",
       "235993               learning    0.006231\n",
       "9986             advanced big    0.006140\n",
       "371507      scientist machine    0.005795\n",
       "134795      earning potential    0.005387\n",
       "415569                talk us    0.005042\n",
       "251874                manager    0.004865\n",
       "328213                profile    0.004793\n",
       "125918                 direct    0.004769\n",
       "193667              head data    0.004498\n",
       "47747                     big    0.004429\n",
       "2767                 accounts    0.004414\n",
       "144122               engineer    0.004410\n",
       "234888           leading data    0.004177\n",
       "420766        technology data    0.004166\n",
       "265405              migration    0.003866\n",
       "344287                   real    0.003772\n",
       "138704    electronic security    0.003685\n",
       "145381            engineering    0.003526\n",
       "278196                    nlp    0.003326\n",
       "81792              competitor    0.003326\n",
       "302520             people get    0.003143\n",
       "267905                  model    0.003135\n",
       "411386     sustainable energy    0.003079"
      ]
     },
     "execution_count": 120,
     "metadata": {},
     "output_type": "execute_result"
    }
   ],
   "source": [
    "fi = pd.DataFrame({\n",
    "        'feature':columnst,\n",
    "        'importance':model.feature_importances_\n",
    "    })\n",
    "\n",
    "fi.sort_values('importance', ascending=False, inplace=True)\n",
    "fi.head(50)"
   ]
  },
  {
   "cell_type": "code",
   "execution_count": null,
   "metadata": {},
   "outputs": [],
   "source": []
  }
 ],
 "metadata": {
  "kernelspec": {
   "display_name": "Python 3",
   "language": "python",
   "name": "python3"
  },
  "language_info": {
   "codemirror_mode": {
    "name": "ipython",
    "version": 3
   },
   "file_extension": ".py",
   "mimetype": "text/x-python",
   "name": "python",
   "nbconvert_exporter": "python",
   "pygments_lexer": "ipython3",
   "version": "3.6.4"
  },
  "toc": {
   "base_numbering": 1,
   "nav_menu": {
    "height": "399px",
    "width": "279px"
   },
   "number_sections": true,
   "sideBar": true,
   "skip_h1_title": true,
   "title_cell": "Table of Contents",
   "title_sidebar": "Contents",
   "toc_cell": false,
   "toc_position": {},
   "toc_section_display": true,
   "toc_window_display": false
  }
 },
 "nbformat": 4,
 "nbformat_minor": 2
}
